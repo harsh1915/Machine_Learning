{
 "cells": [
  {
   "cell_type": "code",
   "execution_count": 72,
   "metadata": {},
   "outputs": [],
   "source": [
    "import numpy as np\n",
    "import pandas as pd\n",
    "import matplotlib.pyplot as plt"
   ]
  },
  {
   "cell_type": "markdown",
   "metadata": {},
   "source": [
    "***3 libaries are required to preprocess the data***"
   ]
  },
  {
   "cell_type": "markdown",
   "metadata": {},
   "source": [
    "***1.understand/import the dataset***"
   ]
  },
  {
   "cell_type": "markdown",
   "metadata": {},
   "source": [
    "***2.visualize datasets***"
   ]
  },
  {
   "cell_type": "markdown",
   "metadata": {},
   "source": [
    "***3.handling missing/null values***"
   ]
  },
  {
   "cell_type": "markdown",
   "metadata": {},
   "source": [
    "***4.handling outlier***"
   ]
  },
  {
   "cell_type": "markdown",
   "metadata": {},
   "source": [
    "***5.visualize new dataset***"
   ]
  },
  {
   "cell_type": "code",
   "execution_count": 73,
   "metadata": {},
   "outputs": [],
   "source": [
    "df=pd.read_csv(\"Advertising.csv\")"
   ]
  },
  {
   "cell_type": "markdown",
   "metadata": {},
   "source": [
    "# this dataset shows only numberical values,first column name is undefined.\n",
    "# this problem is prediction problem cause columns contains continues values."
   ]
  },
  {
   "cell_type": "code",
   "execution_count": 74,
   "metadata": {},
   "outputs": [
    {
     "data": {
      "text/html": [
       "<div>\n",
       "<style scoped>\n",
       "    .dataframe tbody tr th:only-of-type {\n",
       "        vertical-align: middle;\n",
       "    }\n",
       "\n",
       "    .dataframe tbody tr th {\n",
       "        vertical-align: top;\n",
       "    }\n",
       "\n",
       "    .dataframe thead th {\n",
       "        text-align: right;\n",
       "    }\n",
       "</style>\n",
       "<table border=\"1\" class=\"dataframe\">\n",
       "  <thead>\n",
       "    <tr style=\"text-align: right;\">\n",
       "      <th></th>\n",
       "      <th>Unnamed: 0</th>\n",
       "      <th>TV</th>\n",
       "      <th>radio</th>\n",
       "      <th>newspaper</th>\n",
       "      <th>sales</th>\n",
       "    </tr>\n",
       "  </thead>\n",
       "  <tbody>\n",
       "    <tr>\n",
       "      <th>0</th>\n",
       "      <td>1</td>\n",
       "      <td>230.1</td>\n",
       "      <td>37.8</td>\n",
       "      <td>69.2</td>\n",
       "      <td>22.1</td>\n",
       "    </tr>\n",
       "    <tr>\n",
       "      <th>1</th>\n",
       "      <td>2</td>\n",
       "      <td>44.5</td>\n",
       "      <td>39.3</td>\n",
       "      <td>45.1</td>\n",
       "      <td>10.4</td>\n",
       "    </tr>\n",
       "    <tr>\n",
       "      <th>2</th>\n",
       "      <td>3</td>\n",
       "      <td>17.2</td>\n",
       "      <td>45.9</td>\n",
       "      <td>69.3</td>\n",
       "      <td>9.3</td>\n",
       "    </tr>\n",
       "    <tr>\n",
       "      <th>3</th>\n",
       "      <td>4</td>\n",
       "      <td>151.5</td>\n",
       "      <td>41.3</td>\n",
       "      <td>58.5</td>\n",
       "      <td>18.5</td>\n",
       "    </tr>\n",
       "    <tr>\n",
       "      <th>4</th>\n",
       "      <td>5</td>\n",
       "      <td>180.8</td>\n",
       "      <td>10.8</td>\n",
       "      <td>58.4</td>\n",
       "      <td>12.9</td>\n",
       "    </tr>\n",
       "    <tr>\n",
       "      <th>...</th>\n",
       "      <td>...</td>\n",
       "      <td>...</td>\n",
       "      <td>...</td>\n",
       "      <td>...</td>\n",
       "      <td>...</td>\n",
       "    </tr>\n",
       "    <tr>\n",
       "      <th>195</th>\n",
       "      <td>196</td>\n",
       "      <td>38.2</td>\n",
       "      <td>3.7</td>\n",
       "      <td>13.8</td>\n",
       "      <td>7.6</td>\n",
       "    </tr>\n",
       "    <tr>\n",
       "      <th>196</th>\n",
       "      <td>197</td>\n",
       "      <td>94.2</td>\n",
       "      <td>4.9</td>\n",
       "      <td>8.1</td>\n",
       "      <td>9.7</td>\n",
       "    </tr>\n",
       "    <tr>\n",
       "      <th>197</th>\n",
       "      <td>198</td>\n",
       "      <td>177.0</td>\n",
       "      <td>9.3</td>\n",
       "      <td>6.4</td>\n",
       "      <td>12.8</td>\n",
       "    </tr>\n",
       "    <tr>\n",
       "      <th>198</th>\n",
       "      <td>199</td>\n",
       "      <td>283.6</td>\n",
       "      <td>42.0</td>\n",
       "      <td>66.2</td>\n",
       "      <td>25.5</td>\n",
       "    </tr>\n",
       "    <tr>\n",
       "      <th>199</th>\n",
       "      <td>200</td>\n",
       "      <td>232.1</td>\n",
       "      <td>8.6</td>\n",
       "      <td>8.7</td>\n",
       "      <td>13.4</td>\n",
       "    </tr>\n",
       "  </tbody>\n",
       "</table>\n",
       "<p>200 rows × 5 columns</p>\n",
       "</div>"
      ],
      "text/plain": [
       "     Unnamed: 0     TV  radio  newspaper  sales\n",
       "0             1  230.1   37.8       69.2   22.1\n",
       "1             2   44.5   39.3       45.1   10.4\n",
       "2             3   17.2   45.9       69.3    9.3\n",
       "3             4  151.5   41.3       58.5   18.5\n",
       "4             5  180.8   10.8       58.4   12.9\n",
       "..          ...    ...    ...        ...    ...\n",
       "195         196   38.2    3.7       13.8    7.6\n",
       "196         197   94.2    4.9        8.1    9.7\n",
       "197         198  177.0    9.3        6.4   12.8\n",
       "198         199  283.6   42.0       66.2   25.5\n",
       "199         200  232.1    8.6        8.7   13.4\n",
       "\n",
       "[200 rows x 5 columns]"
      ]
     },
     "execution_count": 74,
     "metadata": {},
     "output_type": "execute_result"
    }
   ],
   "source": [
    "df"
   ]
  },
  {
   "cell_type": "code",
   "execution_count": 75,
   "metadata": {},
   "outputs": [
    {
     "data": {
      "text/plain": [
       "Index(['Unnamed: 0', 'TV', 'radio', 'newspaper', 'sales'], dtype='object')"
      ]
     },
     "execution_count": 75,
     "metadata": {},
     "output_type": "execute_result"
    }
   ],
   "source": [
    "df.columns"
   ]
  },
  {
   "cell_type": "code",
   "execution_count": 76,
   "metadata": {},
   "outputs": [
    {
     "data": {
      "text/html": [
       "<div>\n",
       "<style scoped>\n",
       "    .dataframe tbody tr th:only-of-type {\n",
       "        vertical-align: middle;\n",
       "    }\n",
       "\n",
       "    .dataframe tbody tr th {\n",
       "        vertical-align: top;\n",
       "    }\n",
       "\n",
       "    .dataframe thead th {\n",
       "        text-align: right;\n",
       "    }\n",
       "</style>\n",
       "<table border=\"1\" class=\"dataframe\">\n",
       "  <thead>\n",
       "    <tr style=\"text-align: right;\">\n",
       "      <th></th>\n",
       "      <th>Unnamed: 0</th>\n",
       "      <th>TV</th>\n",
       "      <th>radio</th>\n",
       "      <th>newspaper</th>\n",
       "      <th>sales</th>\n",
       "    </tr>\n",
       "  </thead>\n",
       "  <tbody>\n",
       "    <tr>\n",
       "      <th>count</th>\n",
       "      <td>200.000000</td>\n",
       "      <td>200.000000</td>\n",
       "      <td>200.000000</td>\n",
       "      <td>200.000000</td>\n",
       "      <td>200.000000</td>\n",
       "    </tr>\n",
       "    <tr>\n",
       "      <th>mean</th>\n",
       "      <td>100.500000</td>\n",
       "      <td>147.042500</td>\n",
       "      <td>23.264000</td>\n",
       "      <td>30.554000</td>\n",
       "      <td>14.022500</td>\n",
       "    </tr>\n",
       "    <tr>\n",
       "      <th>std</th>\n",
       "      <td>57.879185</td>\n",
       "      <td>85.854236</td>\n",
       "      <td>14.846809</td>\n",
       "      <td>21.778621</td>\n",
       "      <td>5.217457</td>\n",
       "    </tr>\n",
       "    <tr>\n",
       "      <th>min</th>\n",
       "      <td>1.000000</td>\n",
       "      <td>0.700000</td>\n",
       "      <td>0.000000</td>\n",
       "      <td>0.300000</td>\n",
       "      <td>1.600000</td>\n",
       "    </tr>\n",
       "    <tr>\n",
       "      <th>25%</th>\n",
       "      <td>50.750000</td>\n",
       "      <td>74.375000</td>\n",
       "      <td>9.975000</td>\n",
       "      <td>12.750000</td>\n",
       "      <td>10.375000</td>\n",
       "    </tr>\n",
       "    <tr>\n",
       "      <th>50%</th>\n",
       "      <td>100.500000</td>\n",
       "      <td>149.750000</td>\n",
       "      <td>22.900000</td>\n",
       "      <td>25.750000</td>\n",
       "      <td>12.900000</td>\n",
       "    </tr>\n",
       "    <tr>\n",
       "      <th>75%</th>\n",
       "      <td>150.250000</td>\n",
       "      <td>218.825000</td>\n",
       "      <td>36.525000</td>\n",
       "      <td>45.100000</td>\n",
       "      <td>17.400000</td>\n",
       "    </tr>\n",
       "    <tr>\n",
       "      <th>max</th>\n",
       "      <td>200.000000</td>\n",
       "      <td>296.400000</td>\n",
       "      <td>49.600000</td>\n",
       "      <td>114.000000</td>\n",
       "      <td>27.000000</td>\n",
       "    </tr>\n",
       "  </tbody>\n",
       "</table>\n",
       "</div>"
      ],
      "text/plain": [
       "       Unnamed: 0          TV       radio   newspaper       sales\n",
       "count  200.000000  200.000000  200.000000  200.000000  200.000000\n",
       "mean   100.500000  147.042500   23.264000   30.554000   14.022500\n",
       "std     57.879185   85.854236   14.846809   21.778621    5.217457\n",
       "min      1.000000    0.700000    0.000000    0.300000    1.600000\n",
       "25%     50.750000   74.375000    9.975000   12.750000   10.375000\n",
       "50%    100.500000  149.750000   22.900000   25.750000   12.900000\n",
       "75%    150.250000  218.825000   36.525000   45.100000   17.400000\n",
       "max    200.000000  296.400000   49.600000  114.000000   27.000000"
      ]
     },
     "execution_count": 76,
     "metadata": {},
     "output_type": "execute_result"
    }
   ],
   "source": [
    "df.describe()"
   ]
  },
  {
   "cell_type": "code",
   "execution_count": 77,
   "metadata": {},
   "outputs": [],
   "source": [
    "df.drop(columns=[\"Unnamed: 0\"],inplace=True)"
   ]
  },
  {
   "cell_type": "code",
   "execution_count": 78,
   "metadata": {},
   "outputs": [
    {
     "data": {
      "text/plain": [
       "(200, 4)"
      ]
     },
     "execution_count": 78,
     "metadata": {},
     "output_type": "execute_result"
    }
   ],
   "source": [
    "df.shape"
   ]
  },
  {
   "cell_type": "code",
   "execution_count": 79,
   "metadata": {},
   "outputs": [
    {
     "data": {
      "text/plain": [
       "800"
      ]
     },
     "execution_count": 79,
     "metadata": {},
     "output_type": "execute_result"
    }
   ],
   "source": [
    "df.size"
   ]
  },
  {
   "cell_type": "code",
   "execution_count": 80,
   "metadata": {},
   "outputs": [
    {
     "name": "stdout",
     "output_type": "stream",
     "text": [
      "<class 'pandas.core.frame.DataFrame'>\n",
      "RangeIndex: 200 entries, 0 to 199\n",
      "Data columns (total 4 columns):\n",
      " #   Column     Non-Null Count  Dtype  \n",
      "---  ------     --------------  -----  \n",
      " 0   TV         200 non-null    float64\n",
      " 1   radio      200 non-null    float64\n",
      " 2   newspaper  200 non-null    float64\n",
      " 3   sales      200 non-null    float64\n",
      "dtypes: float64(4)\n",
      "memory usage: 6.4 KB\n"
     ]
    }
   ],
   "source": [
    "df.info()"
   ]
  },
  {
   "cell_type": "code",
   "execution_count": 81,
   "metadata": {},
   "outputs": [
    {
     "data": {
      "text/html": [
       "<div>\n",
       "<style scoped>\n",
       "    .dataframe tbody tr th:only-of-type {\n",
       "        vertical-align: middle;\n",
       "    }\n",
       "\n",
       "    .dataframe tbody tr th {\n",
       "        vertical-align: top;\n",
       "    }\n",
       "\n",
       "    .dataframe thead th {\n",
       "        text-align: right;\n",
       "    }\n",
       "</style>\n",
       "<table border=\"1\" class=\"dataframe\">\n",
       "  <thead>\n",
       "    <tr style=\"text-align: right;\">\n",
       "      <th></th>\n",
       "      <th>TV</th>\n",
       "      <th>radio</th>\n",
       "      <th>newspaper</th>\n",
       "      <th>sales</th>\n",
       "    </tr>\n",
       "  </thead>\n",
       "  <tbody>\n",
       "    <tr>\n",
       "      <th>count</th>\n",
       "      <td>200.000000</td>\n",
       "      <td>200.000000</td>\n",
       "      <td>200.000000</td>\n",
       "      <td>200.000000</td>\n",
       "    </tr>\n",
       "    <tr>\n",
       "      <th>mean</th>\n",
       "      <td>147.042500</td>\n",
       "      <td>23.264000</td>\n",
       "      <td>30.554000</td>\n",
       "      <td>14.022500</td>\n",
       "    </tr>\n",
       "    <tr>\n",
       "      <th>std</th>\n",
       "      <td>85.854236</td>\n",
       "      <td>14.846809</td>\n",
       "      <td>21.778621</td>\n",
       "      <td>5.217457</td>\n",
       "    </tr>\n",
       "    <tr>\n",
       "      <th>min</th>\n",
       "      <td>0.700000</td>\n",
       "      <td>0.000000</td>\n",
       "      <td>0.300000</td>\n",
       "      <td>1.600000</td>\n",
       "    </tr>\n",
       "    <tr>\n",
       "      <th>25%</th>\n",
       "      <td>74.375000</td>\n",
       "      <td>9.975000</td>\n",
       "      <td>12.750000</td>\n",
       "      <td>10.375000</td>\n",
       "    </tr>\n",
       "    <tr>\n",
       "      <th>50%</th>\n",
       "      <td>149.750000</td>\n",
       "      <td>22.900000</td>\n",
       "      <td>25.750000</td>\n",
       "      <td>12.900000</td>\n",
       "    </tr>\n",
       "    <tr>\n",
       "      <th>75%</th>\n",
       "      <td>218.825000</td>\n",
       "      <td>36.525000</td>\n",
       "      <td>45.100000</td>\n",
       "      <td>17.400000</td>\n",
       "    </tr>\n",
       "    <tr>\n",
       "      <th>max</th>\n",
       "      <td>296.400000</td>\n",
       "      <td>49.600000</td>\n",
       "      <td>114.000000</td>\n",
       "      <td>27.000000</td>\n",
       "    </tr>\n",
       "  </tbody>\n",
       "</table>\n",
       "</div>"
      ],
      "text/plain": [
       "               TV       radio   newspaper       sales\n",
       "count  200.000000  200.000000  200.000000  200.000000\n",
       "mean   147.042500   23.264000   30.554000   14.022500\n",
       "std     85.854236   14.846809   21.778621    5.217457\n",
       "min      0.700000    0.000000    0.300000    1.600000\n",
       "25%     74.375000    9.975000   12.750000   10.375000\n",
       "50%    149.750000   22.900000   25.750000   12.900000\n",
       "75%    218.825000   36.525000   45.100000   17.400000\n",
       "max    296.400000   49.600000  114.000000   27.000000"
      ]
     },
     "execution_count": 81,
     "metadata": {},
     "output_type": "execute_result"
    }
   ],
   "source": [
    "df.describe()"
   ]
  },
  {
   "cell_type": "markdown",
   "metadata": {},
   "source": [
    "***this dataset is in normal distribution***"
   ]
  },
  {
   "cell_type": "markdown",
   "metadata": {},
   "source": [
    "***radio is stable***"
   ]
  },
  {
   "cell_type": "code",
   "execution_count": 82,
   "metadata": {},
   "outputs": [],
   "source": [
    "import seaborn as sns"
   ]
  },
  {
   "cell_type": "code",
   "execution_count": 83,
   "metadata": {},
   "outputs": [],
   "source": [
    "columns=[\"TV\",\"radio\",\"newspaper\",\"sales\"]\n"
   ]
  },
  {
   "cell_type": "code",
   "execution_count": 84,
   "metadata": {},
   "outputs": [
    {
     "name": "stderr",
     "output_type": "stream",
     "text": [
      "C:\\Users\\st\\AppData\\Local\\Programs\\Python\\Python39\\lib\\site-packages\\seaborn\\_decorators.py:36: FutureWarning: Pass the following variable as a keyword arg: x. From version 0.12, the only valid positional argument will be `data`, and passing other arguments without an explicit keyword will result in an error or misinterpretation.\n",
      "  warnings.warn(\n"
     ]
    },
    {
     "data": {
      "text/plain": [
       "<AxesSubplot:xlabel='TV'>"
      ]
     },
     "execution_count": 84,
     "metadata": {},
     "output_type": "execute_result"
    },
    {
     "data": {
      "image/png": "[encoded data removed]",
      "text/plain": [
       "<Figure size 432x288 with 1 Axes>"
      ]
     },
     "metadata": {
      "needs_background": "light"
     },
     "output_type": "display_data"
    }
   ],
   "source": [
    "plt.subplot(122)\n",
    "sns.boxplot(df[\"TV\"])"
   ]
  },
  {
   "cell_type": "code",
   "execution_count": 85,
   "metadata": {},
   "outputs": [
    {
     "name": "stderr",
     "output_type": "stream",
     "text": [
      "C:\\Users\\st\\AppData\\Local\\Programs\\Python\\Python39\\lib\\site-packages\\seaborn\\_decorators.py:36: FutureWarning: Pass the following variable as a keyword arg: x. From version 0.12, the only valid positional argument will be `data`, and passing other arguments without an explicit keyword will result in an error or misinterpretation.\n",
      "  warnings.warn(\n"
     ]
    },
    {
     "data": {
      "text/plain": [
       "<AxesSubplot:xlabel='radio'>"
      ]
     },
     "execution_count": 85,
     "metadata": {},
     "output_type": "execute_result"
    },
    {
     "data": {
      "image/png": "[encoded data removed]",
      "text/plain": [
       "<Figure size 432x288 with 1 Axes>"
      ]
     },
     "metadata": {
      "needs_background": "light"
     },
     "output_type": "display_data"
    }
   ],
   "source": [
    "plt.subplot(122)\n",
    "sns.boxplot(df[\"radio\"])"
   ]
  },
  {
   "cell_type": "code",
   "execution_count": 86,
   "metadata": {},
   "outputs": [
    {
     "name": "stderr",
     "output_type": "stream",
     "text": [
      "C:\\Users\\st\\AppData\\Local\\Programs\\Python\\Python39\\lib\\site-packages\\seaborn\\_decorators.py:36: FutureWarning: Pass the following variable as a keyword arg: x. From version 0.12, the only valid positional argument will be `data`, and passing other arguments without an explicit keyword will result in an error or misinterpretation.\n",
      "  warnings.warn(\n"
     ]
    },
    {
     "data": {
      "text/plain": [
       "<AxesSubplot:xlabel='newspaper'>"
      ]
     },
     "execution_count": 86,
     "metadata": {},
     "output_type": "execute_result"
    },
    {
     "data": {
      "image/png": "[encoded data removed]",
      "text/plain": [
       "<Figure size 432x288 with 1 Axes>"
      ]
     },
     "metadata": {
      "needs_background": "light"
     },
     "output_type": "display_data"
    }
   ],
   "source": [
    "plt.subplot(122)\n",
    "sns.boxplot(df[\"newspaper\"])"
   ]
  },
  {
   "cell_type": "code",
   "execution_count": 87,
   "metadata": {},
   "outputs": [
    {
     "name": "stderr",
     "output_type": "stream",
     "text": [
      "C:\\Users\\st\\AppData\\Local\\Programs\\Python\\Python39\\lib\\site-packages\\seaborn\\_decorators.py:36: FutureWarning: Pass the following variable as a keyword arg: x. From version 0.12, the only valid positional argument will be `data`, and passing other arguments without an explicit keyword will result in an error or misinterpretation.\n",
      "  warnings.warn(\n"
     ]
    },
    {
     "data": {
      "text/plain": [
       "<AxesSubplot:xlabel='sales'>"
      ]
     },
     "execution_count": 87,
     "metadata": {},
     "output_type": "execute_result"
    },
    {
     "data": {
      "image/png": "[encoded data removed]",
      "text/plain": [
       "<Figure size 432x288 with 1 Axes>"
      ]
     },
     "metadata": {
      "needs_background": "light"
     },
     "output_type": "display_data"
    }
   ],
   "source": [
    "plt.subplot(122)\n",
    "sns.boxplot(df[\"sales\"])"
   ]
  },
  {
   "cell_type": "code",
   "execution_count": 88,
   "metadata": {},
   "outputs": [
    {
     "data": {
      "text/plain": [
       "<seaborn.axisgrid.PairGrid at 0x2030475c460>"
      ]
     },
     "execution_count": 88,
     "metadata": {},
     "output_type": "execute_result"
    },
    {
     "data": {
      "image/png": "[encoded data removed]",
      "text/plain": [
       "<Figure size 720x720 with 20 Axes>"
      ]
     },
     "metadata": {
      "needs_background": "light"
     },
     "output_type": "display_data"
    }
   ],
   "source": [
    "sns.pairplot(df)"
   ]
  },
  {
   "cell_type": "markdown",
   "metadata": {},
   "source": [
    "***we can see sales and tv have positive correlation***"
   ]
  },
  {
   "cell_type": "code",
   "execution_count": 89,
   "metadata": {},
   "outputs": [
    {
     "data": {
      "text/html": [
       "<div>\n",
       "<style scoped>\n",
       "    .dataframe tbody tr th:only-of-type {\n",
       "        vertical-align: middle;\n",
       "    }\n",
       "\n",
       "    .dataframe tbody tr th {\n",
       "        vertical-align: top;\n",
       "    }\n",
       "\n",
       "    .dataframe thead th {\n",
       "        text-align: right;\n",
       "    }\n",
       "</style>\n",
       "<table border=\"1\" class=\"dataframe\">\n",
       "  <thead>\n",
       "    <tr style=\"text-align: right;\">\n",
       "      <th></th>\n",
       "      <th>TV</th>\n",
       "      <th>radio</th>\n",
       "      <th>newspaper</th>\n",
       "      <th>sales</th>\n",
       "    </tr>\n",
       "  </thead>\n",
       "  <tbody>\n",
       "    <tr>\n",
       "      <th>TV</th>\n",
       "      <td>1.000000</td>\n",
       "      <td>0.054809</td>\n",
       "      <td>0.056648</td>\n",
       "      <td>0.782224</td>\n",
       "    </tr>\n",
       "    <tr>\n",
       "      <th>radio</th>\n",
       "      <td>0.054809</td>\n",
       "      <td>1.000000</td>\n",
       "      <td>0.354104</td>\n",
       "      <td>0.576223</td>\n",
       "    </tr>\n",
       "    <tr>\n",
       "      <th>newspaper</th>\n",
       "      <td>0.056648</td>\n",
       "      <td>0.354104</td>\n",
       "      <td>1.000000</td>\n",
       "      <td>0.228299</td>\n",
       "    </tr>\n",
       "    <tr>\n",
       "      <th>sales</th>\n",
       "      <td>0.782224</td>\n",
       "      <td>0.576223</td>\n",
       "      <td>0.228299</td>\n",
       "      <td>1.000000</td>\n",
       "    </tr>\n",
       "  </tbody>\n",
       "</table>\n",
       "</div>"
      ],
      "text/plain": [
       "                 TV     radio  newspaper     sales\n",
       "TV         1.000000  0.054809   0.056648  0.782224\n",
       "radio      0.054809  1.000000   0.354104  0.576223\n",
       "newspaper  0.056648  0.354104   1.000000  0.228299\n",
       "sales      0.782224  0.576223   0.228299  1.000000"
      ]
     },
     "execution_count": 89,
     "metadata": {},
     "output_type": "execute_result"
    }
   ],
   "source": [
    "df.corr()"
   ]
  },
  {
   "cell_type": "code",
   "execution_count": 90,
   "metadata": {},
   "outputs": [],
   "source": [
    "x=df[[\"TV\",\"radio\"]]"
   ]
  },
  {
   "cell_type": "code",
   "execution_count": 91,
   "metadata": {},
   "outputs": [
    {
     "data": {
      "text/html": [
       "<div>\n",
       "<style scoped>\n",
       "    .dataframe tbody tr th:only-of-type {\n",
       "        vertical-align: middle;\n",
       "    }\n",
       "\n",
       "    .dataframe tbody tr th {\n",
       "        vertical-align: top;\n",
       "    }\n",
       "\n",
       "    .dataframe thead th {\n",
       "        text-align: right;\n",
       "    }\n",
       "</style>\n",
       "<table border=\"1\" class=\"dataframe\">\n",
       "  <thead>\n",
       "    <tr style=\"text-align: right;\">\n",
       "      <th></th>\n",
       "      <th>TV</th>\n",
       "      <th>radio</th>\n",
       "    </tr>\n",
       "  </thead>\n",
       "  <tbody>\n",
       "    <tr>\n",
       "      <th>0</th>\n",
       "      <td>230.1</td>\n",
       "      <td>37.8</td>\n",
       "    </tr>\n",
       "    <tr>\n",
       "      <th>1</th>\n",
       "      <td>44.5</td>\n",
       "      <td>39.3</td>\n",
       "    </tr>\n",
       "    <tr>\n",
       "      <th>2</th>\n",
       "      <td>17.2</td>\n",
       "      <td>45.9</td>\n",
       "    </tr>\n",
       "    <tr>\n",
       "      <th>3</th>\n",
       "      <td>151.5</td>\n",
       "      <td>41.3</td>\n",
       "    </tr>\n",
       "    <tr>\n",
       "      <th>4</th>\n",
       "      <td>180.8</td>\n",
       "      <td>10.8</td>\n",
       "    </tr>\n",
       "    <tr>\n",
       "      <th>...</th>\n",
       "      <td>...</td>\n",
       "      <td>...</td>\n",
       "    </tr>\n",
       "    <tr>\n",
       "      <th>195</th>\n",
       "      <td>38.2</td>\n",
       "      <td>3.7</td>\n",
       "    </tr>\n",
       "    <tr>\n",
       "      <th>196</th>\n",
       "      <td>94.2</td>\n",
       "      <td>4.9</td>\n",
       "    </tr>\n",
       "    <tr>\n",
       "      <th>197</th>\n",
       "      <td>177.0</td>\n",
       "      <td>9.3</td>\n",
       "    </tr>\n",
       "    <tr>\n",
       "      <th>198</th>\n",
       "      <td>283.6</td>\n",
       "      <td>42.0</td>\n",
       "    </tr>\n",
       "    <tr>\n",
       "      <th>199</th>\n",
       "      <td>232.1</td>\n",
       "      <td>8.6</td>\n",
       "    </tr>\n",
       "  </tbody>\n",
       "</table>\n",
       "<p>200 rows × 2 columns</p>\n",
       "</div>"
      ],
      "text/plain": [
       "        TV  radio\n",
       "0    230.1   37.8\n",
       "1     44.5   39.3\n",
       "2     17.2   45.9\n",
       "3    151.5   41.3\n",
       "4    180.8   10.8\n",
       "..     ...    ...\n",
       "195   38.2    3.7\n",
       "196   94.2    4.9\n",
       "197  177.0    9.3\n",
       "198  283.6   42.0\n",
       "199  232.1    8.6\n",
       "\n",
       "[200 rows x 2 columns]"
      ]
     },
     "execution_count": 91,
     "metadata": {},
     "output_type": "execute_result"
    }
   ],
   "source": [
    "x"
   ]
  },
  {
   "cell_type": "code",
   "execution_count": 92,
   "metadata": {},
   "outputs": [],
   "source": [
    "y=df[[\"sales\"]]"
   ]
  },
  {
   "cell_type": "code",
   "execution_count": 93,
   "metadata": {},
   "outputs": [
    {
     "data": {
      "text/html": [
       "<div>\n",
       "<style scoped>\n",
       "    .dataframe tbody tr th:only-of-type {\n",
       "        vertical-align: middle;\n",
       "    }\n",
       "\n",
       "    .dataframe tbody tr th {\n",
       "        vertical-align: top;\n",
       "    }\n",
       "\n",
       "    .dataframe thead th {\n",
       "        text-align: right;\n",
       "    }\n",
       "</style>\n",
       "<table border=\"1\" class=\"dataframe\">\n",
       "  <thead>\n",
       "    <tr style=\"text-align: right;\">\n",
       "      <th></th>\n",
       "      <th>sales</th>\n",
       "    </tr>\n",
       "  </thead>\n",
       "  <tbody>\n",
       "    <tr>\n",
       "      <th>0</th>\n",
       "      <td>22.1</td>\n",
       "    </tr>\n",
       "    <tr>\n",
       "      <th>1</th>\n",
       "      <td>10.4</td>\n",
       "    </tr>\n",
       "    <tr>\n",
       "      <th>2</th>\n",
       "      <td>9.3</td>\n",
       "    </tr>\n",
       "    <tr>\n",
       "      <th>3</th>\n",
       "      <td>18.5</td>\n",
       "    </tr>\n",
       "    <tr>\n",
       "      <th>4</th>\n",
       "      <td>12.9</td>\n",
       "    </tr>\n",
       "    <tr>\n",
       "      <th>...</th>\n",
       "      <td>...</td>\n",
       "    </tr>\n",
       "    <tr>\n",
       "      <th>195</th>\n",
       "      <td>7.6</td>\n",
       "    </tr>\n",
       "    <tr>\n",
       "      <th>196</th>\n",
       "      <td>9.7</td>\n",
       "    </tr>\n",
       "    <tr>\n",
       "      <th>197</th>\n",
       "      <td>12.8</td>\n",
       "    </tr>\n",
       "    <tr>\n",
       "      <th>198</th>\n",
       "      <td>25.5</td>\n",
       "    </tr>\n",
       "    <tr>\n",
       "      <th>199</th>\n",
       "      <td>13.4</td>\n",
       "    </tr>\n",
       "  </tbody>\n",
       "</table>\n",
       "<p>200 rows × 1 columns</p>\n",
       "</div>"
      ],
      "text/plain": [
       "     sales\n",
       "0     22.1\n",
       "1     10.4\n",
       "2      9.3\n",
       "3     18.5\n",
       "4     12.9\n",
       "..     ...\n",
       "195    7.6\n",
       "196    9.7\n",
       "197   12.8\n",
       "198   25.5\n",
       "199   13.4\n",
       "\n",
       "[200 rows x 1 columns]"
      ]
     },
     "execution_count": 93,
     "metadata": {},
     "output_type": "execute_result"
    }
   ],
   "source": [
    "y"
   ]
  },
  {
   "cell_type": "code",
   "execution_count": 94,
   "metadata": {},
   "outputs": [],
   "source": [
    "from sklearn.preprocessing import PolynomialFeatures\n",
    "pol=PolynomialFeatures(2,include_bias=False)\n",
    "x_pol=pol.fit(x).transform(x)"
   ]
  },
  {
   "cell_type": "code",
   "execution_count": 95,
   "metadata": {},
   "outputs": [
    {
     "data": {
      "text/plain": [
       "array([[2.301000e+02, 3.780000e+01, 5.294601e+04, 8.697780e+03,\n",
       "        1.428840e+03],\n",
       "       [4.450000e+01, 3.930000e+01, 1.980250e+03, 1.748850e+03,\n",
       "        1.544490e+03],\n",
       "       [1.720000e+01, 4.590000e+01, 2.958400e+02, 7.894800e+02,\n",
       "        2.106810e+03],\n",
       "       [1.515000e+02, 4.130000e+01, 2.295225e+04, 6.256950e+03,\n",
       "        1.705690e+03],\n",
       "       [1.808000e+02, 1.080000e+01, 3.268864e+04, 1.952640e+03,\n",
       "        1.166400e+02],\n",
       "       [8.700000e+00, 4.890000e+01, 7.569000e+01, 4.254300e+02,\n",
       "        2.391210e+03],\n",
       "       [5.750000e+01, 3.280000e+01, 3.306250e+03, 1.886000e+03,\n",
       "        1.075840e+03],\n",
       "       [1.202000e+02, 1.960000e+01, 1.444804e+04, 2.355920e+03,\n",
       "        3.841600e+02],\n",
       "       [8.600000e+00, 2.100000e+00, 7.396000e+01, 1.806000e+01,\n",
       "        4.410000e+00],\n",
       "       [1.998000e+02, 2.600000e+00, 3.992004e+04, 5.194800e+02,\n",
       "        6.760000e+00],\n",
       "       [6.610000e+01, 5.800000e+00, 4.369210e+03, 3.833800e+02,\n",
       "        3.364000e+01],\n",
       "       [2.147000e+02, 2.400000e+01, 4.609609e+04, 5.152800e+03,\n",
       "        5.760000e+02],\n",
       "       [2.380000e+01, 3.510000e+01, 5.664400e+02, 8.353800e+02,\n",
       "        1.232010e+03],\n",
       "       [9.750000e+01, 7.600000e+00, 9.506250e+03, 7.410000e+02,\n",
       "        5.776000e+01],\n",
       "       [2.041000e+02, 3.290000e+01, 4.165681e+04, 6.714890e+03,\n",
       "        1.082410e+03],\n",
       "       [1.954000e+02, 4.770000e+01, 3.818116e+04, 9.320580e+03,\n",
       "        2.275290e+03],\n",
       "       [6.780000e+01, 3.660000e+01, 4.596840e+03, 2.481480e+03,\n",
       "        1.339560e+03],\n",
       "       [2.814000e+02, 3.960000e+01, 7.918596e+04, 1.114344e+04,\n",
       "        1.568160e+03],\n",
       "       [6.920000e+01, 2.050000e+01, 4.788640e+03, 1.418600e+03,\n",
       "        4.202500e+02],\n",
       "       [1.473000e+02, 2.390000e+01, 2.169729e+04, 3.520470e+03,\n",
       "        5.712100e+02],\n",
       "       [2.184000e+02, 2.770000e+01, 4.769856e+04, 6.049680e+03,\n",
       "        7.672900e+02],\n",
       "       [2.374000e+02, 5.100000e+00, 5.635876e+04, 1.210740e+03,\n",
       "        2.601000e+01],\n",
       "       [1.320000e+01, 1.590000e+01, 1.742400e+02, 2.098800e+02,\n",
       "        2.528100e+02],\n",
       "       [2.283000e+02, 1.690000e+01, 5.212089e+04, 3.858270e+03,\n",
       "        2.856100e+02],\n",
       "       [6.230000e+01, 1.260000e+01, 3.881290e+03, 7.849800e+02,\n",
       "        1.587600e+02],\n",
       "       [2.629000e+02, 3.500000e+00, 6.911641e+04, 9.201500e+02,\n",
       "        1.225000e+01],\n",
       "       [1.429000e+02, 2.930000e+01, 2.042041e+04, 4.186970e+03,\n",
       "        8.584900e+02],\n",
       "       [2.401000e+02, 1.670000e+01, 5.764801e+04, 4.009670e+03,\n",
       "        2.788900e+02],\n",
       "       [2.488000e+02, 2.710000e+01, 6.190144e+04, 6.742480e+03,\n",
       "        7.344100e+02],\n",
       "       [7.060000e+01, 1.600000e+01, 4.984360e+03, 1.129600e+03,\n",
       "        2.560000e+02],\n",
       "       [2.929000e+02, 2.830000e+01, 8.579041e+04, 8.289070e+03,\n",
       "        8.008900e+02],\n",
       "       [1.129000e+02, 1.740000e+01, 1.274641e+04, 1.964460e+03,\n",
       "        3.027600e+02],\n",
       "       [9.720000e+01, 1.500000e+00, 9.447840e+03, 1.458000e+02,\n",
       "        2.250000e+00],\n",
       "       [2.656000e+02, 2.000000e+01, 7.054336e+04, 5.312000e+03,\n",
       "        4.000000e+02],\n",
       "       [9.570000e+01, 1.400000e+00, 9.158490e+03, 1.339800e+02,\n",
       "        1.960000e+00],\n",
       "       [2.907000e+02, 4.100000e+00, 8.450649e+04, 1.191870e+03,\n",
       "        1.681000e+01],\n",
       "       [2.669000e+02, 4.380000e+01, 7.123561e+04, 1.169022e+04,\n",
       "        1.918440e+03],\n",
       "       [7.470000e+01, 4.940000e+01, 5.580090e+03, 3.690180e+03,\n",
       "        2.440360e+03],\n",
       "       [4.310000e+01, 2.670000e+01, 1.857610e+03, 1.150770e+03,\n",
       "        7.128900e+02],\n",
       "       [2.280000e+02, 3.770000e+01, 5.198400e+04, 8.595600e+03,\n",
       "        1.421290e+03],\n",
       "       [2.025000e+02, 2.230000e+01, 4.100625e+04, 4.515750e+03,\n",
       "        4.972900e+02],\n",
       "       [1.770000e+02, 3.340000e+01, 3.132900e+04, 5.911800e+03,\n",
       "        1.115560e+03],\n",
       "       [2.936000e+02, 2.770000e+01, 8.620096e+04, 8.132720e+03,\n",
       "        7.672900e+02],\n",
       "       [2.069000e+02, 8.400000e+00, 4.280761e+04, 1.737960e+03,\n",
       "        7.056000e+01],\n",
       "       [2.510000e+01, 2.570000e+01, 6.300100e+02, 6.450700e+02,\n",
       "        6.604900e+02],\n",
       "       [1.751000e+02, 2.250000e+01, 3.066001e+04, 3.939750e+03,\n",
       "        5.062500e+02],\n",
       "       [8.970000e+01, 9.900000e+00, 8.046090e+03, 8.880300e+02,\n",
       "        9.801000e+01],\n",
       "       [2.399000e+02, 4.150000e+01, 5.755201e+04, 9.955850e+03,\n",
       "        1.722250e+03],\n",
       "       [2.272000e+02, 1.580000e+01, 5.161984e+04, 3.589760e+03,\n",
       "        2.496400e+02],\n",
       "       [6.690000e+01, 1.170000e+01, 4.475610e+03, 7.827300e+02,\n",
       "        1.368900e+02],\n",
       "       [1.998000e+02, 3.100000e+00, 3.992004e+04, 6.193800e+02,\n",
       "        9.610000e+00],\n",
       "       [1.004000e+02, 9.600000e+00, 1.008016e+04, 9.638400e+02,\n",
       "        9.216000e+01],\n",
       "       [2.164000e+02, 4.170000e+01, 4.682896e+04, 9.023880e+03,\n",
       "        1.738890e+03],\n",
       "       [1.826000e+02, 4.620000e+01, 3.334276e+04, 8.436120e+03,\n",
       "        2.134440e+03],\n",
       "       [2.627000e+02, 2.880000e+01, 6.901129e+04, 7.565760e+03,\n",
       "        8.294400e+02],\n",
       "       [1.989000e+02, 4.940000e+01, 3.956121e+04, 9.825660e+03,\n",
       "        2.440360e+03],\n",
       "       [7.300000e+00, 2.810000e+01, 5.329000e+01, 2.051300e+02,\n",
       "        7.896100e+02],\n",
       "       [1.362000e+02, 1.920000e+01, 1.855044e+04, 2.615040e+03,\n",
       "        3.686400e+02],\n",
       "       [2.108000e+02, 4.960000e+01, 4.443664e+04, 1.045568e+04,\n",
       "        2.460160e+03],\n",
       "       [2.107000e+02, 2.950000e+01, 4.439449e+04, 6.215650e+03,\n",
       "        8.702500e+02],\n",
       "       [5.350000e+01, 2.000000e+00, 2.862250e+03, 1.070000e+02,\n",
       "        4.000000e+00],\n",
       "       [2.613000e+02, 4.270000e+01, 6.827769e+04, 1.115751e+04,\n",
       "        1.823290e+03],\n",
       "       [2.393000e+02, 1.550000e+01, 5.726449e+04, 3.709150e+03,\n",
       "        2.402500e+02],\n",
       "       [1.027000e+02, 2.960000e+01, 1.054729e+04, 3.039920e+03,\n",
       "        8.761600e+02],\n",
       "       [1.311000e+02, 4.280000e+01, 1.718721e+04, 5.611080e+03,\n",
       "        1.831840e+03],\n",
       "       [6.900000e+01, 9.300000e+00, 4.761000e+03, 6.417000e+02,\n",
       "        8.649000e+01],\n",
       "       [3.150000e+01, 2.460000e+01, 9.922500e+02, 7.749000e+02,\n",
       "        6.051600e+02],\n",
       "       [1.393000e+02, 1.450000e+01, 1.940449e+04, 2.019850e+03,\n",
       "        2.102500e+02],\n",
       "       [2.374000e+02, 2.750000e+01, 5.635876e+04, 6.528500e+03,\n",
       "        7.562500e+02],\n",
       "       [2.168000e+02, 4.390000e+01, 4.700224e+04, 9.517520e+03,\n",
       "        1.927210e+03],\n",
       "       [1.991000e+02, 3.060000e+01, 3.964081e+04, 6.092460e+03,\n",
       "        9.363600e+02],\n",
       "       [1.098000e+02, 1.430000e+01, 1.205604e+04, 1.570140e+03,\n",
       "        2.044900e+02],\n",
       "       [2.680000e+01, 3.300000e+01, 7.182400e+02, 8.844000e+02,\n",
       "        1.089000e+03],\n",
       "       [1.294000e+02, 5.700000e+00, 1.674436e+04, 7.375800e+02,\n",
       "        3.249000e+01],\n",
       "       [2.134000e+02, 2.460000e+01, 4.553956e+04, 5.249640e+03,\n",
       "        6.051600e+02],\n",
       "       [1.690000e+01, 4.370000e+01, 2.856100e+02, 7.385300e+02,\n",
       "        1.909690e+03],\n",
       "       [2.750000e+01, 1.600000e+00, 7.562500e+02, 4.400000e+01,\n",
       "        2.560000e+00],\n",
       "       [1.205000e+02, 2.850000e+01, 1.452025e+04, 3.434250e+03,\n",
       "        8.122500e+02],\n",
       "       [5.400000e+00, 2.990000e+01, 2.916000e+01, 1.614600e+02,\n",
       "        8.940100e+02],\n",
       "       [1.160000e+02, 7.700000e+00, 1.345600e+04, 8.932000e+02,\n",
       "        5.929000e+01],\n",
       "       [7.640000e+01, 2.670000e+01, 5.836960e+03, 2.039880e+03,\n",
       "        7.128900e+02],\n",
       "       [2.398000e+02, 4.100000e+00, 5.750404e+04, 9.831800e+02,\n",
       "        1.681000e+01],\n",
       "       [7.530000e+01, 2.030000e+01, 5.670090e+03, 1.528590e+03,\n",
       "        4.120900e+02],\n",
       "       [6.840000e+01, 4.450000e+01, 4.678560e+03, 3.043800e+03,\n",
       "        1.980250e+03],\n",
       "       [2.135000e+02, 4.300000e+01, 4.558225e+04, 9.180500e+03,\n",
       "        1.849000e+03],\n",
       "       [1.932000e+02, 1.840000e+01, 3.732624e+04, 3.554880e+03,\n",
       "        3.385600e+02],\n",
       "       [7.630000e+01, 2.750000e+01, 5.821690e+03, 2.098250e+03,\n",
       "        7.562500e+02],\n",
       "       [1.107000e+02, 4.060000e+01, 1.225449e+04, 4.494420e+03,\n",
       "        1.648360e+03],\n",
       "       [8.830000e+01, 2.550000e+01, 7.796890e+03, 2.251650e+03,\n",
       "        6.502500e+02],\n",
       "       [1.098000e+02, 4.780000e+01, 1.205604e+04, 5.248440e+03,\n",
       "        2.284840e+03],\n",
       "       [1.343000e+02, 4.900000e+00, 1.803649e+04, 6.580700e+02,\n",
       "        2.401000e+01],\n",
       "       [2.860000e+01, 1.500000e+00, 8.179600e+02, 4.290000e+01,\n",
       "        2.250000e+00],\n",
       "       [2.177000e+02, 3.350000e+01, 4.739329e+04, 7.292950e+03,\n",
       "        1.122250e+03],\n",
       "       [2.509000e+02, 3.650000e+01, 6.295081e+04, 9.157850e+03,\n",
       "        1.332250e+03],\n",
       "       [1.074000e+02, 1.400000e+01, 1.153476e+04, 1.503600e+03,\n",
       "        1.960000e+02],\n",
       "       [1.633000e+02, 3.160000e+01, 2.666689e+04, 5.160280e+03,\n",
       "        9.985600e+02],\n",
       "       [1.976000e+02, 3.500000e+00, 3.904576e+04, 6.916000e+02,\n",
       "        1.225000e+01],\n",
       "       [1.849000e+02, 2.100000e+01, 3.418801e+04, 3.882900e+03,\n",
       "        4.410000e+02],\n",
       "       [2.897000e+02, 4.230000e+01, 8.392609e+04, 1.225431e+04,\n",
       "        1.789290e+03],\n",
       "       [1.352000e+02, 4.170000e+01, 1.827904e+04, 5.637840e+03,\n",
       "        1.738890e+03],\n",
       "       [2.224000e+02, 4.300000e+00, 4.946176e+04, 9.563200e+02,\n",
       "        1.849000e+01],\n",
       "       [2.964000e+02, 3.630000e+01, 8.785296e+04, 1.075932e+04,\n",
       "        1.317690e+03],\n",
       "       [2.802000e+02, 1.010000e+01, 7.851204e+04, 2.830020e+03,\n",
       "        1.020100e+02],\n",
       "       [1.879000e+02, 1.720000e+01, 3.530641e+04, 3.231880e+03,\n",
       "        2.958400e+02],\n",
       "       [2.382000e+02, 3.430000e+01, 5.673924e+04, 8.170260e+03,\n",
       "        1.176490e+03],\n",
       "       [1.379000e+02, 4.640000e+01, 1.901641e+04, 6.398560e+03,\n",
       "        2.152960e+03],\n",
       "       [2.500000e+01, 1.100000e+01, 6.250000e+02, 2.750000e+02,\n",
       "        1.210000e+02],\n",
       "       [9.040000e+01, 3.000000e-01, 8.172160e+03, 2.712000e+01,\n",
       "        9.000000e-02],\n",
       "       [1.310000e+01, 4.000000e-01, 1.716100e+02, 5.240000e+00,\n",
       "        1.600000e-01],\n",
       "       [2.554000e+02, 2.690000e+01, 6.522916e+04, 6.870260e+03,\n",
       "        7.236100e+02],\n",
       "       [2.258000e+02, 8.200000e+00, 5.098564e+04, 1.851560e+03,\n",
       "        6.724000e+01],\n",
       "       [2.417000e+02, 3.800000e+01, 5.841889e+04, 9.184600e+03,\n",
       "        1.444000e+03],\n",
       "       [1.757000e+02, 1.540000e+01, 3.087049e+04, 2.705780e+03,\n",
       "        2.371600e+02],\n",
       "       [2.096000e+02, 2.060000e+01, 4.393216e+04, 4.317760e+03,\n",
       "        4.243600e+02],\n",
       "       [7.820000e+01, 4.680000e+01, 6.115240e+03, 3.659760e+03,\n",
       "        2.190240e+03],\n",
       "       [7.510000e+01, 3.500000e+01, 5.640010e+03, 2.628500e+03,\n",
       "        1.225000e+03],\n",
       "       [1.392000e+02, 1.430000e+01, 1.937664e+04, 1.990560e+03,\n",
       "        2.044900e+02],\n",
       "       [7.640000e+01, 8.000000e-01, 5.836960e+03, 6.112000e+01,\n",
       "        6.400000e-01],\n",
       "       [1.257000e+02, 3.690000e+01, 1.580049e+04, 4.638330e+03,\n",
       "        1.361610e+03],\n",
       "       [1.940000e+01, 1.600000e+01, 3.763600e+02, 3.104000e+02,\n",
       "        2.560000e+02],\n",
       "       [1.413000e+02, 2.680000e+01, 1.996569e+04, 3.786840e+03,\n",
       "        7.182400e+02],\n",
       "       [1.880000e+01, 2.170000e+01, 3.534400e+02, 4.079600e+02,\n",
       "        4.708900e+02],\n",
       "       [2.240000e+02, 2.400000e+00, 5.017600e+04, 5.376000e+02,\n",
       "        5.760000e+00],\n",
       "       [1.231000e+02, 3.460000e+01, 1.515361e+04, 4.259260e+03,\n",
       "        1.197160e+03],\n",
       "       [2.295000e+02, 3.230000e+01, 5.267025e+04, 7.412850e+03,\n",
       "        1.043290e+03],\n",
       "       [8.720000e+01, 1.180000e+01, 7.603840e+03, 1.028960e+03,\n",
       "        1.392400e+02],\n",
       "       [7.800000e+00, 3.890000e+01, 6.084000e+01, 3.034200e+02,\n",
       "        1.513210e+03],\n",
       "       [8.020000e+01, 0.000000e+00, 6.432040e+03, 0.000000e+00,\n",
       "        0.000000e+00],\n",
       "       [2.203000e+02, 4.900000e+01, 4.853209e+04, 1.079470e+04,\n",
       "        2.401000e+03],\n",
       "       [5.960000e+01, 1.200000e+01, 3.552160e+03, 7.152000e+02,\n",
       "        1.440000e+02],\n",
       "       [7.000000e-01, 3.960000e+01, 4.900000e-01, 2.772000e+01,\n",
       "        1.568160e+03],\n",
       "       [2.652000e+02, 2.900000e+00, 7.033104e+04, 7.690800e+02,\n",
       "        8.410000e+00],\n",
       "       [8.400000e+00, 2.720000e+01, 7.056000e+01, 2.284800e+02,\n",
       "        7.398400e+02],\n",
       "       [2.198000e+02, 3.350000e+01, 4.831204e+04, 7.363300e+03,\n",
       "        1.122250e+03],\n",
       "       [3.690000e+01, 3.860000e+01, 1.361610e+03, 1.424340e+03,\n",
       "        1.489960e+03],\n",
       "       [4.830000e+01, 4.700000e+01, 2.332890e+03, 2.270100e+03,\n",
       "        2.209000e+03],\n",
       "       [2.560000e+01, 3.900000e+01, 6.553600e+02, 9.984000e+02,\n",
       "        1.521000e+03],\n",
       "       [2.737000e+02, 2.890000e+01, 7.491169e+04, 7.909930e+03,\n",
       "        8.352100e+02],\n",
       "       [4.300000e+01, 2.590000e+01, 1.849000e+03, 1.113700e+03,\n",
       "        6.708100e+02],\n",
       "       [1.849000e+02, 4.390000e+01, 3.418801e+04, 8.117110e+03,\n",
       "        1.927210e+03],\n",
       "       [7.340000e+01, 1.700000e+01, 5.387560e+03, 1.247800e+03,\n",
       "        2.890000e+02],\n",
       "       [1.937000e+02, 3.540000e+01, 3.751969e+04, 6.856980e+03,\n",
       "        1.253160e+03],\n",
       "       [2.205000e+02, 3.320000e+01, 4.862025e+04, 7.320600e+03,\n",
       "        1.102240e+03],\n",
       "       [1.046000e+02, 5.700000e+00, 1.094116e+04, 5.962200e+02,\n",
       "        3.249000e+01],\n",
       "       [9.620000e+01, 1.480000e+01, 9.254440e+03, 1.423760e+03,\n",
       "        2.190400e+02],\n",
       "       [1.403000e+02, 1.900000e+00, 1.968409e+04, 2.665700e+02,\n",
       "        3.610000e+00],\n",
       "       [2.401000e+02, 7.300000e+00, 5.764801e+04, 1.752730e+03,\n",
       "        5.329000e+01],\n",
       "       [2.432000e+02, 4.900000e+01, 5.914624e+04, 1.191680e+04,\n",
       "        2.401000e+03],\n",
       "       [3.800000e+01, 4.030000e+01, 1.444000e+03, 1.531400e+03,\n",
       "        1.624090e+03],\n",
       "       [4.470000e+01, 2.580000e+01, 1.998090e+03, 1.153260e+03,\n",
       "        6.656400e+02],\n",
       "       [2.807000e+02, 1.390000e+01, 7.879249e+04, 3.901730e+03,\n",
       "        1.932100e+02],\n",
       "       [1.210000e+02, 8.400000e+00, 1.464100e+04, 1.016400e+03,\n",
       "        7.056000e+01],\n",
       "       [1.976000e+02, 2.330000e+01, 3.904576e+04, 4.604080e+03,\n",
       "        5.428900e+02],\n",
       "       [1.713000e+02, 3.970000e+01, 2.934369e+04, 6.800610e+03,\n",
       "        1.576090e+03],\n",
       "       [1.878000e+02, 2.110000e+01, 3.526884e+04, 3.962580e+03,\n",
       "        4.452100e+02],\n",
       "       [4.100000e+00, 1.160000e+01, 1.681000e+01, 4.756000e+01,\n",
       "        1.345600e+02],\n",
       "       [9.390000e+01, 4.350000e+01, 8.817210e+03, 4.084650e+03,\n",
       "        1.892250e+03],\n",
       "       [1.498000e+02, 1.300000e+00, 2.244004e+04, 1.947400e+02,\n",
       "        1.690000e+00],\n",
       "       [1.170000e+01, 3.690000e+01, 1.368900e+02, 4.317300e+02,\n",
       "        1.361610e+03],\n",
       "       [1.317000e+02, 1.840000e+01, 1.734489e+04, 2.423280e+03,\n",
       "        3.385600e+02],\n",
       "       [1.725000e+02, 1.810000e+01, 2.975625e+04, 3.122250e+03,\n",
       "        3.276100e+02],\n",
       "       [8.570000e+01, 3.580000e+01, 7.344490e+03, 3.068060e+03,\n",
       "        1.281640e+03],\n",
       "       [1.884000e+02, 1.810000e+01, 3.549456e+04, 3.410040e+03,\n",
       "        3.276100e+02],\n",
       "       [1.635000e+02, 3.680000e+01, 2.673225e+04, 6.016800e+03,\n",
       "        1.354240e+03],\n",
       "       [1.172000e+02, 1.470000e+01, 1.373584e+04, 1.722840e+03,\n",
       "        2.160900e+02],\n",
       "       [2.345000e+02, 3.400000e+00, 5.499025e+04, 7.973000e+02,\n",
       "        1.156000e+01],\n",
       "       [1.790000e+01, 3.760000e+01, 3.204100e+02, 6.730400e+02,\n",
       "        1.413760e+03],\n",
       "       [2.068000e+02, 5.200000e+00, 4.276624e+04, 1.075360e+03,\n",
       "        2.704000e+01],\n",
       "       [2.154000e+02, 2.360000e+01, 4.639716e+04, 5.083440e+03,\n",
       "        5.569600e+02],\n",
       "       [2.843000e+02, 1.060000e+01, 8.082649e+04, 3.013580e+03,\n",
       "        1.123600e+02],\n",
       "       [5.000000e+01, 1.160000e+01, 2.500000e+03, 5.800000e+02,\n",
       "        1.345600e+02],\n",
       "       [1.645000e+02, 2.090000e+01, 2.706025e+04, 3.438050e+03,\n",
       "        4.368100e+02],\n",
       "       [1.960000e+01, 2.010000e+01, 3.841600e+02, 3.939600e+02,\n",
       "        4.040100e+02],\n",
       "       [1.684000e+02, 7.100000e+00, 2.835856e+04, 1.195640e+03,\n",
       "        5.041000e+01],\n",
       "       [2.224000e+02, 3.400000e+00, 4.946176e+04, 7.561600e+02,\n",
       "        1.156000e+01],\n",
       "       [2.769000e+02, 4.890000e+01, 7.667361e+04, 1.354041e+04,\n",
       "        2.391210e+03],\n",
       "       [2.484000e+02, 3.020000e+01, 6.170256e+04, 7.501680e+03,\n",
       "        9.120400e+02],\n",
       "       [1.702000e+02, 7.800000e+00, 2.896804e+04, 1.327560e+03,\n",
       "        6.084000e+01],\n",
       "       [2.767000e+02, 2.300000e+00, 7.656289e+04, 6.364100e+02,\n",
       "        5.290000e+00],\n",
       "       [1.656000e+02, 1.000000e+01, 2.742336e+04, 1.656000e+03,\n",
       "        1.000000e+02],\n",
       "       [1.566000e+02, 2.600000e+00, 2.452356e+04, 4.071600e+02,\n",
       "        6.760000e+00],\n",
       "       [2.185000e+02, 5.400000e+00, 4.774225e+04, 1.179900e+03,\n",
       "        2.916000e+01],\n",
       "       [5.620000e+01, 5.700000e+00, 3.158440e+03, 3.203400e+02,\n",
       "        3.249000e+01],\n",
       "       [2.876000e+02, 4.300000e+01, 8.271376e+04, 1.236680e+04,\n",
       "        1.849000e+03],\n",
       "       [2.538000e+02, 2.130000e+01, 6.441444e+04, 5.405940e+03,\n",
       "        4.536900e+02],\n",
       "       [2.050000e+02, 4.510000e+01, 4.202500e+04, 9.245500e+03,\n",
       "        2.034010e+03],\n",
       "       [1.395000e+02, 2.100000e+00, 1.946025e+04, 2.929500e+02,\n",
       "        4.410000e+00],\n",
       "       [1.911000e+02, 2.870000e+01, 3.651921e+04, 5.484570e+03,\n",
       "        8.236900e+02],\n",
       "       [2.860000e+02, 1.390000e+01, 8.179600e+04, 3.975400e+03,\n",
       "        1.932100e+02],\n",
       "       [1.870000e+01, 1.210000e+01, 3.496900e+02, 2.262700e+02,\n",
       "        1.464100e+02],\n",
       "       [3.950000e+01, 4.110000e+01, 1.560250e+03, 1.623450e+03,\n",
       "        1.689210e+03],\n",
       "       [7.550000e+01, 1.080000e+01, 5.700250e+03, 8.154000e+02,\n",
       "        1.166400e+02],\n",
       "       [1.720000e+01, 4.100000e+00, 2.958400e+02, 7.052000e+01,\n",
       "        1.681000e+01],\n",
       "       [1.668000e+02, 4.200000e+01, 2.782224e+04, 7.005600e+03,\n",
       "        1.764000e+03],\n",
       "       [1.497000e+02, 3.560000e+01, 2.241009e+04, 5.329320e+03,\n",
       "        1.267360e+03],\n",
       "       [3.820000e+01, 3.700000e+00, 1.459240e+03, 1.413400e+02,\n",
       "        1.369000e+01],\n",
       "       [9.420000e+01, 4.900000e+00, 8.873640e+03, 4.615800e+02,\n",
       "        2.401000e+01],\n",
       "       [1.770000e+02, 9.300000e+00, 3.132900e+04, 1.646100e+03,\n",
       "        8.649000e+01],\n",
       "       [2.836000e+02, 4.200000e+01, 8.042896e+04, 1.191120e+04,\n",
       "        1.764000e+03],\n",
       "       [2.321000e+02, 8.600000e+00, 5.387041e+04, 1.996060e+03,\n",
       "        7.396000e+01]])"
      ]
     },
     "execution_count": 95,
     "metadata": {},
     "output_type": "execute_result"
    }
   ],
   "source": [
    "x_pol"
   ]
  },
  {
   "cell_type": "markdown",
   "metadata": {},
   "source": [
    "***we considering sales & tv data***"
   ]
  },
  {
   "cell_type": "code",
   "execution_count": 96,
   "metadata": {},
   "outputs": [],
   "source": [
    "from sklearn.model_selection import train_test_split"
   ]
  },
  {
   "cell_type": "code",
   "execution_count": 97,
   "metadata": {},
   "outputs": [],
   "source": [
    "xtrain, xtest, ytrain, ytest = train_test_split(x_pol,y,test_size=0.25,random_state=0)"
   ]
  },
  {
   "cell_type": "code",
   "execution_count": 98,
   "metadata": {},
   "outputs": [
    {
     "data": {
      "text/plain": [
       "(150, 5)"
      ]
     },
     "execution_count": 98,
     "metadata": {},
     "output_type": "execute_result"
    }
   ],
   "source": [
    "xtrain.shape"
   ]
  },
  {
   "cell_type": "code",
   "execution_count": 99,
   "metadata": {},
   "outputs": [
    {
     "data": {
      "text/plain": [
       "(50, 5)"
      ]
     },
     "execution_count": 99,
     "metadata": {},
     "output_type": "execute_result"
    }
   ],
   "source": [
    "xtest.shape"
   ]
  },
  {
   "cell_type": "code",
   "execution_count": 100,
   "metadata": {},
   "outputs": [
    {
     "data": {
      "text/plain": [
       "(150, 1)"
      ]
     },
     "execution_count": 100,
     "metadata": {},
     "output_type": "execute_result"
    }
   ],
   "source": [
    "ytrain.shape"
   ]
  },
  {
   "cell_type": "code",
   "execution_count": 101,
   "metadata": {},
   "outputs": [
    {
     "data": {
      "text/plain": [
       "(50, 1)"
      ]
     },
     "execution_count": 101,
     "metadata": {},
     "output_type": "execute_result"
    }
   ],
   "source": [
    "ytest.shape"
   ]
  },
  {
   "cell_type": "code",
   "execution_count": 102,
   "metadata": {},
   "outputs": [],
   "source": [
    "from sklearn.linear_model import LinearRegression"
   ]
  },
  {
   "cell_type": "code",
   "execution_count": 103,
   "metadata": {},
   "outputs": [],
   "source": [
    "model=LinearRegression(fit_intercept=True)"
   ]
  },
  {
   "cell_type": "markdown",
   "metadata": {},
   "source": [
    "***linear regression parameters***"
   ]
  },
  {
   "cell_type": "code",
   "execution_count": 104,
   "metadata": {},
   "outputs": [
    {
     "data": {
      "text/plain": [
       "LinearRegression()"
      ]
     },
     "execution_count": 104,
     "metadata": {},
     "output_type": "execute_result"
    }
   ],
   "source": [
    "model.fit(xtrain,ytrain)"
   ]
  },
  {
   "cell_type": "code",
   "execution_count": 105,
   "metadata": {},
   "outputs": [
    {
     "data": {
      "text/plain": [
       "array([5.23515686])"
      ]
     },
     "execution_count": 105,
     "metadata": {},
     "output_type": "execute_result"
    }
   ],
   "source": [
    "model.intercept_"
   ]
  },
  {
   "cell_type": "code",
   "execution_count": 106,
   "metadata": {},
   "outputs": [
    {
     "data": {
      "text/plain": [
       "array([[ 0.04989176,  0.02692461, -0.000104  ,  0.00104167,  0.00028328]])"
      ]
     },
     "execution_count": 106,
     "metadata": {},
     "output_type": "execute_result"
    }
   ],
   "source": [
    "model.coef_"
   ]
  },
  {
   "cell_type": "code",
   "execution_count": 107,
   "metadata": {},
   "outputs": [
    {
     "data": {
      "text/plain": [
       "array([[10.33837175],\n",
       "       [ 8.42436162],\n",
       "       [ 8.93184075],\n",
       "       [25.37138953],\n",
       "       [12.32425343],\n",
       "       [ 8.20696563],\n",
       "       [ 8.09849338],\n",
       "       [13.25632729],\n",
       "       [ 8.52791687],\n",
       "       [16.61015964],\n",
       "       [24.45975855],\n",
       "       [10.22392613],\n",
       "       [10.99386205],\n",
       "       [15.75887623],\n",
       "       [11.48556815],\n",
       "       [12.82021799],\n",
       "       [17.33521621],\n",
       "       [ 6.8093467 ],\n",
       "       [14.24707418],\n",
       "       [17.44821103],\n",
       "       [25.54563507],\n",
       "       [10.51773153],\n",
       "       [15.63576215],\n",
       "       [13.11764775],\n",
       "       [ 7.77313993],\n",
       "       [15.50834848],\n",
       "       [12.66784669],\n",
       "       [22.51369976],\n",
       "       [11.81898431],\n",
       "       [ 7.97293434],\n",
       "       [12.08954477],\n",
       "       [23.30080791],\n",
       "       [15.53884163],\n",
       "       [22.21806425],\n",
       "       [ 6.59394978],\n",
       "       [ 6.7347266 ],\n",
       "       [ 8.94817792],\n",
       "       [13.21387917],\n",
       "       [13.09092996],\n",
       "       [ 7.03435839],\n",
       "       [ 9.87961153],\n",
       "       [ 8.3445183 ],\n",
       "       [15.63453068],\n",
       "       [16.29616378],\n",
       "       [17.24510256],\n",
       "       [13.47390016],\n",
       "       [ 5.73313779],\n",
       "       [ 8.53550812],\n",
       "       [16.0741698 ],\n",
       "       [10.09971864]])"
      ]
     },
     "execution_count": 107,
     "metadata": {},
     "output_type": "execute_result"
    }
   ],
   "source": [
    "yp=model.predict(xtest)\n",
    "yp"
   ]
  },
  {
   "cell_type": "code",
   "execution_count": 108,
   "metadata": {},
   "outputs": [
    {
     "data": {
      "text/plain": [
       "<matplotlib.collections.PathCollection at 0x203051d53d0>"
      ]
     },
     "execution_count": 108,
     "metadata": {},
     "output_type": "execute_result"
    },
    {
     "data": {
      "image/png": "[encoded data removed]",
      "text/plain": [
       "<Figure size 432x288 with 1 Axes>"
      ]
     },
     "metadata": {
      "needs_background": "light"
     },
     "output_type": "display_data"
    }
   ],
   "source": [
    "plt.scatter(ytest,yp)\n"
   ]
  },
  {
   "cell_type": "code",
   "execution_count": 109,
   "metadata": {},
   "outputs": [],
   "source": [
    "# plt.figure(figsize=[15,5])\n",
    "# ax=sns.displot(ytest,color='r',label='actual values')\n",
    "# sns.displot(yp,color='b',label='predicted values',ax=ax)\n",
    "# plt.title('actual predict vs predicted values')\n",
    "# plt.show()"
   ]
  },
  {
   "cell_type": "code",
   "execution_count": 110,
   "metadata": {},
   "outputs": [],
   "source": [
    "from sklearn.metrics import r2_score,mean_squared_error,mean_absolute_error"
   ]
  },
  {
   "cell_type": "code",
   "execution_count": 111,
   "metadata": {},
   "outputs": [
    {
     "data": {
      "text/plain": [
       "0.9719269857493544"
      ]
     },
     "execution_count": 111,
     "metadata": {},
     "output_type": "execute_result"
    }
   ],
   "source": [
    "r2=r2_score(ytest,yp)\n",
    "r2"
   ]
  },
  {
   "cell_type": "code",
   "execution_count": 112,
   "metadata": {},
   "outputs": [
    {
     "data": {
      "text/plain": [
       "0.7912520554536268"
      ]
     },
     "execution_count": 112,
     "metadata": {},
     "output_type": "execute_result"
    }
   ],
   "source": [
    "mse=mean_squared_error(ytest,yp)\n",
    "mse"
   ]
  },
  {
   "cell_type": "code",
   "execution_count": 113,
   "metadata": {},
   "outputs": [
    {
     "data": {
      "text/plain": [
       "0.5085512629507849"
      ]
     },
     "execution_count": 113,
     "metadata": {},
     "output_type": "execute_result"
    }
   ],
   "source": [
    "mae=mean_absolute_error(ytest,yp)\n",
    "mae"
   ]
  },
  {
   "cell_type": "markdown",
   "metadata": {},
   "source": [
    "***assignment:what is vanshing gradient problem?***"
   ]
  },
  {
   "cell_type": "code",
   "execution_count": 114,
   "metadata": {},
   "outputs": [
    {
     "name": "stderr",
     "output_type": "stream",
     "text": [
      "C:\\Users\\st\\AppData\\Local\\Programs\\Python\\Python39\\lib\\site-packages\\seaborn\\_decorators.py:36: FutureWarning: Pass the following variables as keyword args: x, y. From version 0.12, the only valid positional argument will be `data`, and passing other arguments without an explicit keyword will result in an error or misinterpretation.\n",
      "  warnings.warn(\n"
     ]
    },
    {
     "data": {
      "text/plain": [
       "<AxesSubplot:xlabel='sales'>"
      ]
     },
     "execution_count": 114,
     "metadata": {},
     "output_type": "execute_result"
    },
    {
     "data": {
      "image/png": "[encoded data removed]",
      "text/plain": [
       "<Figure size 432x288 with 1 Axes>"
      ]
     },
     "metadata": {
      "needs_background": "light"
     },
     "output_type": "display_data"
    }
   ],
   "source": [
    "sns.regplot(ytest,yp,line_kws={'color':'red'},ci=None)"
   ]
  },
  {
   "cell_type": "code",
   "execution_count": null,
   "metadata": {},
   "outputs": [],
   "source": []
  },
  {
   "cell_type": "code",
   "execution_count": null,
   "metadata": {},
   "outputs": [],
   "source": []
  },
  {
   "cell_type": "code",
   "execution_count": null,
   "metadata": {},
   "outputs": [],
   "source": []
  },
  {
   "cell_type": "markdown",
   "metadata": {},
   "source": [
    "***how to increase no of dimension  x->x(sequre) y->y(sequre) xy***"
   ]
  },
  {
   "cell_type": "markdown",
   "metadata": {},
   "source": [
    "***linear -> non-linear (polynomiyal)***"
   ]
  },
  {
   "cell_type": "code",
   "execution_count": 115,
   "metadata": {},
   "outputs": [],
   "source": [
    "df1=pd.DataFrame({\"x\":[10,15,25,30],\"y\":[12,16,28,35]})"
   ]
  },
  {
   "cell_type": "code",
   "execution_count": 116,
   "metadata": {},
   "outputs": [
    {
     "data": {
      "text/html": [
       "<div>\n",
       "<style scoped>\n",
       "    .dataframe tbody tr th:only-of-type {\n",
       "        vertical-align: middle;\n",
       "    }\n",
       "\n",
       "    .dataframe tbody tr th {\n",
       "        vertical-align: top;\n",
       "    }\n",
       "\n",
       "    .dataframe thead th {\n",
       "        text-align: right;\n",
       "    }\n",
       "</style>\n",
       "<table border=\"1\" class=\"dataframe\">\n",
       "  <thead>\n",
       "    <tr style=\"text-align: right;\">\n",
       "      <th></th>\n",
       "      <th>x</th>\n",
       "      <th>y</th>\n",
       "    </tr>\n",
       "  </thead>\n",
       "  <tbody>\n",
       "    <tr>\n",
       "      <th>0</th>\n",
       "      <td>10</td>\n",
       "      <td>12</td>\n",
       "    </tr>\n",
       "    <tr>\n",
       "      <th>1</th>\n",
       "      <td>15</td>\n",
       "      <td>16</td>\n",
       "    </tr>\n",
       "    <tr>\n",
       "      <th>2</th>\n",
       "      <td>25</td>\n",
       "      <td>28</td>\n",
       "    </tr>\n",
       "    <tr>\n",
       "      <th>3</th>\n",
       "      <td>30</td>\n",
       "      <td>35</td>\n",
       "    </tr>\n",
       "  </tbody>\n",
       "</table>\n",
       "</div>"
      ],
      "text/plain": [
       "    x   y\n",
       "0  10  12\n",
       "1  15  16\n",
       "2  25  28\n",
       "3  30  35"
      ]
     },
     "execution_count": 116,
     "metadata": {},
     "output_type": "execute_result"
    }
   ],
   "source": [
    "df1"
   ]
  },
  {
   "cell_type": "code",
   "execution_count": 117,
   "metadata": {},
   "outputs": [
    {
     "data": {
      "text/html": [
       "<div>\n",
       "<style scoped>\n",
       "    .dataframe tbody tr th:only-of-type {\n",
       "        vertical-align: middle;\n",
       "    }\n",
       "\n",
       "    .dataframe tbody tr th {\n",
       "        vertical-align: top;\n",
       "    }\n",
       "\n",
       "    .dataframe thead th {\n",
       "        text-align: right;\n",
       "    }\n",
       "</style>\n",
       "<table border=\"1\" class=\"dataframe\">\n",
       "  <thead>\n",
       "    <tr style=\"text-align: right;\">\n",
       "      <th></th>\n",
       "      <th>x</th>\n",
       "      <th>y</th>\n",
       "    </tr>\n",
       "  </thead>\n",
       "  <tbody>\n",
       "    <tr>\n",
       "      <th>0</th>\n",
       "      <td>10</td>\n",
       "      <td>12</td>\n",
       "    </tr>\n",
       "    <tr>\n",
       "      <th>1</th>\n",
       "      <td>15</td>\n",
       "      <td>16</td>\n",
       "    </tr>\n",
       "    <tr>\n",
       "      <th>2</th>\n",
       "      <td>25</td>\n",
       "      <td>28</td>\n",
       "    </tr>\n",
       "    <tr>\n",
       "      <th>3</th>\n",
       "      <td>30</td>\n",
       "      <td>35</td>\n",
       "    </tr>\n",
       "  </tbody>\n",
       "</table>\n",
       "</div>"
      ],
      "text/plain": [
       "    x   y\n",
       "0  10  12\n",
       "1  15  16\n",
       "2  25  28\n",
       "3  30  35"
      ]
     },
     "execution_count": 117,
     "metadata": {},
     "output_type": "execute_result"
    }
   ],
   "source": [
    "a=df1[[\"x\",\"y\"]]\n",
    "a"
   ]
  },
  {
   "cell_type": "code",
   "execution_count": 118,
   "metadata": {},
   "outputs": [],
   "source": [
    "from sklearn.preprocessing import PolynomialFeatures\n",
    "pol=PolynomialFeatures(2,include_bias=False)\n",
    "x_pol1=pol.fit(a).transform(a)"
   ]
  },
  {
   "cell_type": "code",
   "execution_count": 119,
   "metadata": {},
   "outputs": [
    {
     "data": {
      "text/plain": [
       "array([[  10.,   12.,  100.,  120.,  144.],\n",
       "       [  15.,   16.,  225.,  240.,  256.],\n",
       "       [  25.,   28.,  625.,  700.,  784.],\n",
       "       [  30.,   35.,  900., 1050., 1225.]])"
      ]
     },
     "execution_count": 119,
     "metadata": {},
     "output_type": "execute_result"
    }
   ],
   "source": [
    "x_pol1"
   ]
  },
  {
   "cell_type": "code",
   "execution_count": 120,
   "metadata": {},
   "outputs": [
    {
     "data": {
      "image/png": "[encoded data removed]",
      "text/plain": [
       "<Figure size 432x288 with 1 Axes>"
      ]
     },
     "metadata": {
      "needs_background": "light"
     },
     "output_type": "display_data"
    }
   ],
   "source": [
    "plt.scatter(range(1,len(xtest)+1),ytest,c=\"r\")\n",
    "plt.scatter(range(1,len(xtest)+1),yp,c=\"b\")\n",
    "plt.show()"
   ]
  },
  {
   "cell_type": "code",
   "execution_count": 121,
   "metadata": {},
   "outputs": [
    {
     "data": {
      "text/plain": [
       "[sales    1.245217\n",
       " dtype: float64,\n",
       " sales    1.307149\n",
       " dtype: float64,\n",
       " sales    1.235433\n",
       " dtype: float64,\n",
       " sales    1.233076\n",
       " dtype: float64,\n",
       " sales    1.225038\n",
       " dtype: float64]"
      ]
     },
     "execution_count": 121,
     "metadata": {},
     "output_type": "execute_result"
    }
   ],
   "source": [
    "train_error = []\n",
    "test_error = []\n",
    "for i in range(5):\n",
    "    x_train,x_test,y_train,y_test = train_test_split(x,y)\n",
    "\n",
    "    model.fit(x_train,y_train)\n",
    "\n",
    "    ytrainp = model.predict(x_train)\n",
    "    ytestp = model.predict(x_test)\n",
    "\n",
    "    train_error.append(abs(y_train-ytrainp).mean())\n",
    "    test_error.append(abs(y_test-ytestp).mean())\n",
    "train_error"
   ]
  },
  {
   "cell_type": "code",
   "execution_count": 122,
   "metadata": {},
   "outputs": [
    {
     "data": {
      "text/plain": [
       "[sales    1.264428\n",
       " dtype: float64,\n",
       " sales    1.116002\n",
       " dtype: float64,\n",
       " sales    1.356204\n",
       " dtype: float64,\n",
       " sales    1.326259\n",
       " dtype: float64,\n",
       " sales    1.384599\n",
       " dtype: float64]"
      ]
     },
     "execution_count": 122,
     "metadata": {},
     "output_type": "execute_result"
    }
   ],
   "source": [
    "test_error"
   ]
  },
  {
   "cell_type": "code",
   "execution_count": 123,
   "metadata": {},
   "outputs": [
    {
     "name": "stdout",
     "output_type": "stream",
     "text": [
      "1.2491826095695786\n",
      "1.289498290497086\n"
     ]
    }
   ],
   "source": [
    "print(np.array(train_error).mean())\n",
    "print(np.array(test_error).mean())"
   ]
  },
  {
   "cell_type": "code",
   "execution_count": null,
   "metadata": {},
   "outputs": [],
   "source": []
  }
 ],
 "metadata": {
  "interpreter": {
   "hash": "498fe100427aa35d28309f275dc2c43dd019c2494979eb40f69b331b6fb90372"
  },
  "kernelspec": {
   "display_name": "Python 3.9.6 64-bit",
   "name": "python3"
  },
  "language_info": {
   "codemirror_mode": {
    "name": "ipython",
    "version": 3
   },
   "file_extension": ".py",
   "mimetype": "text/x-python",
   "name": "python",
   "nbconvert_exporter": "python",
   "pygments_lexer": "ipython3",
   "version": "3.9.6"
  },
  "orig_nbformat": 4
 },
 "nbformat": 4,
 "nbformat_minor": 2
}
