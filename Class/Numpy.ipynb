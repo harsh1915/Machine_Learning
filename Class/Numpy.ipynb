{
    "cells": [
        {
            "cell_type": "markdown",
            "source": [
                "single dimensional array"
            ],
            "metadata": {}
        },
        {
            "cell_type": "code",
            "execution_count": 56,
            "source": [
                "import numpy as np\r\n",
                "n1=np.array([10,20,30,40])\r\n",
                "print(n1)"
            ],
            "outputs": [
                {
                    "output_type": "stream",
                    "name": "stdout",
                    "text": [
                        "[10 20 30 40]\n"
                    ]
                }
            ],
            "metadata": {}
        },
        {
            "cell_type": "markdown",
            "source": [
                "multi dimensional array"
            ],
            "metadata": {}
        },
        {
            "cell_type": "code",
            "execution_count": 57,
            "source": [
                "n2=np.array([[10,20,30],\r\n",
                "            [40,50,60]])\r\n",
                "print(n2)"
            ],
            "outputs": [
                {
                    "output_type": "stream",
                    "name": "stdout",
                    "text": [
                        "[[10 20 30]\n",
                        " [40 50 60]]\n"
                    ]
                }
            ],
            "metadata": {}
        },
        {
            "cell_type": "markdown",
            "source": [
                "initializ numpy array with zeros"
            ],
            "metadata": {}
        },
        {
            "cell_type": "code",
            "execution_count": 58,
            "source": [
                "n3=np.zeros((1,2))\r\n",
                "print(n3)"
            ],
            "outputs": [
                {
                    "output_type": "stream",
                    "name": "stdout",
                    "text": [
                        "[[0. 0.]]\n"
                    ]
                }
            ],
            "metadata": {}
        },
        {
            "cell_type": "code",
            "execution_count": 59,
            "source": [
                "n4=np.zeros((3,4))\r\n",
                "print(n4)"
            ],
            "outputs": [
                {
                    "output_type": "stream",
                    "name": "stdout",
                    "text": [
                        "[[0. 0. 0. 0.]\n",
                        " [0. 0. 0. 0.]\n",
                        " [0. 0. 0. 0.]]\n"
                    ]
                }
            ],
            "metadata": {}
        },
        {
            "cell_type": "markdown",
            "source": [
                "initializ numpy array with same values"
            ],
            "metadata": {}
        },
        {
            "cell_type": "code",
            "execution_count": 60,
            "source": [
                "n5=np.full((2,3),10)\r\n",
                "print(n5)"
            ],
            "outputs": [
                {
                    "output_type": "stream",
                    "name": "stdout",
                    "text": [
                        "[[10 10 10]\n",
                        " [10 10 10]]\n"
                    ]
                }
            ],
            "metadata": {}
        },
        {
            "cell_type": "markdown",
            "source": [
                "initializ numpy array within a range"
            ],
            "metadata": {}
        },
        {
            "cell_type": "code",
            "execution_count": 61,
            "source": [
                "n6=np.arange(10,20)\r\n",
                "print(n6)"
            ],
            "outputs": [
                {
                    "output_type": "stream",
                    "name": "stdout",
                    "text": [
                        "[10 11 12 13 14 15 16 17 18 19]\n"
                    ]
                }
            ],
            "metadata": {}
        },
        {
            "cell_type": "code",
            "execution_count": 62,
            "source": [
                "n7=np.arange(10,20,2)\r\n",
                "print(n7)"
            ],
            "outputs": [
                {
                    "output_type": "stream",
                    "name": "stdout",
                    "text": [
                        "[10 12 14 16 18]\n"
                    ]
                }
            ],
            "metadata": {}
        },
        {
            "cell_type": "markdown",
            "source": [
                "initializ numpy array with random number"
            ],
            "metadata": {}
        },
        {
            "cell_type": "code",
            "execution_count": 63,
            "source": [
                "n8=np.random.randint(10,30,6)\r\n",
                "print(n8)"
            ],
            "outputs": [
                {
                    "output_type": "stream",
                    "name": "stdout",
                    "text": [
                        "[12 25 10 26 12 29]\n"
                    ]
                }
            ],
            "metadata": {}
        },
        {
            "cell_type": "markdown",
            "source": [
                "checking the shape of numpy array"
            ],
            "metadata": {}
        },
        {
            "cell_type": "code",
            "execution_count": 64,
            "source": [
                "print(n2.shape)"
            ],
            "outputs": [
                {
                    "output_type": "stream",
                    "name": "stdout",
                    "text": [
                        "(2, 3)\n"
                    ]
                }
            ],
            "metadata": {}
        },
        {
            "cell_type": "code",
            "execution_count": 65,
            "source": [
                "n2.shape=(3,2)\r\n",
                "print(n2)"
            ],
            "outputs": [
                {
                    "output_type": "stream",
                    "name": "stdout",
                    "text": [
                        "[[10 20]\n",
                        " [30 40]\n",
                        " [50 60]]\n"
                    ]
                }
            ],
            "metadata": {}
        },
        {
            "cell_type": "code",
            "execution_count": 66,
            "source": [
                "n9=np.array([[10,20,30,40],\r\n",
                "            [50,60,70,80],\r\n",
                "            [10,40,80,90]])\r\n",
                "n10=np.array([[10,40,80,90],\r\n",
                "            [50,60,70,80],\r\n",
                "            [10,20,30,40]])\r\n",
                "print(n9)\r\n",
                "print(n10)"
            ],
            "outputs": [
                {
                    "output_type": "stream",
                    "name": "stdout",
                    "text": [
                        "[[10 20 30 40]\n",
                        " [50 60 70 80]\n",
                        " [10 40 80 90]]\n",
                        "[[10 40 80 90]\n",
                        " [50 60 70 80]\n",
                        " [10 20 30 40]]\n"
                    ]
                }
            ],
            "metadata": {}
        },
        {
            "cell_type": "code",
            "execution_count": 67,
            "source": [
                "np.vstack((n9,n10))"
            ],
            "outputs": [
                {
                    "output_type": "execute_result",
                    "data": {
                        "text/plain": [
                            "array([[10, 20, 30, 40],\n",
                            "       [50, 60, 70, 80],\n",
                            "       [10, 40, 80, 90],\n",
                            "       [10, 40, 80, 90],\n",
                            "       [50, 60, 70, 80],\n",
                            "       [10, 20, 30, 40]])"
                        ]
                    },
                    "metadata": {},
                    "execution_count": 67
                }
            ],
            "metadata": {}
        },
        {
            "cell_type": "code",
            "execution_count": 68,
            "source": [
                "np.hstack((n9,(n10)))"
            ],
            "outputs": [
                {
                    "output_type": "execute_result",
                    "data": {
                        "text/plain": [
                            "array([[10, 20, 30, 40, 10, 40, 80, 90],\n",
                            "       [50, 60, 70, 80, 50, 60, 70, 80],\n",
                            "       [10, 40, 80, 90, 10, 20, 30, 40]])"
                        ]
                    },
                    "metadata": {},
                    "execution_count": 68
                }
            ],
            "metadata": {}
        },
        {
            "cell_type": "code",
            "execution_count": 71,
            "source": [
                "n11=np.array([10,20,30,40,50,60])\r\n",
                "n12=np.array([10,20,30,40,80,90])\r\n",
                "print(np.intersect1d(n11,n12))\r\n",
                "print(np.setdiff1d(n11,n12))\r\n",
                "print(np.setdiff1d(n12,n11))"
            ],
            "outputs": [
                {
                    "output_type": "stream",
                    "name": "stdout",
                    "text": [
                        "[10 20 30 40]\n",
                        "[50 60]\n",
                        "[80 90]\n"
                    ]
                }
            ],
            "metadata": {}
        },
        {
            "cell_type": "markdown",
            "source": [
                "Addition of numpy aaray"
            ],
            "metadata": {}
        },
        {
            "cell_type": "code",
            "execution_count": 75,
            "source": [
                "print(f\"array-1 = {n11} array-2 = {n12}\")\r\n",
                "print(np.sum([n11,n12]))\r\n",
                "print(np.sum([n11,n12],axis=0))\r\n",
                "print(np.sum([n11,n12],axis=1))"
            ],
            "outputs": [
                {
                    "output_type": "stream",
                    "name": "stdout",
                    "text": [
                        "array-1 = [10 20 30 40 50 60] array-2 = [10 20 30 40 80 90]\n",
                        "480\n",
                        "[ 20  40  60  80 130 150]\n",
                        "[210 270]\n"
                    ]
                }
            ],
            "metadata": {}
        },
        {
            "cell_type": "markdown",
            "source": [
                "numpy array mathmatics"
            ],
            "metadata": {}
        },
        {
            "cell_type": "code",
            "execution_count": 79,
            "source": [
                "n13=np.array([10,20,30])\r\n",
                "print(n13+1)\r\n",
                "print(n13-1)\r\n",
                "print(n13*2)\r\n",
                "print(n13//2)"
            ],
            "outputs": [
                {
                    "output_type": "stream",
                    "name": "stdout",
                    "text": [
                        "[11 21 31]\n",
                        "[ 9 19 29]\n",
                        "[20 40 60]\n",
                        "[ 5 10 15]\n"
                    ]
                }
            ],
            "metadata": {}
        },
        {
            "cell_type": "markdown",
            "source": [
                "numpy math functions"
            ],
            "metadata": {}
        },
        {
            "cell_type": "code",
            "execution_count": 83,
            "source": [
                "print(n13)\r\n",
                "print(np.min(n13))\r\n",
                "print(np.median(n13))\r\n",
                "print(np.std(n13))"
            ],
            "outputs": [
                {
                    "output_type": "stream",
                    "name": "stdout",
                    "text": [
                        "[10 20 30 40]\n",
                        "10\n",
                        "25.0\n",
                        "11.180339887498949\n"
                    ]
                }
            ],
            "metadata": {}
        },
        {
            "cell_type": "markdown",
            "source": [
                "numpy save and load"
            ],
            "metadata": {}
        },
        {
            "cell_type": "code",
            "execution_count": 85,
            "source": [
                "np.save('my_numpy',n13)\r\n",
                "n14=np.load('my_numpy.npy')\r\n",
                "print(n14)"
            ],
            "outputs": [
                {
                    "output_type": "stream",
                    "name": "stdout",
                    "text": [
                        "[10 20 30 40]\n"
                    ]
                }
            ],
            "metadata": {}
        }
    ],
    "metadata": {
        "orig_nbformat": 4,
        "language_info": {
            "name": "python",
            "version": "3.9.6",
            "mimetype": "text/x-python",
            "codemirror_mode": {
                "name": "ipython",
                "version": 3
            },
            "pygments_lexer": "ipython3",
            "nbconvert_exporter": "python",
            "file_extension": ".py"
        },
        "kernelspec": {
            "name": "python3",
            "display_name": "Python 3.9.6 64-bit"
        },
        "interpreter": {
            "hash": "edd2ff9b20c78bd684683d48c47748f3e0d3f18f4880742b4c8a7e67c294ce6c"
        }
    },
    "nbformat": 4,
    "nbformat_minor": 2
}