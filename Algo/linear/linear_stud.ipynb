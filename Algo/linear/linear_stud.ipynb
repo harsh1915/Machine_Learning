{
 "cells": [
  {
   "cell_type": "code",
   "execution_count": 4,
   "source": [
    "import pandas as pd\r\n",
    "import numpy as np"
   ],
   "outputs": [],
   "metadata": {}
  },
  {
   "cell_type": "code",
   "execution_count": 5,
   "source": [
    "df=pd.read_csv(\"AttendanceMarksSA.csv\")"
   ],
   "outputs": [],
   "metadata": {}
  },
  {
   "cell_type": "code",
   "execution_count": 6,
   "source": [
    "df"
   ],
   "outputs": [
    {
     "output_type": "execute_result",
     "data": {
      "text/html": [
       "<div>\n",
       "<style scoped>\n",
       "    .dataframe tbody tr th:only-of-type {\n",
       "        vertical-align: middle;\n",
       "    }\n",
       "\n",
       "    .dataframe tbody tr th {\n",
       "        vertical-align: top;\n",
       "    }\n",
       "\n",
       "    .dataframe thead th {\n",
       "        text-align: right;\n",
       "    }\n",
       "</style>\n",
       "<table border=\"1\" class=\"dataframe\">\n",
       "  <thead>\n",
       "    <tr style=\"text-align: right;\">\n",
       "      <th></th>\n",
       "      <th>Attendance</th>\n",
       "      <th>MSE</th>\n",
       "      <th>ESE</th>\n",
       "    </tr>\n",
       "  </thead>\n",
       "  <tbody>\n",
       "    <tr>\n",
       "      <th>0</th>\n",
       "      <td>70</td>\n",
       "      <td>10</td>\n",
       "      <td>42</td>\n",
       "    </tr>\n",
       "    <tr>\n",
       "      <th>1</th>\n",
       "      <td>92</td>\n",
       "      <td>7</td>\n",
       "      <td>39</td>\n",
       "    </tr>\n",
       "    <tr>\n",
       "      <th>2</th>\n",
       "      <td>67</td>\n",
       "      <td>3</td>\n",
       "      <td>32</td>\n",
       "    </tr>\n",
       "    <tr>\n",
       "      <th>3</th>\n",
       "      <td>82</td>\n",
       "      <td>16</td>\n",
       "      <td>50</td>\n",
       "    </tr>\n",
       "    <tr>\n",
       "      <th>4</th>\n",
       "      <td>80</td>\n",
       "      <td>9</td>\n",
       "      <td>44</td>\n",
       "    </tr>\n",
       "    <tr>\n",
       "      <th>...</th>\n",
       "      <td>...</td>\n",
       "      <td>...</td>\n",
       "      <td>...</td>\n",
       "    </tr>\n",
       "    <tr>\n",
       "      <th>68</th>\n",
       "      <td>80</td>\n",
       "      <td>10</td>\n",
       "      <td>47</td>\n",
       "    </tr>\n",
       "    <tr>\n",
       "      <th>69</th>\n",
       "      <td>78</td>\n",
       "      <td>8</td>\n",
       "      <td>40</td>\n",
       "    </tr>\n",
       "    <tr>\n",
       "      <th>70</th>\n",
       "      <td>92</td>\n",
       "      <td>9</td>\n",
       "      <td>49</td>\n",
       "    </tr>\n",
       "    <tr>\n",
       "      <th>71</th>\n",
       "      <td>78</td>\n",
       "      <td>11</td>\n",
       "      <td>53</td>\n",
       "    </tr>\n",
       "    <tr>\n",
       "      <th>72</th>\n",
       "      <td>78</td>\n",
       "      <td>12</td>\n",
       "      <td>58</td>\n",
       "    </tr>\n",
       "  </tbody>\n",
       "</table>\n",
       "<p>73 rows × 3 columns</p>\n",
       "</div>"
      ],
      "text/plain": [
       "    Attendance  MSE  ESE\n",
       "0           70   10   42\n",
       "1           92    7   39\n",
       "2           67    3   32\n",
       "3           82   16   50\n",
       "4           80    9   44\n",
       "..         ...  ...  ...\n",
       "68          80   10   47\n",
       "69          78    8   40\n",
       "70          92    9   49\n",
       "71          78   11   53\n",
       "72          78   12   58\n",
       "\n",
       "[73 rows x 3 columns]"
      ]
     },
     "metadata": {},
     "execution_count": 6
    }
   ],
   "metadata": {}
  },
  {
   "cell_type": "code",
   "execution_count": 7,
   "source": [
    "df.isna().sum()"
   ],
   "outputs": [
    {
     "output_type": "execute_result",
     "data": {
      "text/plain": [
       "Attendance    0\n",
       "MSE           0\n",
       "ESE           0\n",
       "dtype: int64"
      ]
     },
     "metadata": {},
     "execution_count": 7
    }
   ],
   "metadata": {}
  },
  {
   "cell_type": "code",
   "execution_count": 8,
   "source": [
    "x=df.iloc[:,1]"
   ],
   "outputs": [],
   "metadata": {}
  },
  {
   "cell_type": "code",
   "execution_count": 9,
   "source": [
    "x"
   ],
   "outputs": [
    {
     "output_type": "execute_result",
     "data": {
      "text/plain": [
       "0     10\n",
       "1      7\n",
       "2      3\n",
       "3     16\n",
       "4      9\n",
       "      ..\n",
       "68    10\n",
       "69     8\n",
       "70     9\n",
       "71    11\n",
       "72    12\n",
       "Name: MSE, Length: 73, dtype: int64"
      ]
     },
     "metadata": {},
     "execution_count": 9
    }
   ],
   "metadata": {}
  },
  {
   "cell_type": "code",
   "execution_count": 10,
   "source": [
    "y=df.iloc[:,2]\r\n",
    "y"
   ],
   "outputs": [
    {
     "output_type": "execute_result",
     "data": {
      "text/plain": [
       "0     42\n",
       "1     39\n",
       "2     32\n",
       "3     50\n",
       "4     44\n",
       "      ..\n",
       "68    47\n",
       "69    40\n",
       "70    49\n",
       "71    53\n",
       "72    58\n",
       "Name: ESE, Length: 73, dtype: int64"
      ]
     },
     "metadata": {},
     "execution_count": 10
    }
   ],
   "metadata": {}
  },
  {
   "cell_type": "code",
   "execution_count": 11,
   "source": [
    "import matplotlib.pyplot as plt"
   ],
   "outputs": [],
   "metadata": {}
  },
  {
   "cell_type": "code",
   "execution_count": 12,
   "source": [
    "plt.scatter(x,y)"
   ],
   "outputs": [
    {
     "output_type": "execute_result",
     "data": {
      "text/plain": [
       "<matplotlib.collections.PathCollection at 0x26e416495e0>"
      ]
     },
     "metadata": {},
     "execution_count": 12
    },
    {
     "output_type": "display_data",
     "data": {
      "image/png": "[encoded data removed]",
      "text/plain": [
       "<Figure size 432x288 with 1 Axes>"
      ]
     },
     "metadata": {
      "needs_background": "light"
     }
    }
   ],
   "metadata": {}
  },
  {
   "cell_type": "code",
   "execution_count": 13,
   "source": [
    "w=1.02\r\n",
    "b=0.75\r\n",
    "lr=0.0001\r\n",
    "for i in range(100):\r\n",
    "    yh=b+w*x\r\n",
    "    dea=-2*((y-yh)*x).sum()\r\n",
    "    deb=-2*(y-yh).sum() \r\n",
    "    w=w-lr*dea\r\n",
    "    b=b-lr * deb\r\n",
    "    error=((y-yh)**2).mean()\r\n",
    "    print(error)\r\n",
    "\r\n",
    "print(w,b)"
   ],
   "outputs": [
    {
     "output_type": "stream",
     "name": "stdout",
     "text": [
      "1311.3044287671232\n",
      "454.64874771617656\n",
      "201.2441467035393\n",
      "126.19006426074375\n",
      "103.86535738109448\n",
      "97.13034384248547\n",
      "95.00473769294003\n",
      "94.242234848382\n",
      "93.88307006360652\n",
      "93.64348948867303\n",
      "93.43960091703008\n",
      "93.2466009057254\n",
      "93.05715550834066\n",
      "92.86909560811144\n",
      "92.68177906368696\n",
      "92.49501518358652\n",
      "92.30874674886269\n",
      "92.1229560036257\n",
      "91.93763686129412\n",
      "91.75278668741356\n",
      "91.56840387025555\n",
      "91.38448710256357\n",
      "91.20103516919754\n",
      "91.01804688434552\n",
      "90.83552107295553\n",
      "90.65345656524025\n",
      "90.47185219504757\n",
      "90.2907067993732\n",
      "90.1100192182113\n",
      "89.92978829450531\n",
      "89.75001287412827\n",
      "89.57069180587148\n",
      "89.3918239414364\n",
      "89.21340813542628\n",
      "89.03544324533982\n",
      "88.85792813156267\n",
      "88.68086165736108\n",
      "88.50424268887394\n",
      "88.3280700951059\n",
      "88.15234274791995\n",
      "87.97705952203022\n",
      "87.80221929499497\n",
      "87.62782094720916\n",
      "87.45386336189732\n",
      "87.28034542510646\n",
      "87.10726602569888\n",
      "86.93462405534532\n",
      "86.76241840851728\n",
      "86.59064798248059\n",
      "86.41931167728788\n",
      "86.2484083957719\n",
      "86.07793704353796\n",
      "85.90789652895776\n",
      "85.73828576316137\n",
      "85.56910366003122\n",
      "85.40034913619458\n",
      "85.23202111101662\n",
      "85.06411850659389\n",
      "84.89664024774694\n",
      "84.72958526201377\n",
      "84.5629524796428\n",
      "84.39674083358614\n",
      "84.23094925949258\n",
      "84.065576695701\n",
      "83.90062208323319\n",
      "83.73608436578776\n",
      "83.57196248973258\n",
      "83.40825540409848\n",
      "83.24496206057256\n",
      "83.08208141349122\n",
      "82.91961241983373\n",
      "82.75755403921521\n",
      "82.59590523388042\n",
      "82.43466496869667\n",
      "82.27383221114759\n",
      "82.11340593132604\n",
      "81.95338510192823\n",
      "81.79376869824623\n",
      "81.63455569816215\n",
      "81.47574508214136\n",
      "81.31733583322577\n",
      "81.15932693702769\n",
      "81.00171738172284\n",
      "80.84450615804448\n",
      "80.68769225927629\n",
      "80.53127468124653\n",
      "80.37525242232137\n",
      "80.21962448339798\n",
      "80.06438986789918\n",
      "79.9095475817661\n",
      "79.75509663345234\n",
      "79.60103603391735\n",
      "79.44736479662035\n",
      "79.2940819375138\n",
      "79.14118647503716\n",
      "78.98867743011066\n",
      "78.83655382612893\n",
      "78.68481468895497\n",
      "78.53345904691346\n",
      "78.38248593078521\n",
      "4.067938965027772 4.58337658576841\n"
     ]
    }
   ],
   "metadata": {}
  },
  {
   "cell_type": "code",
   "execution_count": 16,
   "source": [
    "plt.scatter(x,y)\r\n",
    "# plt.plot(x, y)\r\n",
    "plt.plot(x,yh,'r')"
   ],
   "outputs": [
    {
     "output_type": "execute_result",
     "data": {
      "text/plain": [
       "[<matplotlib.lines.Line2D at 0x26e41e89eb0>]"
      ]
     },
     "metadata": {},
     "execution_count": 16
    },
    {
     "output_type": "display_data",
     "data": {
      "image/png": "[encoded data removed]",
      "text/plain": [
       "<Figure size 432x288 with 1 Axes>"
      ]
     },
     "metadata": {
      "needs_background": "light"
     }
    }
   ],
   "metadata": {}
  },
  {
   "cell_type": "code",
   "execution_count": 19,
   "source": [
    "y_pred=b+w*12\r\n",
    "y_pred"
   ],
   "outputs": [
    {
     "output_type": "execute_result",
     "data": {
      "text/plain": [
       "53.39864416610168"
      ]
     },
     "metadata": {},
     "execution_count": 19
    }
   ],
   "metadata": {}
  },
  {
   "cell_type": "code",
   "execution_count": null,
   "source": [],
   "outputs": [],
   "metadata": {}
  }
 ],
 "metadata": {
  "orig_nbformat": 4,
  "language_info": {
   "name": "python",
   "version": "3.8.8",
   "mimetype": "text/x-python",
   "codemirror_mode": {
    "name": "ipython",
    "version": 3
   },
   "pygments_lexer": "ipython3",
   "nbconvert_exporter": "python",
   "file_extension": ".py"
  },
  "kernelspec": {
   "name": "python3",
   "display_name": "Python 3.8.8 64-bit ('base': conda)"
  },
  "interpreter": {
   "hash": "855ef7ec1add906e8be09c0306ad0b69c445f58e3ce85c75c15ba9245db0fe8e"
  }
 },
 "nbformat": 4,
 "nbformat_minor": 2
}