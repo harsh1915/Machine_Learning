{
    "cells": [
        {
            "cell_type": "code",
            "execution_count": 301,
            "source": [
                "import pandas as pd;\r\n",
                "import numpy as np;"
            ],
            "outputs": [],
            "metadata": {}
        },
        {
            "cell_type": "code",
            "execution_count": 302,
            "source": [
                "dict1={\r\n",
                "    \"Name\": [\"Harsh\", \"Rohan\", \"Karan\", \"Krunal\"],\r\n",
                "    \"Marks\": [29, 27, 25, 23],\r\n",
                "    \"City\": [\"Amreli\", \"Amdavad\", \"Palanpur\", \"Korea\"]\r\n",
                "}"
            ],
            "outputs": [],
            "metadata": {}
        },
        {
            "cell_type": "code",
            "execution_count": 303,
            "source": [
                "df= pd.DataFrame(dict1)"
            ],
            "outputs": [],
            "metadata": {}
        },
        {
            "cell_type": "code",
            "execution_count": 304,
            "source": [
                "print(df)"
            ],
            "outputs": [
                {
                    "output_type": "stream",
                    "name": "stdout",
                    "text": [
                        "     Name  Marks      City\n",
                        "0   Harsh     29    Amreli\n",
                        "1   Rohan     27   Amdavad\n",
                        "2   Karan     25  Palanpur\n",
                        "3  Krunal     23     Korea\n"
                    ]
                }
            ],
            "metadata": {}
        },
        {
            "cell_type": "markdown",
            "source": [
                "How to Convert DtaFrame To CSV"
            ],
            "metadata": {}
        },
        {
            "cell_type": "code",
            "execution_count": 305,
            "source": [
                "df.to_csv(\"Friends.csv\")"
            ],
            "outputs": [],
            "metadata": {}
        },
        {
            "cell_type": "markdown",
            "source": [
                "How to Convert DtaFrame To CSV Without Index"
            ],
            "metadata": {}
        },
        {
            "cell_type": "code",
            "execution_count": 306,
            "source": [
                "df.to_csv(\"Friends_index=False.csv\", index= False)"
            ],
            "outputs": [],
            "metadata": {}
        },
        {
            "cell_type": "code",
            "execution_count": 307,
            "source": [
                "df.head(2)"
            ],
            "outputs": [
                {
                    "output_type": "execute_result",
                    "data": {
                        "text/plain": [
                            "    Name  Marks     City\n",
                            "0  Harsh     29   Amreli\n",
                            "1  Rohan     27  Amdavad"
                        ],
                        "text/html": [
                            "<div>\n",
                            "<style scoped>\n",
                            "    .dataframe tbody tr th:only-of-type {\n",
                            "        vertical-align: middle;\n",
                            "    }\n",
                            "\n",
                            "    .dataframe tbody tr th {\n",
                            "        vertical-align: top;\n",
                            "    }\n",
                            "\n",
                            "    .dataframe thead th {\n",
                            "        text-align: right;\n",
                            "    }\n",
                            "</style>\n",
                            "<table border=\"1\" class=\"dataframe\">\n",
                            "  <thead>\n",
                            "    <tr style=\"text-align: right;\">\n",
                            "      <th></th>\n",
                            "      <th>Name</th>\n",
                            "      <th>Marks</th>\n",
                            "      <th>City</th>\n",
                            "    </tr>\n",
                            "  </thead>\n",
                            "  <tbody>\n",
                            "    <tr>\n",
                            "      <th>0</th>\n",
                            "      <td>Harsh</td>\n",
                            "      <td>29</td>\n",
                            "      <td>Amreli</td>\n",
                            "    </tr>\n",
                            "    <tr>\n",
                            "      <th>1</th>\n",
                            "      <td>Rohan</td>\n",
                            "      <td>27</td>\n",
                            "      <td>Amdavad</td>\n",
                            "    </tr>\n",
                            "  </tbody>\n",
                            "</table>\n",
                            "</div>"
                        ]
                    },
                    "metadata": {},
                    "execution_count": 307
                }
            ],
            "metadata": {}
        },
        {
            "cell_type": "code",
            "execution_count": 308,
            "source": [
                "df.tail(2)"
            ],
            "outputs": [
                {
                    "output_type": "execute_result",
                    "data": {
                        "text/plain": [
                            "     Name  Marks      City\n",
                            "2   Karan     25  Palanpur\n",
                            "3  Krunal     23     Korea"
                        ],
                        "text/html": [
                            "<div>\n",
                            "<style scoped>\n",
                            "    .dataframe tbody tr th:only-of-type {\n",
                            "        vertical-align: middle;\n",
                            "    }\n",
                            "\n",
                            "    .dataframe tbody tr th {\n",
                            "        vertical-align: top;\n",
                            "    }\n",
                            "\n",
                            "    .dataframe thead th {\n",
                            "        text-align: right;\n",
                            "    }\n",
                            "</style>\n",
                            "<table border=\"1\" class=\"dataframe\">\n",
                            "  <thead>\n",
                            "    <tr style=\"text-align: right;\">\n",
                            "      <th></th>\n",
                            "      <th>Name</th>\n",
                            "      <th>Marks</th>\n",
                            "      <th>City</th>\n",
                            "    </tr>\n",
                            "  </thead>\n",
                            "  <tbody>\n",
                            "    <tr>\n",
                            "      <th>2</th>\n",
                            "      <td>Karan</td>\n",
                            "      <td>25</td>\n",
                            "      <td>Palanpur</td>\n",
                            "    </tr>\n",
                            "    <tr>\n",
                            "      <th>3</th>\n",
                            "      <td>Krunal</td>\n",
                            "      <td>23</td>\n",
                            "      <td>Korea</td>\n",
                            "    </tr>\n",
                            "  </tbody>\n",
                            "</table>\n",
                            "</div>"
                        ]
                    },
                    "metadata": {},
                    "execution_count": 308
                }
            ],
            "metadata": {}
        },
        {
            "cell_type": "code",
            "execution_count": 309,
            "source": [
                "df.describe()"
            ],
            "outputs": [
                {
                    "output_type": "execute_result",
                    "data": {
                        "text/plain": [
                            "           Marks\n",
                            "count   4.000000\n",
                            "mean   26.000000\n",
                            "std     2.581989\n",
                            "min    23.000000\n",
                            "25%    24.500000\n",
                            "50%    26.000000\n",
                            "75%    27.500000\n",
                            "max    29.000000"
                        ],
                        "text/html": [
                            "<div>\n",
                            "<style scoped>\n",
                            "    .dataframe tbody tr th:only-of-type {\n",
                            "        vertical-align: middle;\n",
                            "    }\n",
                            "\n",
                            "    .dataframe tbody tr th {\n",
                            "        vertical-align: top;\n",
                            "    }\n",
                            "\n",
                            "    .dataframe thead th {\n",
                            "        text-align: right;\n",
                            "    }\n",
                            "</style>\n",
                            "<table border=\"1\" class=\"dataframe\">\n",
                            "  <thead>\n",
                            "    <tr style=\"text-align: right;\">\n",
                            "      <th></th>\n",
                            "      <th>Marks</th>\n",
                            "    </tr>\n",
                            "  </thead>\n",
                            "  <tbody>\n",
                            "    <tr>\n",
                            "      <th>count</th>\n",
                            "      <td>4.000000</td>\n",
                            "    </tr>\n",
                            "    <tr>\n",
                            "      <th>mean</th>\n",
                            "      <td>26.000000</td>\n",
                            "    </tr>\n",
                            "    <tr>\n",
                            "      <th>std</th>\n",
                            "      <td>2.581989</td>\n",
                            "    </tr>\n",
                            "    <tr>\n",
                            "      <th>min</th>\n",
                            "      <td>23.000000</td>\n",
                            "    </tr>\n",
                            "    <tr>\n",
                            "      <th>25%</th>\n",
                            "      <td>24.500000</td>\n",
                            "    </tr>\n",
                            "    <tr>\n",
                            "      <th>50%</th>\n",
                            "      <td>26.000000</td>\n",
                            "    </tr>\n",
                            "    <tr>\n",
                            "      <th>75%</th>\n",
                            "      <td>27.500000</td>\n",
                            "    </tr>\n",
                            "    <tr>\n",
                            "      <th>max</th>\n",
                            "      <td>29.000000</td>\n",
                            "    </tr>\n",
                            "  </tbody>\n",
                            "</table>\n",
                            "</div>"
                        ]
                    },
                    "metadata": {},
                    "execution_count": 309
                }
            ],
            "metadata": {}
        },
        {
            "cell_type": "markdown",
            "source": [
                "How To Read CSV"
            ],
            "metadata": {}
        },
        {
            "cell_type": "code",
            "execution_count": 310,
            "source": [
                "dfr=pd.read_csv(\"Friends_index=False.csv\")\r\n",
                "dfr"
            ],
            "outputs": [
                {
                    "output_type": "execute_result",
                    "data": {
                        "text/plain": [
                            "     Name  Marks      City\n",
                            "0   Harsh     29    Amreli\n",
                            "1   Rohan     27   Amdavad\n",
                            "2   Karan     25  Palanpur\n",
                            "3  Krunal     23     Korea"
                        ],
                        "text/html": [
                            "<div>\n",
                            "<style scoped>\n",
                            "    .dataframe tbody tr th:only-of-type {\n",
                            "        vertical-align: middle;\n",
                            "    }\n",
                            "\n",
                            "    .dataframe tbody tr th {\n",
                            "        vertical-align: top;\n",
                            "    }\n",
                            "\n",
                            "    .dataframe thead th {\n",
                            "        text-align: right;\n",
                            "    }\n",
                            "</style>\n",
                            "<table border=\"1\" class=\"dataframe\">\n",
                            "  <thead>\n",
                            "    <tr style=\"text-align: right;\">\n",
                            "      <th></th>\n",
                            "      <th>Name</th>\n",
                            "      <th>Marks</th>\n",
                            "      <th>City</th>\n",
                            "    </tr>\n",
                            "  </thead>\n",
                            "  <tbody>\n",
                            "    <tr>\n",
                            "      <th>0</th>\n",
                            "      <td>Harsh</td>\n",
                            "      <td>29</td>\n",
                            "      <td>Amreli</td>\n",
                            "    </tr>\n",
                            "    <tr>\n",
                            "      <th>1</th>\n",
                            "      <td>Rohan</td>\n",
                            "      <td>27</td>\n",
                            "      <td>Amdavad</td>\n",
                            "    </tr>\n",
                            "    <tr>\n",
                            "      <th>2</th>\n",
                            "      <td>Karan</td>\n",
                            "      <td>25</td>\n",
                            "      <td>Palanpur</td>\n",
                            "    </tr>\n",
                            "    <tr>\n",
                            "      <th>3</th>\n",
                            "      <td>Krunal</td>\n",
                            "      <td>23</td>\n",
                            "      <td>Korea</td>\n",
                            "    </tr>\n",
                            "  </tbody>\n",
                            "</table>\n",
                            "</div>"
                        ]
                    },
                    "metadata": {},
                    "execution_count": 310
                }
            ],
            "metadata": {}
        },
        {
            "cell_type": "markdown",
            "source": [
                "How To show Specified Column"
            ],
            "metadata": {}
        },
        {
            "cell_type": "code",
            "execution_count": 311,
            "source": [
                "df[\"Marks\"]"
            ],
            "outputs": [
                {
                    "output_type": "execute_result",
                    "data": {
                        "text/plain": [
                            "0    29\n",
                            "1    27\n",
                            "2    25\n",
                            "3    23\n",
                            "Name: Marks, dtype: int64"
                        ]
                    },
                    "metadata": {},
                    "execution_count": 311
                }
            ],
            "metadata": {}
        },
        {
            "cell_type": "markdown",
            "source": [
                "How To show Specified Column With Specified Value"
            ],
            "metadata": {}
        },
        {
            "cell_type": "code",
            "execution_count": 312,
            "source": [
                "df[\"Marks\"][0]"
            ],
            "outputs": [
                {
                    "output_type": "execute_result",
                    "data": {
                        "text/plain": [
                            "29"
                        ]
                    },
                    "metadata": {},
                    "execution_count": 312
                }
            ],
            "metadata": {}
        },
        {
            "cell_type": "code",
            "execution_count": 313,
            "source": [
                "df.loc[0, \"Marks\"]"
            ],
            "outputs": [
                {
                    "output_type": "execute_result",
                    "data": {
                        "text/plain": [
                            "29"
                        ]
                    },
                    "metadata": {},
                    "execution_count": 313
                }
            ],
            "metadata": {}
        },
        {
            "cell_type": "markdown",
            "source": [
                "How To Change Values"
            ],
            "metadata": {}
        },
        {
            "cell_type": "code",
            "execution_count": 314,
            "source": [
                "df1=df.copy()\r\n",
                "df[\"Marks\"][0]= 21\r\n",
                "print(df1)"
            ],
            "outputs": [
                {
                    "output_type": "stream",
                    "name": "stdout",
                    "text": [
                        "     Name  Marks      City\n",
                        "0   Harsh     29    Amreli\n",
                        "1   Rohan     27   Amdavad\n",
                        "2   Karan     25  Palanpur\n",
                        "3  Krunal     23     Korea\n"
                    ]
                },
                {
                    "output_type": "stream",
                    "name": "stderr",
                    "text": [
                        "C:\\Users\\PRIYAN~1\\AppData\\Local\\Temp/ipykernel_13424/17263765.py:2: SettingWithCopyWarning: \n",
                        "A value is trying to be set on a copy of a slice from a DataFrame\n",
                        "\n",
                        "See the caveats in the documentation: https://pandas.pydata.org/pandas-docs/stable/user_guide/indexing.html#returning-a-view-versus-a-copy\n",
                        "  df[\"Marks\"][0]= 21\n"
                    ]
                }
            ],
            "metadata": {}
        },
        {
            "cell_type": "markdown",
            "source": [
                "How To Change Indexing"
            ],
            "metadata": {}
        },
        {
            "cell_type": "code",
            "execution_count": 315,
            "source": [
                "df1.index= [\"01\", \"02\", \"03\", \"04\"]\r\n",
                "df1"
            ],
            "outputs": [
                {
                    "output_type": "execute_result",
                    "data": {
                        "text/plain": [
                            "      Name  Marks      City\n",
                            "01   Harsh     29    Amreli\n",
                            "02   Rohan     27   Amdavad\n",
                            "03   Karan     25  Palanpur\n",
                            "04  Krunal     23     Korea"
                        ],
                        "text/html": [
                            "<div>\n",
                            "<style scoped>\n",
                            "    .dataframe tbody tr th:only-of-type {\n",
                            "        vertical-align: middle;\n",
                            "    }\n",
                            "\n",
                            "    .dataframe tbody tr th {\n",
                            "        vertical-align: top;\n",
                            "    }\n",
                            "\n",
                            "    .dataframe thead th {\n",
                            "        text-align: right;\n",
                            "    }\n",
                            "</style>\n",
                            "<table border=\"1\" class=\"dataframe\">\n",
                            "  <thead>\n",
                            "    <tr style=\"text-align: right;\">\n",
                            "      <th></th>\n",
                            "      <th>Name</th>\n",
                            "      <th>Marks</th>\n",
                            "      <th>City</th>\n",
                            "    </tr>\n",
                            "  </thead>\n",
                            "  <tbody>\n",
                            "    <tr>\n",
                            "      <th>01</th>\n",
                            "      <td>Harsh</td>\n",
                            "      <td>29</td>\n",
                            "      <td>Amreli</td>\n",
                            "    </tr>\n",
                            "    <tr>\n",
                            "      <th>02</th>\n",
                            "      <td>Rohan</td>\n",
                            "      <td>27</td>\n",
                            "      <td>Amdavad</td>\n",
                            "    </tr>\n",
                            "    <tr>\n",
                            "      <th>03</th>\n",
                            "      <td>Karan</td>\n",
                            "      <td>25</td>\n",
                            "      <td>Palanpur</td>\n",
                            "    </tr>\n",
                            "    <tr>\n",
                            "      <th>04</th>\n",
                            "      <td>Krunal</td>\n",
                            "      <td>23</td>\n",
                            "      <td>Korea</td>\n",
                            "    </tr>\n",
                            "  </tbody>\n",
                            "</table>\n",
                            "</div>"
                        ]
                    },
                    "metadata": {},
                    "execution_count": 315
                }
            ],
            "metadata": {}
        },
        {
            "cell_type": "markdown",
            "source": [
                "Series"
            ],
            "metadata": {}
        },
        {
            "cell_type": "code",
            "execution_count": 316,
            "source": [
                "dfS=pd.Series(np.random.rand(10))\r\n",
                "dfS"
            ],
            "outputs": [
                {
                    "output_type": "execute_result",
                    "data": {
                        "text/plain": [
                            "0    0.579628\n",
                            "1    0.075169\n",
                            "2    0.748111\n",
                            "3    0.595660\n",
                            "4    0.927049\n",
                            "5    0.157353\n",
                            "6    0.630675\n",
                            "7    0.394332\n",
                            "8    0.018826\n",
                            "9    0.059406\n",
                            "dtype: float64"
                        ]
                    },
                    "metadata": {},
                    "execution_count": 316
                }
            ],
            "metadata": {}
        },
        {
            "cell_type": "code",
            "execution_count": 317,
            "source": [
                "type(dfS)"
            ],
            "outputs": [
                {
                    "output_type": "execute_result",
                    "data": {
                        "text/plain": [
                            "pandas.core.series.Series"
                        ]
                    },
                    "metadata": {},
                    "execution_count": 317
                }
            ],
            "metadata": {}
        },
        {
            "cell_type": "markdown",
            "source": [
                "DataFrame"
            ],
            "metadata": {}
        },
        {
            "cell_type": "code",
            "execution_count": 318,
            "source": [
                "dfDF=pd.DataFrame(np.random.rand(10,5))\r\n",
                "dfDF"
            ],
            "outputs": [
                {
                    "output_type": "execute_result",
                    "data": {
                        "text/plain": [
                            "          0         1         2         3         4\n",
                            "0  0.253747  0.806744  0.688129  0.975725  0.906578\n",
                            "1  0.330156  0.477812  0.468142  0.861413  0.059388\n",
                            "2  0.551414  0.952523  0.734835  0.497721  0.719725\n",
                            "3  0.328301  0.230047  0.565169  0.023259  0.939424\n",
                            "4  0.412424  0.118703  0.870633  0.706053  0.348975\n",
                            "5  0.116088  0.890678  0.607386  0.890480  0.204236\n",
                            "6  0.754613  0.874771  0.646613  0.017397  0.824654\n",
                            "7  0.666065  0.514127  0.090559  0.789936  0.540167\n",
                            "8  0.218177  0.340925  0.117959  0.040148  0.897591\n",
                            "9  0.471563  0.273186  0.703946  0.830364  0.532951"
                        ],
                        "text/html": [
                            "<div>\n",
                            "<style scoped>\n",
                            "    .dataframe tbody tr th:only-of-type {\n",
                            "        vertical-align: middle;\n",
                            "    }\n",
                            "\n",
                            "    .dataframe tbody tr th {\n",
                            "        vertical-align: top;\n",
                            "    }\n",
                            "\n",
                            "    .dataframe thead th {\n",
                            "        text-align: right;\n",
                            "    }\n",
                            "</style>\n",
                            "<table border=\"1\" class=\"dataframe\">\n",
                            "  <thead>\n",
                            "    <tr style=\"text-align: right;\">\n",
                            "      <th></th>\n",
                            "      <th>0</th>\n",
                            "      <th>1</th>\n",
                            "      <th>2</th>\n",
                            "      <th>3</th>\n",
                            "      <th>4</th>\n",
                            "    </tr>\n",
                            "  </thead>\n",
                            "  <tbody>\n",
                            "    <tr>\n",
                            "      <th>0</th>\n",
                            "      <td>0.253747</td>\n",
                            "      <td>0.806744</td>\n",
                            "      <td>0.688129</td>\n",
                            "      <td>0.975725</td>\n",
                            "      <td>0.906578</td>\n",
                            "    </tr>\n",
                            "    <tr>\n",
                            "      <th>1</th>\n",
                            "      <td>0.330156</td>\n",
                            "      <td>0.477812</td>\n",
                            "      <td>0.468142</td>\n",
                            "      <td>0.861413</td>\n",
                            "      <td>0.059388</td>\n",
                            "    </tr>\n",
                            "    <tr>\n",
                            "      <th>2</th>\n",
                            "      <td>0.551414</td>\n",
                            "      <td>0.952523</td>\n",
                            "      <td>0.734835</td>\n",
                            "      <td>0.497721</td>\n",
                            "      <td>0.719725</td>\n",
                            "    </tr>\n",
                            "    <tr>\n",
                            "      <th>3</th>\n",
                            "      <td>0.328301</td>\n",
                            "      <td>0.230047</td>\n",
                            "      <td>0.565169</td>\n",
                            "      <td>0.023259</td>\n",
                            "      <td>0.939424</td>\n",
                            "    </tr>\n",
                            "    <tr>\n",
                            "      <th>4</th>\n",
                            "      <td>0.412424</td>\n",
                            "      <td>0.118703</td>\n",
                            "      <td>0.870633</td>\n",
                            "      <td>0.706053</td>\n",
                            "      <td>0.348975</td>\n",
                            "    </tr>\n",
                            "    <tr>\n",
                            "      <th>5</th>\n",
                            "      <td>0.116088</td>\n",
                            "      <td>0.890678</td>\n",
                            "      <td>0.607386</td>\n",
                            "      <td>0.890480</td>\n",
                            "      <td>0.204236</td>\n",
                            "    </tr>\n",
                            "    <tr>\n",
                            "      <th>6</th>\n",
                            "      <td>0.754613</td>\n",
                            "      <td>0.874771</td>\n",
                            "      <td>0.646613</td>\n",
                            "      <td>0.017397</td>\n",
                            "      <td>0.824654</td>\n",
                            "    </tr>\n",
                            "    <tr>\n",
                            "      <th>7</th>\n",
                            "      <td>0.666065</td>\n",
                            "      <td>0.514127</td>\n",
                            "      <td>0.090559</td>\n",
                            "      <td>0.789936</td>\n",
                            "      <td>0.540167</td>\n",
                            "    </tr>\n",
                            "    <tr>\n",
                            "      <th>8</th>\n",
                            "      <td>0.218177</td>\n",
                            "      <td>0.340925</td>\n",
                            "      <td>0.117959</td>\n",
                            "      <td>0.040148</td>\n",
                            "      <td>0.897591</td>\n",
                            "    </tr>\n",
                            "    <tr>\n",
                            "      <th>9</th>\n",
                            "      <td>0.471563</td>\n",
                            "      <td>0.273186</td>\n",
                            "      <td>0.703946</td>\n",
                            "      <td>0.830364</td>\n",
                            "      <td>0.532951</td>\n",
                            "    </tr>\n",
                            "  </tbody>\n",
                            "</table>\n",
                            "</div>"
                        ]
                    },
                    "metadata": {},
                    "execution_count": 318
                }
            ],
            "metadata": {}
        },
        {
            "cell_type": "code",
            "execution_count": 319,
            "source": [
                "type(dfDF)"
            ],
            "outputs": [
                {
                    "output_type": "execute_result",
                    "data": {
                        "text/plain": [
                            "pandas.core.frame.DataFrame"
                        ]
                    },
                    "metadata": {},
                    "execution_count": 319
                }
            ],
            "metadata": {}
        },
        {
            "cell_type": "markdown",
            "source": [
                "How To DataType"
            ],
            "metadata": {}
        },
        {
            "cell_type": "code",
            "execution_count": 320,
            "source": [
                "dfDF.dtypes"
            ],
            "outputs": [
                {
                    "output_type": "execute_result",
                    "data": {
                        "text/plain": [
                            "0    float64\n",
                            "1    float64\n",
                            "2    float64\n",
                            "3    float64\n",
                            "4    float64\n",
                            "dtype: object"
                        ]
                    },
                    "metadata": {},
                    "execution_count": 320
                }
            ],
            "metadata": {}
        },
        {
            "cell_type": "markdown",
            "source": [
                "How To Convert In Numpy Array"
            ],
            "metadata": {}
        },
        {
            "cell_type": "code",
            "execution_count": 321,
            "source": [
                "dfDF.to_numpy"
            ],
            "outputs": [
                {
                    "output_type": "execute_result",
                    "data": {
                        "text/plain": [
                            "<bound method DataFrame.to_numpy of           0         1         2         3         4\n",
                            "0  0.253747  0.806744  0.688129  0.975725  0.906578\n",
                            "1  0.330156  0.477812  0.468142  0.861413  0.059388\n",
                            "2  0.551414  0.952523  0.734835  0.497721  0.719725\n",
                            "3  0.328301  0.230047  0.565169  0.023259  0.939424\n",
                            "4  0.412424  0.118703  0.870633  0.706053  0.348975\n",
                            "5  0.116088  0.890678  0.607386  0.890480  0.204236\n",
                            "6  0.754613  0.874771  0.646613  0.017397  0.824654\n",
                            "7  0.666065  0.514127  0.090559  0.789936  0.540167\n",
                            "8  0.218177  0.340925  0.117959  0.040148  0.897591\n",
                            "9  0.471563  0.273186  0.703946  0.830364  0.532951>"
                        ]
                    },
                    "metadata": {},
                    "execution_count": 321
                }
            ],
            "metadata": {}
        },
        {
            "cell_type": "markdown",
            "source": [
                "How To Sort Any Index"
            ],
            "metadata": {}
        },
        {
            "cell_type": "code",
            "execution_count": 322,
            "source": [
                "dfDF.sort_index(axis=0, ascending= False)"
            ],
            "outputs": [
                {
                    "output_type": "execute_result",
                    "data": {
                        "text/plain": [
                            "          0         1         2         3         4\n",
                            "9  0.471563  0.273186  0.703946  0.830364  0.532951\n",
                            "8  0.218177  0.340925  0.117959  0.040148  0.897591\n",
                            "7  0.666065  0.514127  0.090559  0.789936  0.540167\n",
                            "6  0.754613  0.874771  0.646613  0.017397  0.824654\n",
                            "5  0.116088  0.890678  0.607386  0.890480  0.204236\n",
                            "4  0.412424  0.118703  0.870633  0.706053  0.348975\n",
                            "3  0.328301  0.230047  0.565169  0.023259  0.939424\n",
                            "2  0.551414  0.952523  0.734835  0.497721  0.719725\n",
                            "1  0.330156  0.477812  0.468142  0.861413  0.059388\n",
                            "0  0.253747  0.806744  0.688129  0.975725  0.906578"
                        ],
                        "text/html": [
                            "<div>\n",
                            "<style scoped>\n",
                            "    .dataframe tbody tr th:only-of-type {\n",
                            "        vertical-align: middle;\n",
                            "    }\n",
                            "\n",
                            "    .dataframe tbody tr th {\n",
                            "        vertical-align: top;\n",
                            "    }\n",
                            "\n",
                            "    .dataframe thead th {\n",
                            "        text-align: right;\n",
                            "    }\n",
                            "</style>\n",
                            "<table border=\"1\" class=\"dataframe\">\n",
                            "  <thead>\n",
                            "    <tr style=\"text-align: right;\">\n",
                            "      <th></th>\n",
                            "      <th>0</th>\n",
                            "      <th>1</th>\n",
                            "      <th>2</th>\n",
                            "      <th>3</th>\n",
                            "      <th>4</th>\n",
                            "    </tr>\n",
                            "  </thead>\n",
                            "  <tbody>\n",
                            "    <tr>\n",
                            "      <th>9</th>\n",
                            "      <td>0.471563</td>\n",
                            "      <td>0.273186</td>\n",
                            "      <td>0.703946</td>\n",
                            "      <td>0.830364</td>\n",
                            "      <td>0.532951</td>\n",
                            "    </tr>\n",
                            "    <tr>\n",
                            "      <th>8</th>\n",
                            "      <td>0.218177</td>\n",
                            "      <td>0.340925</td>\n",
                            "      <td>0.117959</td>\n",
                            "      <td>0.040148</td>\n",
                            "      <td>0.897591</td>\n",
                            "    </tr>\n",
                            "    <tr>\n",
                            "      <th>7</th>\n",
                            "      <td>0.666065</td>\n",
                            "      <td>0.514127</td>\n",
                            "      <td>0.090559</td>\n",
                            "      <td>0.789936</td>\n",
                            "      <td>0.540167</td>\n",
                            "    </tr>\n",
                            "    <tr>\n",
                            "      <th>6</th>\n",
                            "      <td>0.754613</td>\n",
                            "      <td>0.874771</td>\n",
                            "      <td>0.646613</td>\n",
                            "      <td>0.017397</td>\n",
                            "      <td>0.824654</td>\n",
                            "    </tr>\n",
                            "    <tr>\n",
                            "      <th>5</th>\n",
                            "      <td>0.116088</td>\n",
                            "      <td>0.890678</td>\n",
                            "      <td>0.607386</td>\n",
                            "      <td>0.890480</td>\n",
                            "      <td>0.204236</td>\n",
                            "    </tr>\n",
                            "    <tr>\n",
                            "      <th>4</th>\n",
                            "      <td>0.412424</td>\n",
                            "      <td>0.118703</td>\n",
                            "      <td>0.870633</td>\n",
                            "      <td>0.706053</td>\n",
                            "      <td>0.348975</td>\n",
                            "    </tr>\n",
                            "    <tr>\n",
                            "      <th>3</th>\n",
                            "      <td>0.328301</td>\n",
                            "      <td>0.230047</td>\n",
                            "      <td>0.565169</td>\n",
                            "      <td>0.023259</td>\n",
                            "      <td>0.939424</td>\n",
                            "    </tr>\n",
                            "    <tr>\n",
                            "      <th>2</th>\n",
                            "      <td>0.551414</td>\n",
                            "      <td>0.952523</td>\n",
                            "      <td>0.734835</td>\n",
                            "      <td>0.497721</td>\n",
                            "      <td>0.719725</td>\n",
                            "    </tr>\n",
                            "    <tr>\n",
                            "      <th>1</th>\n",
                            "      <td>0.330156</td>\n",
                            "      <td>0.477812</td>\n",
                            "      <td>0.468142</td>\n",
                            "      <td>0.861413</td>\n",
                            "      <td>0.059388</td>\n",
                            "    </tr>\n",
                            "    <tr>\n",
                            "      <th>0</th>\n",
                            "      <td>0.253747</td>\n",
                            "      <td>0.806744</td>\n",
                            "      <td>0.688129</td>\n",
                            "      <td>0.975725</td>\n",
                            "      <td>0.906578</td>\n",
                            "    </tr>\n",
                            "  </tbody>\n",
                            "</table>\n",
                            "</div>"
                        ]
                    },
                    "metadata": {},
                    "execution_count": 322
                }
            ],
            "metadata": {}
        },
        {
            "cell_type": "code",
            "execution_count": 323,
            "source": [
                "dfDF.sort_index(axis=1, ascending= False)"
            ],
            "outputs": [
                {
                    "output_type": "execute_result",
                    "data": {
                        "text/plain": [
                            "          4         3         2         1         0\n",
                            "0  0.906578  0.975725  0.688129  0.806744  0.253747\n",
                            "1  0.059388  0.861413  0.468142  0.477812  0.330156\n",
                            "2  0.719725  0.497721  0.734835  0.952523  0.551414\n",
                            "3  0.939424  0.023259  0.565169  0.230047  0.328301\n",
                            "4  0.348975  0.706053  0.870633  0.118703  0.412424\n",
                            "5  0.204236  0.890480  0.607386  0.890678  0.116088\n",
                            "6  0.824654  0.017397  0.646613  0.874771  0.754613\n",
                            "7  0.540167  0.789936  0.090559  0.514127  0.666065\n",
                            "8  0.897591  0.040148  0.117959  0.340925  0.218177\n",
                            "9  0.532951  0.830364  0.703946  0.273186  0.471563"
                        ],
                        "text/html": [
                            "<div>\n",
                            "<style scoped>\n",
                            "    .dataframe tbody tr th:only-of-type {\n",
                            "        vertical-align: middle;\n",
                            "    }\n",
                            "\n",
                            "    .dataframe tbody tr th {\n",
                            "        vertical-align: top;\n",
                            "    }\n",
                            "\n",
                            "    .dataframe thead th {\n",
                            "        text-align: right;\n",
                            "    }\n",
                            "</style>\n",
                            "<table border=\"1\" class=\"dataframe\">\n",
                            "  <thead>\n",
                            "    <tr style=\"text-align: right;\">\n",
                            "      <th></th>\n",
                            "      <th>4</th>\n",
                            "      <th>3</th>\n",
                            "      <th>2</th>\n",
                            "      <th>1</th>\n",
                            "      <th>0</th>\n",
                            "    </tr>\n",
                            "  </thead>\n",
                            "  <tbody>\n",
                            "    <tr>\n",
                            "      <th>0</th>\n",
                            "      <td>0.906578</td>\n",
                            "      <td>0.975725</td>\n",
                            "      <td>0.688129</td>\n",
                            "      <td>0.806744</td>\n",
                            "      <td>0.253747</td>\n",
                            "    </tr>\n",
                            "    <tr>\n",
                            "      <th>1</th>\n",
                            "      <td>0.059388</td>\n",
                            "      <td>0.861413</td>\n",
                            "      <td>0.468142</td>\n",
                            "      <td>0.477812</td>\n",
                            "      <td>0.330156</td>\n",
                            "    </tr>\n",
                            "    <tr>\n",
                            "      <th>2</th>\n",
                            "      <td>0.719725</td>\n",
                            "      <td>0.497721</td>\n",
                            "      <td>0.734835</td>\n",
                            "      <td>0.952523</td>\n",
                            "      <td>0.551414</td>\n",
                            "    </tr>\n",
                            "    <tr>\n",
                            "      <th>3</th>\n",
                            "      <td>0.939424</td>\n",
                            "      <td>0.023259</td>\n",
                            "      <td>0.565169</td>\n",
                            "      <td>0.230047</td>\n",
                            "      <td>0.328301</td>\n",
                            "    </tr>\n",
                            "    <tr>\n",
                            "      <th>4</th>\n",
                            "      <td>0.348975</td>\n",
                            "      <td>0.706053</td>\n",
                            "      <td>0.870633</td>\n",
                            "      <td>0.118703</td>\n",
                            "      <td>0.412424</td>\n",
                            "    </tr>\n",
                            "    <tr>\n",
                            "      <th>5</th>\n",
                            "      <td>0.204236</td>\n",
                            "      <td>0.890480</td>\n",
                            "      <td>0.607386</td>\n",
                            "      <td>0.890678</td>\n",
                            "      <td>0.116088</td>\n",
                            "    </tr>\n",
                            "    <tr>\n",
                            "      <th>6</th>\n",
                            "      <td>0.824654</td>\n",
                            "      <td>0.017397</td>\n",
                            "      <td>0.646613</td>\n",
                            "      <td>0.874771</td>\n",
                            "      <td>0.754613</td>\n",
                            "    </tr>\n",
                            "    <tr>\n",
                            "      <th>7</th>\n",
                            "      <td>0.540167</td>\n",
                            "      <td>0.789936</td>\n",
                            "      <td>0.090559</td>\n",
                            "      <td>0.514127</td>\n",
                            "      <td>0.666065</td>\n",
                            "    </tr>\n",
                            "    <tr>\n",
                            "      <th>8</th>\n",
                            "      <td>0.897591</td>\n",
                            "      <td>0.040148</td>\n",
                            "      <td>0.117959</td>\n",
                            "      <td>0.340925</td>\n",
                            "      <td>0.218177</td>\n",
                            "    </tr>\n",
                            "    <tr>\n",
                            "      <th>9</th>\n",
                            "      <td>0.532951</td>\n",
                            "      <td>0.830364</td>\n",
                            "      <td>0.703946</td>\n",
                            "      <td>0.273186</td>\n",
                            "      <td>0.471563</td>\n",
                            "    </tr>\n",
                            "  </tbody>\n",
                            "</table>\n",
                            "</div>"
                        ]
                    },
                    "metadata": {},
                    "execution_count": 323
                }
            ],
            "metadata": {}
        },
        {
            "cell_type": "markdown",
            "source": [
                "How To Change Coumn Name"
            ],
            "metadata": {}
        },
        {
            "cell_type": "code",
            "execution_count": 324,
            "source": [
                "dfDF.columns=list(\"ABCDE\")\r\n",
                "dfDF"
            ],
            "outputs": [
                {
                    "output_type": "execute_result",
                    "data": {
                        "text/plain": [
                            "          A         B         C         D         E\n",
                            "0  0.253747  0.806744  0.688129  0.975725  0.906578\n",
                            "1  0.330156  0.477812  0.468142  0.861413  0.059388\n",
                            "2  0.551414  0.952523  0.734835  0.497721  0.719725\n",
                            "3  0.328301  0.230047  0.565169  0.023259  0.939424\n",
                            "4  0.412424  0.118703  0.870633  0.706053  0.348975\n",
                            "5  0.116088  0.890678  0.607386  0.890480  0.204236\n",
                            "6  0.754613  0.874771  0.646613  0.017397  0.824654\n",
                            "7  0.666065  0.514127  0.090559  0.789936  0.540167\n",
                            "8  0.218177  0.340925  0.117959  0.040148  0.897591\n",
                            "9  0.471563  0.273186  0.703946  0.830364  0.532951"
                        ],
                        "text/html": [
                            "<div>\n",
                            "<style scoped>\n",
                            "    .dataframe tbody tr th:only-of-type {\n",
                            "        vertical-align: middle;\n",
                            "    }\n",
                            "\n",
                            "    .dataframe tbody tr th {\n",
                            "        vertical-align: top;\n",
                            "    }\n",
                            "\n",
                            "    .dataframe thead th {\n",
                            "        text-align: right;\n",
                            "    }\n",
                            "</style>\n",
                            "<table border=\"1\" class=\"dataframe\">\n",
                            "  <thead>\n",
                            "    <tr style=\"text-align: right;\">\n",
                            "      <th></th>\n",
                            "      <th>A</th>\n",
                            "      <th>B</th>\n",
                            "      <th>C</th>\n",
                            "      <th>D</th>\n",
                            "      <th>E</th>\n",
                            "    </tr>\n",
                            "  </thead>\n",
                            "  <tbody>\n",
                            "    <tr>\n",
                            "      <th>0</th>\n",
                            "      <td>0.253747</td>\n",
                            "      <td>0.806744</td>\n",
                            "      <td>0.688129</td>\n",
                            "      <td>0.975725</td>\n",
                            "      <td>0.906578</td>\n",
                            "    </tr>\n",
                            "    <tr>\n",
                            "      <th>1</th>\n",
                            "      <td>0.330156</td>\n",
                            "      <td>0.477812</td>\n",
                            "      <td>0.468142</td>\n",
                            "      <td>0.861413</td>\n",
                            "      <td>0.059388</td>\n",
                            "    </tr>\n",
                            "    <tr>\n",
                            "      <th>2</th>\n",
                            "      <td>0.551414</td>\n",
                            "      <td>0.952523</td>\n",
                            "      <td>0.734835</td>\n",
                            "      <td>0.497721</td>\n",
                            "      <td>0.719725</td>\n",
                            "    </tr>\n",
                            "    <tr>\n",
                            "      <th>3</th>\n",
                            "      <td>0.328301</td>\n",
                            "      <td>0.230047</td>\n",
                            "      <td>0.565169</td>\n",
                            "      <td>0.023259</td>\n",
                            "      <td>0.939424</td>\n",
                            "    </tr>\n",
                            "    <tr>\n",
                            "      <th>4</th>\n",
                            "      <td>0.412424</td>\n",
                            "      <td>0.118703</td>\n",
                            "      <td>0.870633</td>\n",
                            "      <td>0.706053</td>\n",
                            "      <td>0.348975</td>\n",
                            "    </tr>\n",
                            "    <tr>\n",
                            "      <th>5</th>\n",
                            "      <td>0.116088</td>\n",
                            "      <td>0.890678</td>\n",
                            "      <td>0.607386</td>\n",
                            "      <td>0.890480</td>\n",
                            "      <td>0.204236</td>\n",
                            "    </tr>\n",
                            "    <tr>\n",
                            "      <th>6</th>\n",
                            "      <td>0.754613</td>\n",
                            "      <td>0.874771</td>\n",
                            "      <td>0.646613</td>\n",
                            "      <td>0.017397</td>\n",
                            "      <td>0.824654</td>\n",
                            "    </tr>\n",
                            "    <tr>\n",
                            "      <th>7</th>\n",
                            "      <td>0.666065</td>\n",
                            "      <td>0.514127</td>\n",
                            "      <td>0.090559</td>\n",
                            "      <td>0.789936</td>\n",
                            "      <td>0.540167</td>\n",
                            "    </tr>\n",
                            "    <tr>\n",
                            "      <th>8</th>\n",
                            "      <td>0.218177</td>\n",
                            "      <td>0.340925</td>\n",
                            "      <td>0.117959</td>\n",
                            "      <td>0.040148</td>\n",
                            "      <td>0.897591</td>\n",
                            "    </tr>\n",
                            "    <tr>\n",
                            "      <th>9</th>\n",
                            "      <td>0.471563</td>\n",
                            "      <td>0.273186</td>\n",
                            "      <td>0.703946</td>\n",
                            "      <td>0.830364</td>\n",
                            "      <td>0.532951</td>\n",
                            "    </tr>\n",
                            "  </tbody>\n",
                            "</table>\n",
                            "</div>"
                        ]
                    },
                    "metadata": {},
                    "execution_count": 324
                }
            ],
            "metadata": {}
        },
        {
            "cell_type": "code",
            "execution_count": 325,
            "source": [
                "dfDF[\"E\"][0]"
            ],
            "outputs": [
                {
                    "output_type": "execute_result",
                    "data": {
                        "text/plain": [
                            "0.9065776134141048"
                        ]
                    },
                    "metadata": {},
                    "execution_count": 325
                }
            ],
            "metadata": {}
        },
        {
            "cell_type": "markdown",
            "source": [
                "How To Change Value With Loc Functhion"
            ],
            "metadata": {}
        },
        {
            "cell_type": "code",
            "execution_count": 326,
            "source": [
                "dfDF.loc[0,\"D\"]= 0.999\r\n",
                "dfDF"
            ],
            "outputs": [
                {
                    "output_type": "execute_result",
                    "data": {
                        "text/plain": [
                            "          A         B         C         D         E\n",
                            "0  0.253747  0.806744  0.688129  0.999000  0.906578\n",
                            "1  0.330156  0.477812  0.468142  0.861413  0.059388\n",
                            "2  0.551414  0.952523  0.734835  0.497721  0.719725\n",
                            "3  0.328301  0.230047  0.565169  0.023259  0.939424\n",
                            "4  0.412424  0.118703  0.870633  0.706053  0.348975\n",
                            "5  0.116088  0.890678  0.607386  0.890480  0.204236\n",
                            "6  0.754613  0.874771  0.646613  0.017397  0.824654\n",
                            "7  0.666065  0.514127  0.090559  0.789936  0.540167\n",
                            "8  0.218177  0.340925  0.117959  0.040148  0.897591\n",
                            "9  0.471563  0.273186  0.703946  0.830364  0.532951"
                        ],
                        "text/html": [
                            "<div>\n",
                            "<style scoped>\n",
                            "    .dataframe tbody tr th:only-of-type {\n",
                            "        vertical-align: middle;\n",
                            "    }\n",
                            "\n",
                            "    .dataframe tbody tr th {\n",
                            "        vertical-align: top;\n",
                            "    }\n",
                            "\n",
                            "    .dataframe thead th {\n",
                            "        text-align: right;\n",
                            "    }\n",
                            "</style>\n",
                            "<table border=\"1\" class=\"dataframe\">\n",
                            "  <thead>\n",
                            "    <tr style=\"text-align: right;\">\n",
                            "      <th></th>\n",
                            "      <th>A</th>\n",
                            "      <th>B</th>\n",
                            "      <th>C</th>\n",
                            "      <th>D</th>\n",
                            "      <th>E</th>\n",
                            "    </tr>\n",
                            "  </thead>\n",
                            "  <tbody>\n",
                            "    <tr>\n",
                            "      <th>0</th>\n",
                            "      <td>0.253747</td>\n",
                            "      <td>0.806744</td>\n",
                            "      <td>0.688129</td>\n",
                            "      <td>0.999000</td>\n",
                            "      <td>0.906578</td>\n",
                            "    </tr>\n",
                            "    <tr>\n",
                            "      <th>1</th>\n",
                            "      <td>0.330156</td>\n",
                            "      <td>0.477812</td>\n",
                            "      <td>0.468142</td>\n",
                            "      <td>0.861413</td>\n",
                            "      <td>0.059388</td>\n",
                            "    </tr>\n",
                            "    <tr>\n",
                            "      <th>2</th>\n",
                            "      <td>0.551414</td>\n",
                            "      <td>0.952523</td>\n",
                            "      <td>0.734835</td>\n",
                            "      <td>0.497721</td>\n",
                            "      <td>0.719725</td>\n",
                            "    </tr>\n",
                            "    <tr>\n",
                            "      <th>3</th>\n",
                            "      <td>0.328301</td>\n",
                            "      <td>0.230047</td>\n",
                            "      <td>0.565169</td>\n",
                            "      <td>0.023259</td>\n",
                            "      <td>0.939424</td>\n",
                            "    </tr>\n",
                            "    <tr>\n",
                            "      <th>4</th>\n",
                            "      <td>0.412424</td>\n",
                            "      <td>0.118703</td>\n",
                            "      <td>0.870633</td>\n",
                            "      <td>0.706053</td>\n",
                            "      <td>0.348975</td>\n",
                            "    </tr>\n",
                            "    <tr>\n",
                            "      <th>5</th>\n",
                            "      <td>0.116088</td>\n",
                            "      <td>0.890678</td>\n",
                            "      <td>0.607386</td>\n",
                            "      <td>0.890480</td>\n",
                            "      <td>0.204236</td>\n",
                            "    </tr>\n",
                            "    <tr>\n",
                            "      <th>6</th>\n",
                            "      <td>0.754613</td>\n",
                            "      <td>0.874771</td>\n",
                            "      <td>0.646613</td>\n",
                            "      <td>0.017397</td>\n",
                            "      <td>0.824654</td>\n",
                            "    </tr>\n",
                            "    <tr>\n",
                            "      <th>7</th>\n",
                            "      <td>0.666065</td>\n",
                            "      <td>0.514127</td>\n",
                            "      <td>0.090559</td>\n",
                            "      <td>0.789936</td>\n",
                            "      <td>0.540167</td>\n",
                            "    </tr>\n",
                            "    <tr>\n",
                            "      <th>8</th>\n",
                            "      <td>0.218177</td>\n",
                            "      <td>0.340925</td>\n",
                            "      <td>0.117959</td>\n",
                            "      <td>0.040148</td>\n",
                            "      <td>0.897591</td>\n",
                            "    </tr>\n",
                            "    <tr>\n",
                            "      <th>9</th>\n",
                            "      <td>0.471563</td>\n",
                            "      <td>0.273186</td>\n",
                            "      <td>0.703946</td>\n",
                            "      <td>0.830364</td>\n",
                            "      <td>0.532951</td>\n",
                            "    </tr>\n",
                            "  </tbody>\n",
                            "</table>\n",
                            "</div>"
                        ]
                    },
                    "metadata": {},
                    "execution_count": 326
                }
            ],
            "metadata": {}
        },
        {
            "cell_type": "code",
            "execution_count": 327,
            "source": [
                "dfDF.loc[0, 0]=0.999\r\n",
                "dfDF"
            ],
            "outputs": [
                {
                    "output_type": "execute_result",
                    "data": {
                        "text/plain": [
                            "          A         B         C         D         E      0\n",
                            "0  0.253747  0.806744  0.688129  0.999000  0.906578  0.999\n",
                            "1  0.330156  0.477812  0.468142  0.861413  0.059388    NaN\n",
                            "2  0.551414  0.952523  0.734835  0.497721  0.719725    NaN\n",
                            "3  0.328301  0.230047  0.565169  0.023259  0.939424    NaN\n",
                            "4  0.412424  0.118703  0.870633  0.706053  0.348975    NaN\n",
                            "5  0.116088  0.890678  0.607386  0.890480  0.204236    NaN\n",
                            "6  0.754613  0.874771  0.646613  0.017397  0.824654    NaN\n",
                            "7  0.666065  0.514127  0.090559  0.789936  0.540167    NaN\n",
                            "8  0.218177  0.340925  0.117959  0.040148  0.897591    NaN\n",
                            "9  0.471563  0.273186  0.703946  0.830364  0.532951    NaN"
                        ],
                        "text/html": [
                            "<div>\n",
                            "<style scoped>\n",
                            "    .dataframe tbody tr th:only-of-type {\n",
                            "        vertical-align: middle;\n",
                            "    }\n",
                            "\n",
                            "    .dataframe tbody tr th {\n",
                            "        vertical-align: top;\n",
                            "    }\n",
                            "\n",
                            "    .dataframe thead th {\n",
                            "        text-align: right;\n",
                            "    }\n",
                            "</style>\n",
                            "<table border=\"1\" class=\"dataframe\">\n",
                            "  <thead>\n",
                            "    <tr style=\"text-align: right;\">\n",
                            "      <th></th>\n",
                            "      <th>A</th>\n",
                            "      <th>B</th>\n",
                            "      <th>C</th>\n",
                            "      <th>D</th>\n",
                            "      <th>E</th>\n",
                            "      <th>0</th>\n",
                            "    </tr>\n",
                            "  </thead>\n",
                            "  <tbody>\n",
                            "    <tr>\n",
                            "      <th>0</th>\n",
                            "      <td>0.253747</td>\n",
                            "      <td>0.806744</td>\n",
                            "      <td>0.688129</td>\n",
                            "      <td>0.999000</td>\n",
                            "      <td>0.906578</td>\n",
                            "      <td>0.999</td>\n",
                            "    </tr>\n",
                            "    <tr>\n",
                            "      <th>1</th>\n",
                            "      <td>0.330156</td>\n",
                            "      <td>0.477812</td>\n",
                            "      <td>0.468142</td>\n",
                            "      <td>0.861413</td>\n",
                            "      <td>0.059388</td>\n",
                            "      <td>NaN</td>\n",
                            "    </tr>\n",
                            "    <tr>\n",
                            "      <th>2</th>\n",
                            "      <td>0.551414</td>\n",
                            "      <td>0.952523</td>\n",
                            "      <td>0.734835</td>\n",
                            "      <td>0.497721</td>\n",
                            "      <td>0.719725</td>\n",
                            "      <td>NaN</td>\n",
                            "    </tr>\n",
                            "    <tr>\n",
                            "      <th>3</th>\n",
                            "      <td>0.328301</td>\n",
                            "      <td>0.230047</td>\n",
                            "      <td>0.565169</td>\n",
                            "      <td>0.023259</td>\n",
                            "      <td>0.939424</td>\n",
                            "      <td>NaN</td>\n",
                            "    </tr>\n",
                            "    <tr>\n",
                            "      <th>4</th>\n",
                            "      <td>0.412424</td>\n",
                            "      <td>0.118703</td>\n",
                            "      <td>0.870633</td>\n",
                            "      <td>0.706053</td>\n",
                            "      <td>0.348975</td>\n",
                            "      <td>NaN</td>\n",
                            "    </tr>\n",
                            "    <tr>\n",
                            "      <th>5</th>\n",
                            "      <td>0.116088</td>\n",
                            "      <td>0.890678</td>\n",
                            "      <td>0.607386</td>\n",
                            "      <td>0.890480</td>\n",
                            "      <td>0.204236</td>\n",
                            "      <td>NaN</td>\n",
                            "    </tr>\n",
                            "    <tr>\n",
                            "      <th>6</th>\n",
                            "      <td>0.754613</td>\n",
                            "      <td>0.874771</td>\n",
                            "      <td>0.646613</td>\n",
                            "      <td>0.017397</td>\n",
                            "      <td>0.824654</td>\n",
                            "      <td>NaN</td>\n",
                            "    </tr>\n",
                            "    <tr>\n",
                            "      <th>7</th>\n",
                            "      <td>0.666065</td>\n",
                            "      <td>0.514127</td>\n",
                            "      <td>0.090559</td>\n",
                            "      <td>0.789936</td>\n",
                            "      <td>0.540167</td>\n",
                            "      <td>NaN</td>\n",
                            "    </tr>\n",
                            "    <tr>\n",
                            "      <th>8</th>\n",
                            "      <td>0.218177</td>\n",
                            "      <td>0.340925</td>\n",
                            "      <td>0.117959</td>\n",
                            "      <td>0.040148</td>\n",
                            "      <td>0.897591</td>\n",
                            "      <td>NaN</td>\n",
                            "    </tr>\n",
                            "    <tr>\n",
                            "      <th>9</th>\n",
                            "      <td>0.471563</td>\n",
                            "      <td>0.273186</td>\n",
                            "      <td>0.703946</td>\n",
                            "      <td>0.830364</td>\n",
                            "      <td>0.532951</td>\n",
                            "      <td>NaN</td>\n",
                            "    </tr>\n",
                            "  </tbody>\n",
                            "</table>\n",
                            "</div>"
                        ]
                    },
                    "metadata": {},
                    "execution_count": 327
                }
            ],
            "metadata": {}
        },
        {
            "cell_type": "markdown",
            "source": [
                "How To Drop Any column"
            ],
            "metadata": {}
        },
        {
            "cell_type": "code",
            "execution_count": 328,
            "source": [
                "dfDF=dfDF.drop(0 ,axis=1)\r\n",
                "dfDF"
            ],
            "outputs": [
                {
                    "output_type": "execute_result",
                    "data": {
                        "text/plain": [
                            "          A         B         C         D         E\n",
                            "0  0.253747  0.806744  0.688129  0.999000  0.906578\n",
                            "1  0.330156  0.477812  0.468142  0.861413  0.059388\n",
                            "2  0.551414  0.952523  0.734835  0.497721  0.719725\n",
                            "3  0.328301  0.230047  0.565169  0.023259  0.939424\n",
                            "4  0.412424  0.118703  0.870633  0.706053  0.348975\n",
                            "5  0.116088  0.890678  0.607386  0.890480  0.204236\n",
                            "6  0.754613  0.874771  0.646613  0.017397  0.824654\n",
                            "7  0.666065  0.514127  0.090559  0.789936  0.540167\n",
                            "8  0.218177  0.340925  0.117959  0.040148  0.897591\n",
                            "9  0.471563  0.273186  0.703946  0.830364  0.532951"
                        ],
                        "text/html": [
                            "<div>\n",
                            "<style scoped>\n",
                            "    .dataframe tbody tr th:only-of-type {\n",
                            "        vertical-align: middle;\n",
                            "    }\n",
                            "\n",
                            "    .dataframe tbody tr th {\n",
                            "        vertical-align: top;\n",
                            "    }\n",
                            "\n",
                            "    .dataframe thead th {\n",
                            "        text-align: right;\n",
                            "    }\n",
                            "</style>\n",
                            "<table border=\"1\" class=\"dataframe\">\n",
                            "  <thead>\n",
                            "    <tr style=\"text-align: right;\">\n",
                            "      <th></th>\n",
                            "      <th>A</th>\n",
                            "      <th>B</th>\n",
                            "      <th>C</th>\n",
                            "      <th>D</th>\n",
                            "      <th>E</th>\n",
                            "    </tr>\n",
                            "  </thead>\n",
                            "  <tbody>\n",
                            "    <tr>\n",
                            "      <th>0</th>\n",
                            "      <td>0.253747</td>\n",
                            "      <td>0.806744</td>\n",
                            "      <td>0.688129</td>\n",
                            "      <td>0.999000</td>\n",
                            "      <td>0.906578</td>\n",
                            "    </tr>\n",
                            "    <tr>\n",
                            "      <th>1</th>\n",
                            "      <td>0.330156</td>\n",
                            "      <td>0.477812</td>\n",
                            "      <td>0.468142</td>\n",
                            "      <td>0.861413</td>\n",
                            "      <td>0.059388</td>\n",
                            "    </tr>\n",
                            "    <tr>\n",
                            "      <th>2</th>\n",
                            "      <td>0.551414</td>\n",
                            "      <td>0.952523</td>\n",
                            "      <td>0.734835</td>\n",
                            "      <td>0.497721</td>\n",
                            "      <td>0.719725</td>\n",
                            "    </tr>\n",
                            "    <tr>\n",
                            "      <th>3</th>\n",
                            "      <td>0.328301</td>\n",
                            "      <td>0.230047</td>\n",
                            "      <td>0.565169</td>\n",
                            "      <td>0.023259</td>\n",
                            "      <td>0.939424</td>\n",
                            "    </tr>\n",
                            "    <tr>\n",
                            "      <th>4</th>\n",
                            "      <td>0.412424</td>\n",
                            "      <td>0.118703</td>\n",
                            "      <td>0.870633</td>\n",
                            "      <td>0.706053</td>\n",
                            "      <td>0.348975</td>\n",
                            "    </tr>\n",
                            "    <tr>\n",
                            "      <th>5</th>\n",
                            "      <td>0.116088</td>\n",
                            "      <td>0.890678</td>\n",
                            "      <td>0.607386</td>\n",
                            "      <td>0.890480</td>\n",
                            "      <td>0.204236</td>\n",
                            "    </tr>\n",
                            "    <tr>\n",
                            "      <th>6</th>\n",
                            "      <td>0.754613</td>\n",
                            "      <td>0.874771</td>\n",
                            "      <td>0.646613</td>\n",
                            "      <td>0.017397</td>\n",
                            "      <td>0.824654</td>\n",
                            "    </tr>\n",
                            "    <tr>\n",
                            "      <th>7</th>\n",
                            "      <td>0.666065</td>\n",
                            "      <td>0.514127</td>\n",
                            "      <td>0.090559</td>\n",
                            "      <td>0.789936</td>\n",
                            "      <td>0.540167</td>\n",
                            "    </tr>\n",
                            "    <tr>\n",
                            "      <th>8</th>\n",
                            "      <td>0.218177</td>\n",
                            "      <td>0.340925</td>\n",
                            "      <td>0.117959</td>\n",
                            "      <td>0.040148</td>\n",
                            "      <td>0.897591</td>\n",
                            "    </tr>\n",
                            "    <tr>\n",
                            "      <th>9</th>\n",
                            "      <td>0.471563</td>\n",
                            "      <td>0.273186</td>\n",
                            "      <td>0.703946</td>\n",
                            "      <td>0.830364</td>\n",
                            "      <td>0.532951</td>\n",
                            "    </tr>\n",
                            "  </tbody>\n",
                            "</table>\n",
                            "</div>"
                        ]
                    },
                    "metadata": {},
                    "execution_count": 328
                }
            ],
            "metadata": {}
        },
        {
            "cell_type": "markdown",
            "source": [
                "How To Get Set Of Coulmns"
            ],
            "metadata": {}
        },
        {
            "cell_type": "code",
            "execution_count": 329,
            "source": [
                "dfDF.loc[[1, 2], [\"E\", \"A\"]]"
            ],
            "outputs": [
                {
                    "output_type": "execute_result",
                    "data": {
                        "text/plain": [
                            "          E         A\n",
                            "1  0.059388  0.330156\n",
                            "2  0.719725  0.551414"
                        ],
                        "text/html": [
                            "<div>\n",
                            "<style scoped>\n",
                            "    .dataframe tbody tr th:only-of-type {\n",
                            "        vertical-align: middle;\n",
                            "    }\n",
                            "\n",
                            "    .dataframe tbody tr th {\n",
                            "        vertical-align: top;\n",
                            "    }\n",
                            "\n",
                            "    .dataframe thead th {\n",
                            "        text-align: right;\n",
                            "    }\n",
                            "</style>\n",
                            "<table border=\"1\" class=\"dataframe\">\n",
                            "  <thead>\n",
                            "    <tr style=\"text-align: right;\">\n",
                            "      <th></th>\n",
                            "      <th>E</th>\n",
                            "      <th>A</th>\n",
                            "    </tr>\n",
                            "  </thead>\n",
                            "  <tbody>\n",
                            "    <tr>\n",
                            "      <th>1</th>\n",
                            "      <td>0.059388</td>\n",
                            "      <td>0.330156</td>\n",
                            "    </tr>\n",
                            "    <tr>\n",
                            "      <th>2</th>\n",
                            "      <td>0.719725</td>\n",
                            "      <td>0.551414</td>\n",
                            "    </tr>\n",
                            "  </tbody>\n",
                            "</table>\n",
                            "</div>"
                        ]
                    },
                    "metadata": {},
                    "execution_count": 329
                }
            ],
            "metadata": {}
        },
        {
            "cell_type": "markdown",
            "source": [
                "How To Perform Complex Querys"
            ],
            "metadata": {}
        },
        {
            "cell_type": "code",
            "execution_count": 330,
            "source": [
                "dfDF"
            ],
            "outputs": [
                {
                    "output_type": "execute_result",
                    "data": {
                        "text/plain": [
                            "          A         B         C         D         E\n",
                            "0  0.253747  0.806744  0.688129  0.999000  0.906578\n",
                            "1  0.330156  0.477812  0.468142  0.861413  0.059388\n",
                            "2  0.551414  0.952523  0.734835  0.497721  0.719725\n",
                            "3  0.328301  0.230047  0.565169  0.023259  0.939424\n",
                            "4  0.412424  0.118703  0.870633  0.706053  0.348975\n",
                            "5  0.116088  0.890678  0.607386  0.890480  0.204236\n",
                            "6  0.754613  0.874771  0.646613  0.017397  0.824654\n",
                            "7  0.666065  0.514127  0.090559  0.789936  0.540167\n",
                            "8  0.218177  0.340925  0.117959  0.040148  0.897591\n",
                            "9  0.471563  0.273186  0.703946  0.830364  0.532951"
                        ],
                        "text/html": [
                            "<div>\n",
                            "<style scoped>\n",
                            "    .dataframe tbody tr th:only-of-type {\n",
                            "        vertical-align: middle;\n",
                            "    }\n",
                            "\n",
                            "    .dataframe tbody tr th {\n",
                            "        vertical-align: top;\n",
                            "    }\n",
                            "\n",
                            "    .dataframe thead th {\n",
                            "        text-align: right;\n",
                            "    }\n",
                            "</style>\n",
                            "<table border=\"1\" class=\"dataframe\">\n",
                            "  <thead>\n",
                            "    <tr style=\"text-align: right;\">\n",
                            "      <th></th>\n",
                            "      <th>A</th>\n",
                            "      <th>B</th>\n",
                            "      <th>C</th>\n",
                            "      <th>D</th>\n",
                            "      <th>E</th>\n",
                            "    </tr>\n",
                            "  </thead>\n",
                            "  <tbody>\n",
                            "    <tr>\n",
                            "      <th>0</th>\n",
                            "      <td>0.253747</td>\n",
                            "      <td>0.806744</td>\n",
                            "      <td>0.688129</td>\n",
                            "      <td>0.999000</td>\n",
                            "      <td>0.906578</td>\n",
                            "    </tr>\n",
                            "    <tr>\n",
                            "      <th>1</th>\n",
                            "      <td>0.330156</td>\n",
                            "      <td>0.477812</td>\n",
                            "      <td>0.468142</td>\n",
                            "      <td>0.861413</td>\n",
                            "      <td>0.059388</td>\n",
                            "    </tr>\n",
                            "    <tr>\n",
                            "      <th>2</th>\n",
                            "      <td>0.551414</td>\n",
                            "      <td>0.952523</td>\n",
                            "      <td>0.734835</td>\n",
                            "      <td>0.497721</td>\n",
                            "      <td>0.719725</td>\n",
                            "    </tr>\n",
                            "    <tr>\n",
                            "      <th>3</th>\n",
                            "      <td>0.328301</td>\n",
                            "      <td>0.230047</td>\n",
                            "      <td>0.565169</td>\n",
                            "      <td>0.023259</td>\n",
                            "      <td>0.939424</td>\n",
                            "    </tr>\n",
                            "    <tr>\n",
                            "      <th>4</th>\n",
                            "      <td>0.412424</td>\n",
                            "      <td>0.118703</td>\n",
                            "      <td>0.870633</td>\n",
                            "      <td>0.706053</td>\n",
                            "      <td>0.348975</td>\n",
                            "    </tr>\n",
                            "    <tr>\n",
                            "      <th>5</th>\n",
                            "      <td>0.116088</td>\n",
                            "      <td>0.890678</td>\n",
                            "      <td>0.607386</td>\n",
                            "      <td>0.890480</td>\n",
                            "      <td>0.204236</td>\n",
                            "    </tr>\n",
                            "    <tr>\n",
                            "      <th>6</th>\n",
                            "      <td>0.754613</td>\n",
                            "      <td>0.874771</td>\n",
                            "      <td>0.646613</td>\n",
                            "      <td>0.017397</td>\n",
                            "      <td>0.824654</td>\n",
                            "    </tr>\n",
                            "    <tr>\n",
                            "      <th>7</th>\n",
                            "      <td>0.666065</td>\n",
                            "      <td>0.514127</td>\n",
                            "      <td>0.090559</td>\n",
                            "      <td>0.789936</td>\n",
                            "      <td>0.540167</td>\n",
                            "    </tr>\n",
                            "    <tr>\n",
                            "      <th>8</th>\n",
                            "      <td>0.218177</td>\n",
                            "      <td>0.340925</td>\n",
                            "      <td>0.117959</td>\n",
                            "      <td>0.040148</td>\n",
                            "      <td>0.897591</td>\n",
                            "    </tr>\n",
                            "    <tr>\n",
                            "      <th>9</th>\n",
                            "      <td>0.471563</td>\n",
                            "      <td>0.273186</td>\n",
                            "      <td>0.703946</td>\n",
                            "      <td>0.830364</td>\n",
                            "      <td>0.532951</td>\n",
                            "    </tr>\n",
                            "  </tbody>\n",
                            "</table>\n",
                            "</div>"
                        ]
                    },
                    "metadata": {},
                    "execution_count": 330
                }
            ],
            "metadata": {}
        },
        {
            "cell_type": "code",
            "execution_count": 331,
            "source": [
                "dfDF.loc[(dfDF[\"A\"]> 0.3)]"
            ],
            "outputs": [
                {
                    "output_type": "execute_result",
                    "data": {
                        "text/plain": [
                            "          A         B         C         D         E\n",
                            "1  0.330156  0.477812  0.468142  0.861413  0.059388\n",
                            "2  0.551414  0.952523  0.734835  0.497721  0.719725\n",
                            "3  0.328301  0.230047  0.565169  0.023259  0.939424\n",
                            "4  0.412424  0.118703  0.870633  0.706053  0.348975\n",
                            "6  0.754613  0.874771  0.646613  0.017397  0.824654\n",
                            "7  0.666065  0.514127  0.090559  0.789936  0.540167\n",
                            "9  0.471563  0.273186  0.703946  0.830364  0.532951"
                        ],
                        "text/html": [
                            "<div>\n",
                            "<style scoped>\n",
                            "    .dataframe tbody tr th:only-of-type {\n",
                            "        vertical-align: middle;\n",
                            "    }\n",
                            "\n",
                            "    .dataframe tbody tr th {\n",
                            "        vertical-align: top;\n",
                            "    }\n",
                            "\n",
                            "    .dataframe thead th {\n",
                            "        text-align: right;\n",
                            "    }\n",
                            "</style>\n",
                            "<table border=\"1\" class=\"dataframe\">\n",
                            "  <thead>\n",
                            "    <tr style=\"text-align: right;\">\n",
                            "      <th></th>\n",
                            "      <th>A</th>\n",
                            "      <th>B</th>\n",
                            "      <th>C</th>\n",
                            "      <th>D</th>\n",
                            "      <th>E</th>\n",
                            "    </tr>\n",
                            "  </thead>\n",
                            "  <tbody>\n",
                            "    <tr>\n",
                            "      <th>1</th>\n",
                            "      <td>0.330156</td>\n",
                            "      <td>0.477812</td>\n",
                            "      <td>0.468142</td>\n",
                            "      <td>0.861413</td>\n",
                            "      <td>0.059388</td>\n",
                            "    </tr>\n",
                            "    <tr>\n",
                            "      <th>2</th>\n",
                            "      <td>0.551414</td>\n",
                            "      <td>0.952523</td>\n",
                            "      <td>0.734835</td>\n",
                            "      <td>0.497721</td>\n",
                            "      <td>0.719725</td>\n",
                            "    </tr>\n",
                            "    <tr>\n",
                            "      <th>3</th>\n",
                            "      <td>0.328301</td>\n",
                            "      <td>0.230047</td>\n",
                            "      <td>0.565169</td>\n",
                            "      <td>0.023259</td>\n",
                            "      <td>0.939424</td>\n",
                            "    </tr>\n",
                            "    <tr>\n",
                            "      <th>4</th>\n",
                            "      <td>0.412424</td>\n",
                            "      <td>0.118703</td>\n",
                            "      <td>0.870633</td>\n",
                            "      <td>0.706053</td>\n",
                            "      <td>0.348975</td>\n",
                            "    </tr>\n",
                            "    <tr>\n",
                            "      <th>6</th>\n",
                            "      <td>0.754613</td>\n",
                            "      <td>0.874771</td>\n",
                            "      <td>0.646613</td>\n",
                            "      <td>0.017397</td>\n",
                            "      <td>0.824654</td>\n",
                            "    </tr>\n",
                            "    <tr>\n",
                            "      <th>7</th>\n",
                            "      <td>0.666065</td>\n",
                            "      <td>0.514127</td>\n",
                            "      <td>0.090559</td>\n",
                            "      <td>0.789936</td>\n",
                            "      <td>0.540167</td>\n",
                            "    </tr>\n",
                            "    <tr>\n",
                            "      <th>9</th>\n",
                            "      <td>0.471563</td>\n",
                            "      <td>0.273186</td>\n",
                            "      <td>0.703946</td>\n",
                            "      <td>0.830364</td>\n",
                            "      <td>0.532951</td>\n",
                            "    </tr>\n",
                            "  </tbody>\n",
                            "</table>\n",
                            "</div>"
                        ]
                    },
                    "metadata": {},
                    "execution_count": 331
                }
            ],
            "metadata": {}
        },
        {
            "cell_type": "code",
            "execution_count": 332,
            "source": [
                "dfDF.loc[(dfDF[\"A\"]> 0.3),\"A\"]"
            ],
            "outputs": [
                {
                    "output_type": "execute_result",
                    "data": {
                        "text/plain": [
                            "1    0.330156\n",
                            "2    0.551414\n",
                            "3    0.328301\n",
                            "4    0.412424\n",
                            "6    0.754613\n",
                            "7    0.666065\n",
                            "9    0.471563\n",
                            "Name: A, dtype: float64"
                        ]
                    },
                    "metadata": {},
                    "execution_count": 332
                }
            ],
            "metadata": {}
        },
        {
            "cell_type": "code",
            "execution_count": 333,
            "source": [
                "dfDF.loc[(dfDF[\"A\"]> 0.3) & (dfDF[\"B\"]> 0.3) ]"
            ],
            "outputs": [
                {
                    "output_type": "execute_result",
                    "data": {
                        "text/plain": [
                            "          A         B         C         D         E\n",
                            "1  0.330156  0.477812  0.468142  0.861413  0.059388\n",
                            "2  0.551414  0.952523  0.734835  0.497721  0.719725\n",
                            "6  0.754613  0.874771  0.646613  0.017397  0.824654\n",
                            "7  0.666065  0.514127  0.090559  0.789936  0.540167"
                        ],
                        "text/html": [
                            "<div>\n",
                            "<style scoped>\n",
                            "    .dataframe tbody tr th:only-of-type {\n",
                            "        vertical-align: middle;\n",
                            "    }\n",
                            "\n",
                            "    .dataframe tbody tr th {\n",
                            "        vertical-align: top;\n",
                            "    }\n",
                            "\n",
                            "    .dataframe thead th {\n",
                            "        text-align: right;\n",
                            "    }\n",
                            "</style>\n",
                            "<table border=\"1\" class=\"dataframe\">\n",
                            "  <thead>\n",
                            "    <tr style=\"text-align: right;\">\n",
                            "      <th></th>\n",
                            "      <th>A</th>\n",
                            "      <th>B</th>\n",
                            "      <th>C</th>\n",
                            "      <th>D</th>\n",
                            "      <th>E</th>\n",
                            "    </tr>\n",
                            "  </thead>\n",
                            "  <tbody>\n",
                            "    <tr>\n",
                            "      <th>1</th>\n",
                            "      <td>0.330156</td>\n",
                            "      <td>0.477812</td>\n",
                            "      <td>0.468142</td>\n",
                            "      <td>0.861413</td>\n",
                            "      <td>0.059388</td>\n",
                            "    </tr>\n",
                            "    <tr>\n",
                            "      <th>2</th>\n",
                            "      <td>0.551414</td>\n",
                            "      <td>0.952523</td>\n",
                            "      <td>0.734835</td>\n",
                            "      <td>0.497721</td>\n",
                            "      <td>0.719725</td>\n",
                            "    </tr>\n",
                            "    <tr>\n",
                            "      <th>6</th>\n",
                            "      <td>0.754613</td>\n",
                            "      <td>0.874771</td>\n",
                            "      <td>0.646613</td>\n",
                            "      <td>0.017397</td>\n",
                            "      <td>0.824654</td>\n",
                            "    </tr>\n",
                            "    <tr>\n",
                            "      <th>7</th>\n",
                            "      <td>0.666065</td>\n",
                            "      <td>0.514127</td>\n",
                            "      <td>0.090559</td>\n",
                            "      <td>0.789936</td>\n",
                            "      <td>0.540167</td>\n",
                            "    </tr>\n",
                            "  </tbody>\n",
                            "</table>\n",
                            "</div>"
                        ]
                    },
                    "metadata": {},
                    "execution_count": 333
                }
            ],
            "metadata": {}
        },
        {
            "cell_type": "code",
            "execution_count": 334,
            "source": [
                "dfDF.iloc[[1, 3, 5, 7, 9], [1, 4]]"
            ],
            "outputs": [
                {
                    "output_type": "execute_result",
                    "data": {
                        "text/plain": [
                            "          B         E\n",
                            "1  0.477812  0.059388\n",
                            "3  0.230047  0.939424\n",
                            "5  0.890678  0.204236\n",
                            "7  0.514127  0.540167\n",
                            "9  0.273186  0.532951"
                        ],
                        "text/html": [
                            "<div>\n",
                            "<style scoped>\n",
                            "    .dataframe tbody tr th:only-of-type {\n",
                            "        vertical-align: middle;\n",
                            "    }\n",
                            "\n",
                            "    .dataframe tbody tr th {\n",
                            "        vertical-align: top;\n",
                            "    }\n",
                            "\n",
                            "    .dataframe thead th {\n",
                            "        text-align: right;\n",
                            "    }\n",
                            "</style>\n",
                            "<table border=\"1\" class=\"dataframe\">\n",
                            "  <thead>\n",
                            "    <tr style=\"text-align: right;\">\n",
                            "      <th></th>\n",
                            "      <th>B</th>\n",
                            "      <th>E</th>\n",
                            "    </tr>\n",
                            "  </thead>\n",
                            "  <tbody>\n",
                            "    <tr>\n",
                            "      <th>1</th>\n",
                            "      <td>0.477812</td>\n",
                            "      <td>0.059388</td>\n",
                            "    </tr>\n",
                            "    <tr>\n",
                            "      <th>3</th>\n",
                            "      <td>0.230047</td>\n",
                            "      <td>0.939424</td>\n",
                            "    </tr>\n",
                            "    <tr>\n",
                            "      <th>5</th>\n",
                            "      <td>0.890678</td>\n",
                            "      <td>0.204236</td>\n",
                            "    </tr>\n",
                            "    <tr>\n",
                            "      <th>7</th>\n",
                            "      <td>0.514127</td>\n",
                            "      <td>0.540167</td>\n",
                            "    </tr>\n",
                            "    <tr>\n",
                            "      <th>9</th>\n",
                            "      <td>0.273186</td>\n",
                            "      <td>0.532951</td>\n",
                            "    </tr>\n",
                            "  </tbody>\n",
                            "</table>\n",
                            "</div>"
                        ]
                    },
                    "metadata": {},
                    "execution_count": 334
                }
            ],
            "metadata": {}
        },
        {
            "cell_type": "markdown",
            "source": [
                "How To Reset index"
            ],
            "metadata": {}
        },
        {
            "cell_type": "code",
            "execution_count": 335,
            "source": [
                "dfDF.reset_index()"
            ],
            "outputs": [
                {
                    "output_type": "execute_result",
                    "data": {
                        "text/plain": [
                            "   index         A         B         C         D         E\n",
                            "0      0  0.253747  0.806744  0.688129  0.999000  0.906578\n",
                            "1      1  0.330156  0.477812  0.468142  0.861413  0.059388\n",
                            "2      2  0.551414  0.952523  0.734835  0.497721  0.719725\n",
                            "3      3  0.328301  0.230047  0.565169  0.023259  0.939424\n",
                            "4      4  0.412424  0.118703  0.870633  0.706053  0.348975\n",
                            "5      5  0.116088  0.890678  0.607386  0.890480  0.204236\n",
                            "6      6  0.754613  0.874771  0.646613  0.017397  0.824654\n",
                            "7      7  0.666065  0.514127  0.090559  0.789936  0.540167\n",
                            "8      8  0.218177  0.340925  0.117959  0.040148  0.897591\n",
                            "9      9  0.471563  0.273186  0.703946  0.830364  0.532951"
                        ],
                        "text/html": [
                            "<div>\n",
                            "<style scoped>\n",
                            "    .dataframe tbody tr th:only-of-type {\n",
                            "        vertical-align: middle;\n",
                            "    }\n",
                            "\n",
                            "    .dataframe tbody tr th {\n",
                            "        vertical-align: top;\n",
                            "    }\n",
                            "\n",
                            "    .dataframe thead th {\n",
                            "        text-align: right;\n",
                            "    }\n",
                            "</style>\n",
                            "<table border=\"1\" class=\"dataframe\">\n",
                            "  <thead>\n",
                            "    <tr style=\"text-align: right;\">\n",
                            "      <th></th>\n",
                            "      <th>index</th>\n",
                            "      <th>A</th>\n",
                            "      <th>B</th>\n",
                            "      <th>C</th>\n",
                            "      <th>D</th>\n",
                            "      <th>E</th>\n",
                            "    </tr>\n",
                            "  </thead>\n",
                            "  <tbody>\n",
                            "    <tr>\n",
                            "      <th>0</th>\n",
                            "      <td>0</td>\n",
                            "      <td>0.253747</td>\n",
                            "      <td>0.806744</td>\n",
                            "      <td>0.688129</td>\n",
                            "      <td>0.999000</td>\n",
                            "      <td>0.906578</td>\n",
                            "    </tr>\n",
                            "    <tr>\n",
                            "      <th>1</th>\n",
                            "      <td>1</td>\n",
                            "      <td>0.330156</td>\n",
                            "      <td>0.477812</td>\n",
                            "      <td>0.468142</td>\n",
                            "      <td>0.861413</td>\n",
                            "      <td>0.059388</td>\n",
                            "    </tr>\n",
                            "    <tr>\n",
                            "      <th>2</th>\n",
                            "      <td>2</td>\n",
                            "      <td>0.551414</td>\n",
                            "      <td>0.952523</td>\n",
                            "      <td>0.734835</td>\n",
                            "      <td>0.497721</td>\n",
                            "      <td>0.719725</td>\n",
                            "    </tr>\n",
                            "    <tr>\n",
                            "      <th>3</th>\n",
                            "      <td>3</td>\n",
                            "      <td>0.328301</td>\n",
                            "      <td>0.230047</td>\n",
                            "      <td>0.565169</td>\n",
                            "      <td>0.023259</td>\n",
                            "      <td>0.939424</td>\n",
                            "    </tr>\n",
                            "    <tr>\n",
                            "      <th>4</th>\n",
                            "      <td>4</td>\n",
                            "      <td>0.412424</td>\n",
                            "      <td>0.118703</td>\n",
                            "      <td>0.870633</td>\n",
                            "      <td>0.706053</td>\n",
                            "      <td>0.348975</td>\n",
                            "    </tr>\n",
                            "    <tr>\n",
                            "      <th>5</th>\n",
                            "      <td>5</td>\n",
                            "      <td>0.116088</td>\n",
                            "      <td>0.890678</td>\n",
                            "      <td>0.607386</td>\n",
                            "      <td>0.890480</td>\n",
                            "      <td>0.204236</td>\n",
                            "    </tr>\n",
                            "    <tr>\n",
                            "      <th>6</th>\n",
                            "      <td>6</td>\n",
                            "      <td>0.754613</td>\n",
                            "      <td>0.874771</td>\n",
                            "      <td>0.646613</td>\n",
                            "      <td>0.017397</td>\n",
                            "      <td>0.824654</td>\n",
                            "    </tr>\n",
                            "    <tr>\n",
                            "      <th>7</th>\n",
                            "      <td>7</td>\n",
                            "      <td>0.666065</td>\n",
                            "      <td>0.514127</td>\n",
                            "      <td>0.090559</td>\n",
                            "      <td>0.789936</td>\n",
                            "      <td>0.540167</td>\n",
                            "    </tr>\n",
                            "    <tr>\n",
                            "      <th>8</th>\n",
                            "      <td>8</td>\n",
                            "      <td>0.218177</td>\n",
                            "      <td>0.340925</td>\n",
                            "      <td>0.117959</td>\n",
                            "      <td>0.040148</td>\n",
                            "      <td>0.897591</td>\n",
                            "    </tr>\n",
                            "    <tr>\n",
                            "      <th>9</th>\n",
                            "      <td>9</td>\n",
                            "      <td>0.471563</td>\n",
                            "      <td>0.273186</td>\n",
                            "      <td>0.703946</td>\n",
                            "      <td>0.830364</td>\n",
                            "      <td>0.532951</td>\n",
                            "    </tr>\n",
                            "  </tbody>\n",
                            "</table>\n",
                            "</div>"
                        ]
                    },
                    "metadata": {},
                    "execution_count": 335
                }
            ],
            "metadata": {}
        },
        {
            "cell_type": "code",
            "execution_count": 336,
            "source": [
                "dfDF.reset_index(drop= True)"
            ],
            "outputs": [
                {
                    "output_type": "execute_result",
                    "data": {
                        "text/plain": [
                            "          A         B         C         D         E\n",
                            "0  0.253747  0.806744  0.688129  0.999000  0.906578\n",
                            "1  0.330156  0.477812  0.468142  0.861413  0.059388\n",
                            "2  0.551414  0.952523  0.734835  0.497721  0.719725\n",
                            "3  0.328301  0.230047  0.565169  0.023259  0.939424\n",
                            "4  0.412424  0.118703  0.870633  0.706053  0.348975\n",
                            "5  0.116088  0.890678  0.607386  0.890480  0.204236\n",
                            "6  0.754613  0.874771  0.646613  0.017397  0.824654\n",
                            "7  0.666065  0.514127  0.090559  0.789936  0.540167\n",
                            "8  0.218177  0.340925  0.117959  0.040148  0.897591\n",
                            "9  0.471563  0.273186  0.703946  0.830364  0.532951"
                        ],
                        "text/html": [
                            "<div>\n",
                            "<style scoped>\n",
                            "    .dataframe tbody tr th:only-of-type {\n",
                            "        vertical-align: middle;\n",
                            "    }\n",
                            "\n",
                            "    .dataframe tbody tr th {\n",
                            "        vertical-align: top;\n",
                            "    }\n",
                            "\n",
                            "    .dataframe thead th {\n",
                            "        text-align: right;\n",
                            "    }\n",
                            "</style>\n",
                            "<table border=\"1\" class=\"dataframe\">\n",
                            "  <thead>\n",
                            "    <tr style=\"text-align: right;\">\n",
                            "      <th></th>\n",
                            "      <th>A</th>\n",
                            "      <th>B</th>\n",
                            "      <th>C</th>\n",
                            "      <th>D</th>\n",
                            "      <th>E</th>\n",
                            "    </tr>\n",
                            "  </thead>\n",
                            "  <tbody>\n",
                            "    <tr>\n",
                            "      <th>0</th>\n",
                            "      <td>0.253747</td>\n",
                            "      <td>0.806744</td>\n",
                            "      <td>0.688129</td>\n",
                            "      <td>0.999000</td>\n",
                            "      <td>0.906578</td>\n",
                            "    </tr>\n",
                            "    <tr>\n",
                            "      <th>1</th>\n",
                            "      <td>0.330156</td>\n",
                            "      <td>0.477812</td>\n",
                            "      <td>0.468142</td>\n",
                            "      <td>0.861413</td>\n",
                            "      <td>0.059388</td>\n",
                            "    </tr>\n",
                            "    <tr>\n",
                            "      <th>2</th>\n",
                            "      <td>0.551414</td>\n",
                            "      <td>0.952523</td>\n",
                            "      <td>0.734835</td>\n",
                            "      <td>0.497721</td>\n",
                            "      <td>0.719725</td>\n",
                            "    </tr>\n",
                            "    <tr>\n",
                            "      <th>3</th>\n",
                            "      <td>0.328301</td>\n",
                            "      <td>0.230047</td>\n",
                            "      <td>0.565169</td>\n",
                            "      <td>0.023259</td>\n",
                            "      <td>0.939424</td>\n",
                            "    </tr>\n",
                            "    <tr>\n",
                            "      <th>4</th>\n",
                            "      <td>0.412424</td>\n",
                            "      <td>0.118703</td>\n",
                            "      <td>0.870633</td>\n",
                            "      <td>0.706053</td>\n",
                            "      <td>0.348975</td>\n",
                            "    </tr>\n",
                            "    <tr>\n",
                            "      <th>5</th>\n",
                            "      <td>0.116088</td>\n",
                            "      <td>0.890678</td>\n",
                            "      <td>0.607386</td>\n",
                            "      <td>0.890480</td>\n",
                            "      <td>0.204236</td>\n",
                            "    </tr>\n",
                            "    <tr>\n",
                            "      <th>6</th>\n",
                            "      <td>0.754613</td>\n",
                            "      <td>0.874771</td>\n",
                            "      <td>0.646613</td>\n",
                            "      <td>0.017397</td>\n",
                            "      <td>0.824654</td>\n",
                            "    </tr>\n",
                            "    <tr>\n",
                            "      <th>7</th>\n",
                            "      <td>0.666065</td>\n",
                            "      <td>0.514127</td>\n",
                            "      <td>0.090559</td>\n",
                            "      <td>0.789936</td>\n",
                            "      <td>0.540167</td>\n",
                            "    </tr>\n",
                            "    <tr>\n",
                            "      <th>8</th>\n",
                            "      <td>0.218177</td>\n",
                            "      <td>0.340925</td>\n",
                            "      <td>0.117959</td>\n",
                            "      <td>0.040148</td>\n",
                            "      <td>0.897591</td>\n",
                            "    </tr>\n",
                            "    <tr>\n",
                            "      <th>9</th>\n",
                            "      <td>0.471563</td>\n",
                            "      <td>0.273186</td>\n",
                            "      <td>0.703946</td>\n",
                            "      <td>0.830364</td>\n",
                            "      <td>0.532951</td>\n",
                            "    </tr>\n",
                            "  </tbody>\n",
                            "</table>\n",
                            "</div>"
                        ]
                    },
                    "metadata": {},
                    "execution_count": 336
                }
            ],
            "metadata": {}
        },
        {
            "cell_type": "code",
            "execution_count": 337,
            "source": [
                "df2=pd.DataFrame({\"name\": ['Alfred', 'Batman', 'Catwoman'],\r\n",
                "                   \"toy\": [np.nan, 'Batmobile', 'Bullwhip'],\r\n",
                "                   \"born\": [pd.NaT, pd.Timestamp(\"1940-04-25\"),\r\n",
                "                            pd.NaT]})\r\n",
                "df2"
            ],
            "outputs": [
                {
                    "output_type": "execute_result",
                    "data": {
                        "text/plain": [
                            "       name        toy       born\n",
                            "0    Alfred        NaN        NaT\n",
                            "1    Batman  Batmobile 1940-04-25\n",
                            "2  Catwoman   Bullwhip        NaT"
                        ],
                        "text/html": [
                            "<div>\n",
                            "<style scoped>\n",
                            "    .dataframe tbody tr th:only-of-type {\n",
                            "        vertical-align: middle;\n",
                            "    }\n",
                            "\n",
                            "    .dataframe tbody tr th {\n",
                            "        vertical-align: top;\n",
                            "    }\n",
                            "\n",
                            "    .dataframe thead th {\n",
                            "        text-align: right;\n",
                            "    }\n",
                            "</style>\n",
                            "<table border=\"1\" class=\"dataframe\">\n",
                            "  <thead>\n",
                            "    <tr style=\"text-align: right;\">\n",
                            "      <th></th>\n",
                            "      <th>name</th>\n",
                            "      <th>toy</th>\n",
                            "      <th>born</th>\n",
                            "    </tr>\n",
                            "  </thead>\n",
                            "  <tbody>\n",
                            "    <tr>\n",
                            "      <th>0</th>\n",
                            "      <td>Alfred</td>\n",
                            "      <td>NaN</td>\n",
                            "      <td>NaT</td>\n",
                            "    </tr>\n",
                            "    <tr>\n",
                            "      <th>1</th>\n",
                            "      <td>Batman</td>\n",
                            "      <td>Batmobile</td>\n",
                            "      <td>1940-04-25</td>\n",
                            "    </tr>\n",
                            "    <tr>\n",
                            "      <th>2</th>\n",
                            "      <td>Catwoman</td>\n",
                            "      <td>Bullwhip</td>\n",
                            "      <td>NaT</td>\n",
                            "    </tr>\n",
                            "  </tbody>\n",
                            "</table>\n",
                            "</div>"
                        ]
                    },
                    "metadata": {},
                    "execution_count": 337
                }
            ],
            "metadata": {}
        },
        {
            "cell_type": "markdown",
            "source": [
                "How To Drop Null Values"
            ],
            "metadata": {}
        },
        {
            "cell_type": "code",
            "execution_count": 338,
            "source": [
                "df2.dropna()"
            ],
            "outputs": [
                {
                    "output_type": "execute_result",
                    "data": {
                        "text/plain": [
                            "     name        toy       born\n",
                            "1  Batman  Batmobile 1940-04-25"
                        ],
                        "text/html": [
                            "<div>\n",
                            "<style scoped>\n",
                            "    .dataframe tbody tr th:only-of-type {\n",
                            "        vertical-align: middle;\n",
                            "    }\n",
                            "\n",
                            "    .dataframe tbody tr th {\n",
                            "        vertical-align: top;\n",
                            "    }\n",
                            "\n",
                            "    .dataframe thead th {\n",
                            "        text-align: right;\n",
                            "    }\n",
                            "</style>\n",
                            "<table border=\"1\" class=\"dataframe\">\n",
                            "  <thead>\n",
                            "    <tr style=\"text-align: right;\">\n",
                            "      <th></th>\n",
                            "      <th>name</th>\n",
                            "      <th>toy</th>\n",
                            "      <th>born</th>\n",
                            "    </tr>\n",
                            "  </thead>\n",
                            "  <tbody>\n",
                            "    <tr>\n",
                            "      <th>1</th>\n",
                            "      <td>Batman</td>\n",
                            "      <td>Batmobile</td>\n",
                            "      <td>1940-04-25</td>\n",
                            "    </tr>\n",
                            "  </tbody>\n",
                            "</table>\n",
                            "</div>"
                        ]
                    },
                    "metadata": {},
                    "execution_count": 338
                }
            ],
            "metadata": {}
        },
        {
            "cell_type": "markdown",
            "source": [
                "How To Drop duplicates"
            ],
            "metadata": {}
        },
        {
            "cell_type": "code",
            "execution_count": 339,
            "source": [
                "df3=pd.DataFrame({\"name\": ['Alfred', 'Batman', 'Alfred'],\r\n",
                "                   \"toy\": [np.nan, 'Batmobile', 'Bullwhip'],\r\n",
                "                   \"born\": [pd.NaT, pd.Timestamp(\"1940-04-25\"),\r\n",
                "                            pd.NaT]})\r\n",
                "df3"
            ],
            "outputs": [
                {
                    "output_type": "execute_result",
                    "data": {
                        "text/plain": [
                            "     name        toy       born\n",
                            "0  Alfred        NaN        NaT\n",
                            "1  Batman  Batmobile 1940-04-25\n",
                            "2  Alfred   Bullwhip        NaT"
                        ],
                        "text/html": [
                            "<div>\n",
                            "<style scoped>\n",
                            "    .dataframe tbody tr th:only-of-type {\n",
                            "        vertical-align: middle;\n",
                            "    }\n",
                            "\n",
                            "    .dataframe tbody tr th {\n",
                            "        vertical-align: top;\n",
                            "    }\n",
                            "\n",
                            "    .dataframe thead th {\n",
                            "        text-align: right;\n",
                            "    }\n",
                            "</style>\n",
                            "<table border=\"1\" class=\"dataframe\">\n",
                            "  <thead>\n",
                            "    <tr style=\"text-align: right;\">\n",
                            "      <th></th>\n",
                            "      <th>name</th>\n",
                            "      <th>toy</th>\n",
                            "      <th>born</th>\n",
                            "    </tr>\n",
                            "  </thead>\n",
                            "  <tbody>\n",
                            "    <tr>\n",
                            "      <th>0</th>\n",
                            "      <td>Alfred</td>\n",
                            "      <td>NaN</td>\n",
                            "      <td>NaT</td>\n",
                            "    </tr>\n",
                            "    <tr>\n",
                            "      <th>1</th>\n",
                            "      <td>Batman</td>\n",
                            "      <td>Batmobile</td>\n",
                            "      <td>1940-04-25</td>\n",
                            "    </tr>\n",
                            "    <tr>\n",
                            "      <th>2</th>\n",
                            "      <td>Alfred</td>\n",
                            "      <td>Bullwhip</td>\n",
                            "      <td>NaT</td>\n",
                            "    </tr>\n",
                            "  </tbody>\n",
                            "</table>\n",
                            "</div>"
                        ]
                    },
                    "metadata": {},
                    "execution_count": 339
                }
            ],
            "metadata": {}
        },
        {
            "cell_type": "code",
            "execution_count": 340,
            "source": [
                "df3.drop_duplicates(subset=[\"name\"])"
            ],
            "outputs": [
                {
                    "output_type": "execute_result",
                    "data": {
                        "text/plain": [
                            "     name        toy       born\n",
                            "0  Alfred        NaN        NaT\n",
                            "1  Batman  Batmobile 1940-04-25"
                        ],
                        "text/html": [
                            "<div>\n",
                            "<style scoped>\n",
                            "    .dataframe tbody tr th:only-of-type {\n",
                            "        vertical-align: middle;\n",
                            "    }\n",
                            "\n",
                            "    .dataframe tbody tr th {\n",
                            "        vertical-align: top;\n",
                            "    }\n",
                            "\n",
                            "    .dataframe thead th {\n",
                            "        text-align: right;\n",
                            "    }\n",
                            "</style>\n",
                            "<table border=\"1\" class=\"dataframe\">\n",
                            "  <thead>\n",
                            "    <tr style=\"text-align: right;\">\n",
                            "      <th></th>\n",
                            "      <th>name</th>\n",
                            "      <th>toy</th>\n",
                            "      <th>born</th>\n",
                            "    </tr>\n",
                            "  </thead>\n",
                            "  <tbody>\n",
                            "    <tr>\n",
                            "      <th>0</th>\n",
                            "      <td>Alfred</td>\n",
                            "      <td>NaN</td>\n",
                            "      <td>NaT</td>\n",
                            "    </tr>\n",
                            "    <tr>\n",
                            "      <th>1</th>\n",
                            "      <td>Batman</td>\n",
                            "      <td>Batmobile</td>\n",
                            "      <td>1940-04-25</td>\n",
                            "    </tr>\n",
                            "  </tbody>\n",
                            "</table>\n",
                            "</div>"
                        ]
                    },
                    "metadata": {},
                    "execution_count": 340
                }
            ],
            "metadata": {}
        },
        {
            "cell_type": "markdown",
            "source": [
                "How To Count Unique Values"
            ],
            "metadata": {}
        },
        {
            "cell_type": "code",
            "execution_count": 342,
            "source": [
                "df3[\"born\"].value_counts(dropna=False)"
            ],
            "outputs": [
                {
                    "output_type": "execute_result",
                    "data": {
                        "text/plain": [
                            "NaT           2\n",
                            "1940-04-25    1\n",
                            "Name: born, dtype: int64"
                        ]
                    },
                    "metadata": {},
                    "execution_count": 342
                }
            ],
            "metadata": {}
        },
        {
            "cell_type": "code",
            "execution_count": null,
            "source": [],
            "outputs": [],
            "metadata": {}
        }
    ],
    "metadata": {
        "orig_nbformat": 4,
        "language_info": {
            "name": "python",
            "version": "3.9.6",
            "mimetype": "text/x-python",
            "codemirror_mode": {
                "name": "ipython",
                "version": 3
            },
            "pygments_lexer": "ipython3",
            "nbconvert_exporter": "python",
            "file_extension": ".py"
        },
        "kernelspec": {
            "name": "python3",
            "display_name": "Python 3.9.6 64-bit"
        },
        "interpreter": {
            "hash": "edd2ff9b20c78bd684683d48c47748f3e0d3f18f4880742b4c8a7e67c294ce6c"
        }
    },
    "nbformat": 4,
    "nbformat_minor": 2
}