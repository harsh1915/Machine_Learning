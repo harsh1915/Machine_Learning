{
    "cells": [
        {
            "cell_type": "code",
            "execution_count": 11,
            "source": [
                "import pandas as pd"
            ],
            "outputs": [],
            "metadata": {}
        },
        {
            "cell_type": "code",
            "execution_count": 12,
            "source": [
                "df= pd.read_csv(\"drinks.csv\")\r\n",
                "df"
            ],
            "outputs": [
                {
                    "output_type": "execute_result",
                    "data": {
                        "text/plain": [
                            "         country  beer_servings  spirit_servings  wine_servings  \\\n",
                            "0    Afghanistan              0                0              0   \n",
                            "1        Albania             89              132             54   \n",
                            "2        Algeria             25                0             14   \n",
                            "3        Andorra            245              138            312   \n",
                            "4         Angola            217               57             45   \n",
                            "..           ...            ...              ...            ...   \n",
                            "188    Venezuela            333              100              3   \n",
                            "189      Vietnam            111                2              1   \n",
                            "190        Yemen              6                0              0   \n",
                            "191       Zambia             32               19              4   \n",
                            "192     Zimbabwe             64               18              4   \n",
                            "\n",
                            "     total_litres_of_pure_alcohol      continent  \n",
                            "0                             0.0           Asia  \n",
                            "1                             4.9         Europe  \n",
                            "2                             0.7         Africa  \n",
                            "3                            12.4         Europe  \n",
                            "4                             5.9         Africa  \n",
                            "..                            ...            ...  \n",
                            "188                           7.7  South America  \n",
                            "189                           2.0           Asia  \n",
                            "190                           0.1           Asia  \n",
                            "191                           2.5         Africa  \n",
                            "192                           4.7         Africa  \n",
                            "\n",
                            "[193 rows x 6 columns]"
                        ],
                        "text/html": [
                            "<div>\n",
                            "<style scoped>\n",
                            "    .dataframe tbody tr th:only-of-type {\n",
                            "        vertical-align: middle;\n",
                            "    }\n",
                            "\n",
                            "    .dataframe tbody tr th {\n",
                            "        vertical-align: top;\n",
                            "    }\n",
                            "\n",
                            "    .dataframe thead th {\n",
                            "        text-align: right;\n",
                            "    }\n",
                            "</style>\n",
                            "<table border=\"1\" class=\"dataframe\">\n",
                            "  <thead>\n",
                            "    <tr style=\"text-align: right;\">\n",
                            "      <th></th>\n",
                            "      <th>country</th>\n",
                            "      <th>beer_servings</th>\n",
                            "      <th>spirit_servings</th>\n",
                            "      <th>wine_servings</th>\n",
                            "      <th>total_litres_of_pure_alcohol</th>\n",
                            "      <th>continent</th>\n",
                            "    </tr>\n",
                            "  </thead>\n",
                            "  <tbody>\n",
                            "    <tr>\n",
                            "      <th>0</th>\n",
                            "      <td>Afghanistan</td>\n",
                            "      <td>0</td>\n",
                            "      <td>0</td>\n",
                            "      <td>0</td>\n",
                            "      <td>0.0</td>\n",
                            "      <td>Asia</td>\n",
                            "    </tr>\n",
                            "    <tr>\n",
                            "      <th>1</th>\n",
                            "      <td>Albania</td>\n",
                            "      <td>89</td>\n",
                            "      <td>132</td>\n",
                            "      <td>54</td>\n",
                            "      <td>4.9</td>\n",
                            "      <td>Europe</td>\n",
                            "    </tr>\n",
                            "    <tr>\n",
                            "      <th>2</th>\n",
                            "      <td>Algeria</td>\n",
                            "      <td>25</td>\n",
                            "      <td>0</td>\n",
                            "      <td>14</td>\n",
                            "      <td>0.7</td>\n",
                            "      <td>Africa</td>\n",
                            "    </tr>\n",
                            "    <tr>\n",
                            "      <th>3</th>\n",
                            "      <td>Andorra</td>\n",
                            "      <td>245</td>\n",
                            "      <td>138</td>\n",
                            "      <td>312</td>\n",
                            "      <td>12.4</td>\n",
                            "      <td>Europe</td>\n",
                            "    </tr>\n",
                            "    <tr>\n",
                            "      <th>4</th>\n",
                            "      <td>Angola</td>\n",
                            "      <td>217</td>\n",
                            "      <td>57</td>\n",
                            "      <td>45</td>\n",
                            "      <td>5.9</td>\n",
                            "      <td>Africa</td>\n",
                            "    </tr>\n",
                            "    <tr>\n",
                            "      <th>...</th>\n",
                            "      <td>...</td>\n",
                            "      <td>...</td>\n",
                            "      <td>...</td>\n",
                            "      <td>...</td>\n",
                            "      <td>...</td>\n",
                            "      <td>...</td>\n",
                            "    </tr>\n",
                            "    <tr>\n",
                            "      <th>188</th>\n",
                            "      <td>Venezuela</td>\n",
                            "      <td>333</td>\n",
                            "      <td>100</td>\n",
                            "      <td>3</td>\n",
                            "      <td>7.7</td>\n",
                            "      <td>South America</td>\n",
                            "    </tr>\n",
                            "    <tr>\n",
                            "      <th>189</th>\n",
                            "      <td>Vietnam</td>\n",
                            "      <td>111</td>\n",
                            "      <td>2</td>\n",
                            "      <td>1</td>\n",
                            "      <td>2.0</td>\n",
                            "      <td>Asia</td>\n",
                            "    </tr>\n",
                            "    <tr>\n",
                            "      <th>190</th>\n",
                            "      <td>Yemen</td>\n",
                            "      <td>6</td>\n",
                            "      <td>0</td>\n",
                            "      <td>0</td>\n",
                            "      <td>0.1</td>\n",
                            "      <td>Asia</td>\n",
                            "    </tr>\n",
                            "    <tr>\n",
                            "      <th>191</th>\n",
                            "      <td>Zambia</td>\n",
                            "      <td>32</td>\n",
                            "      <td>19</td>\n",
                            "      <td>4</td>\n",
                            "      <td>2.5</td>\n",
                            "      <td>Africa</td>\n",
                            "    </tr>\n",
                            "    <tr>\n",
                            "      <th>192</th>\n",
                            "      <td>Zimbabwe</td>\n",
                            "      <td>64</td>\n",
                            "      <td>18</td>\n",
                            "      <td>4</td>\n",
                            "      <td>4.7</td>\n",
                            "      <td>Africa</td>\n",
                            "    </tr>\n",
                            "  </tbody>\n",
                            "</table>\n",
                            "<p>193 rows × 6 columns</p>\n",
                            "</div>"
                        ]
                    },
                    "metadata": {},
                    "execution_count": 12
                }
            ],
            "metadata": {}
        },
        {
            "cell_type": "code",
            "execution_count": 13,
            "source": [
                "import os"
            ],
            "outputs": [],
            "metadata": {}
        },
        {
            "cell_type": "code",
            "execution_count": 14,
            "source": [
                "print(os.getcwd())"
            ],
            "outputs": [
                {
                    "output_type": "stream",
                    "name": "stdout",
                    "text": [
                        "c:\\Users\\PRIYANSHI\\Desktop\\ML\\Test_Pro\\Pandas\\AI\\Pro\n"
                    ]
                }
            ],
            "metadata": {}
        },
        {
            "cell_type": "code",
            "execution_count": null,
            "source": [],
            "outputs": [],
            "metadata": {}
        }
    ],
    "metadata": {
        "orig_nbformat": 4,
        "language_info": {
            "name": "python",
            "version": "3.9.6",
            "mimetype": "text/x-python",
            "codemirror_mode": {
                "name": "ipython",
                "version": 3
            },
            "pygments_lexer": "ipython3",
            "nbconvert_exporter": "python",
            "file_extension": ".py"
        },
        "kernelspec": {
            "name": "python3",
            "display_name": "Python 3.9.6 64-bit"
        },
        "interpreter": {
            "hash": "edd2ff9b20c78bd684683d48c47748f3e0d3f18f4880742b4c8a7e67c294ce6c"
        }
    },
    "nbformat": 4,
    "nbformat_minor": 2
}